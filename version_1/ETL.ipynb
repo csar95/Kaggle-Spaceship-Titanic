{
 "cells": [
  {
   "cell_type": "code",
   "execution_count": 1,
   "id": "5d2bc54d-05a3-4902-aedd-ee414a44c0dc",
   "metadata": {},
   "outputs": [],
   "source": [
    "import pandas as pd\n",
    "pd.set_option('display.max_rows', None)\n",
    "import numpy as np"
   ]
  },
  {
   "cell_type": "markdown",
   "id": "6c42076c-3f2f-402a-b4de-2003a1c0fe2b",
   "metadata": {},
   "source": [
    "# Carga de datos"
   ]
  },
  {
   "cell_type": "code",
   "execution_count": 2,
   "id": "9fbc19d0-f407-4d13-bcb2-9f772f469309",
   "metadata": {},
   "outputs": [
    {
     "name": "stdout",
     "output_type": "stream",
     "text": [
      "(8693, 14)\n"
     ]
    },
    {
     "data": {
      "text/html": [
       "<div>\n",
       "<style scoped>\n",
       "    .dataframe tbody tr th:only-of-type {\n",
       "        vertical-align: middle;\n",
       "    }\n",
       "\n",
       "    .dataframe tbody tr th {\n",
       "        vertical-align: top;\n",
       "    }\n",
       "\n",
       "    .dataframe thead th {\n",
       "        text-align: right;\n",
       "    }\n",
       "</style>\n",
       "<table border=\"1\" class=\"dataframe\">\n",
       "  <thead>\n",
       "    <tr style=\"text-align: right;\">\n",
       "      <th></th>\n",
       "      <th>PassengerId</th>\n",
       "      <th>HomePlanet</th>\n",
       "      <th>CryoSleep</th>\n",
       "      <th>Cabin</th>\n",
       "      <th>Destination</th>\n",
       "      <th>Age</th>\n",
       "      <th>VIP</th>\n",
       "      <th>RoomService</th>\n",
       "      <th>FoodCourt</th>\n",
       "      <th>ShoppingMall</th>\n",
       "      <th>Spa</th>\n",
       "      <th>VRDeck</th>\n",
       "      <th>Name</th>\n",
       "      <th>Transported</th>\n",
       "    </tr>\n",
       "  </thead>\n",
       "  <tbody>\n",
       "    <tr>\n",
       "      <th>0</th>\n",
       "      <td>0001_01</td>\n",
       "      <td>Europa</td>\n",
       "      <td>False</td>\n",
       "      <td>B/0/P</td>\n",
       "      <td>TRAPPIST-1e</td>\n",
       "      <td>39.0</td>\n",
       "      <td>False</td>\n",
       "      <td>0.0</td>\n",
       "      <td>0.0</td>\n",
       "      <td>0.0</td>\n",
       "      <td>0.0</td>\n",
       "      <td>0.0</td>\n",
       "      <td>Maham Ofracculy</td>\n",
       "      <td>False</td>\n",
       "    </tr>\n",
       "    <tr>\n",
       "      <th>1</th>\n",
       "      <td>0002_01</td>\n",
       "      <td>Earth</td>\n",
       "      <td>False</td>\n",
       "      <td>F/0/S</td>\n",
       "      <td>TRAPPIST-1e</td>\n",
       "      <td>24.0</td>\n",
       "      <td>False</td>\n",
       "      <td>109.0</td>\n",
       "      <td>9.0</td>\n",
       "      <td>25.0</td>\n",
       "      <td>549.0</td>\n",
       "      <td>44.0</td>\n",
       "      <td>Juanna Vines</td>\n",
       "      <td>True</td>\n",
       "    </tr>\n",
       "    <tr>\n",
       "      <th>2</th>\n",
       "      <td>0003_01</td>\n",
       "      <td>Europa</td>\n",
       "      <td>False</td>\n",
       "      <td>A/0/S</td>\n",
       "      <td>TRAPPIST-1e</td>\n",
       "      <td>58.0</td>\n",
       "      <td>True</td>\n",
       "      <td>43.0</td>\n",
       "      <td>3576.0</td>\n",
       "      <td>0.0</td>\n",
       "      <td>6715.0</td>\n",
       "      <td>49.0</td>\n",
       "      <td>Altark Susent</td>\n",
       "      <td>False</td>\n",
       "    </tr>\n",
       "  </tbody>\n",
       "</table>\n",
       "</div>"
      ],
      "text/plain": [
       "  PassengerId HomePlanet CryoSleep  Cabin  Destination   Age    VIP  \\\n",
       "0     0001_01     Europa     False  B/0/P  TRAPPIST-1e  39.0  False   \n",
       "1     0002_01      Earth     False  F/0/S  TRAPPIST-1e  24.0  False   \n",
       "2     0003_01     Europa     False  A/0/S  TRAPPIST-1e  58.0   True   \n",
       "\n",
       "   RoomService  FoodCourt  ShoppingMall     Spa  VRDeck             Name  \\\n",
       "0          0.0        0.0           0.0     0.0     0.0  Maham Ofracculy   \n",
       "1        109.0        9.0          25.0   549.0    44.0     Juanna Vines   \n",
       "2         43.0     3576.0           0.0  6715.0    49.0    Altark Susent   \n",
       "\n",
       "   Transported  \n",
       "0        False  \n",
       "1         True  \n",
       "2        False  "
      ]
     },
     "execution_count": 2,
     "metadata": {},
     "output_type": "execute_result"
    }
   ],
   "source": [
    "train_data = pd.read_csv(\"../spaceship-titanic/train.csv\")\n",
    "print(train_data.shape)\n",
    "train_data.head(3)"
   ]
  },
  {
   "cell_type": "code",
   "execution_count": 3,
   "id": "e98c17b0-c939-4870-a195-7fb1a98f4b3d",
   "metadata": {},
   "outputs": [
    {
     "data": {
      "text/plain": [
       "(4277, 13)"
      ]
     },
     "execution_count": 3,
     "metadata": {},
     "output_type": "execute_result"
    }
   ],
   "source": [
    "test_data = pd.read_csv(\"../spaceship-titanic/test.csv\")\n",
    "test_data.shape"
   ]
  },
  {
   "cell_type": "code",
   "execution_count": 4,
   "id": "927f4af1-d957-4e44-bd9e-c8a6854f3086",
   "metadata": {},
   "outputs": [
    {
     "data": {
      "text/plain": [
       "(12970, 15)"
      ]
     },
     "execution_count": 4,
     "metadata": {},
     "output_type": "execute_result"
    }
   ],
   "source": [
    "train_data['Dataset'] = 'train'\n",
    "test_data['Dataset'] = 'test'\n",
    "data = pd.concat([train_data, test_data], ignore_index=True)\n",
    "data.shape"
   ]
  },
  {
   "cell_type": "code",
   "execution_count": 5,
   "id": "84ee19a8-acd8-475e-8c92-086b236b8e3d",
   "metadata": {},
   "outputs": [
    {
     "data": {
      "text/plain": [
       "PassengerId      object\n",
       "HomePlanet       object\n",
       "CryoSleep        object\n",
       "Cabin            object\n",
       "Destination      object\n",
       "Age             float64\n",
       "VIP              object\n",
       "RoomService     float64\n",
       "FoodCourt       float64\n",
       "ShoppingMall    float64\n",
       "Spa             float64\n",
       "VRDeck          float64\n",
       "Name             object\n",
       "Transported      object\n",
       "Dataset          object\n",
       "dtype: object"
      ]
     },
     "execution_count": 5,
     "metadata": {},
     "output_type": "execute_result"
    }
   ],
   "source": [
    "data.dtypes"
   ]
  },
  {
   "cell_type": "markdown",
   "id": "e37ba359-edd6-48c7-aab9-753c60a4f663",
   "metadata": {},
   "source": [
    "# ETL Process"
   ]
  },
  {
   "cell_type": "markdown",
   "id": "3a04b1be-be3e-4d0c-a1e3-513fcb2f7e5c",
   "metadata": {},
   "source": [
    "## Tamaño del grupo del pasajero"
   ]
  },
  {
   "cell_type": "code",
   "execution_count": 6,
   "id": "5191a8f6-f6f3-4cb6-bc24-e8b197a31cec",
   "metadata": {},
   "outputs": [],
   "source": [
    "passengersInfo = data.PassengerId.apply( lambda gggg_pp : pd.Series(index=['PassengerGroup','PassengerGroupNum'],\n",
    "                                                                    data=[gggg_pp.split('_')[0], gggg_pp.split('_')[1]]) )\n",
    "data = data.merge(passengersInfo, how='inner', left_index=True, right_index=True)"
   ]
  },
  {
   "cell_type": "code",
   "execution_count": 7,
   "id": "14d88f5b-1395-4081-920c-c91266c27240",
   "metadata": {},
   "outputs": [],
   "source": [
    "group_size = passengersInfo.groupby('PassengerGroup')[['PassengerGroupNum']].max().rename(columns={'PassengerGroupNum':'GroupSize'}).reset_index()\n",
    "group_size['GroupSize'] = group_size.GroupSize.astype('int')\n",
    "data = data.merge(group_size, how='left', on='PassengerGroup')\n",
    "data.drop(columns=['PassengerId','PassengerGroup','PassengerGroupNum'], inplace=True)"
   ]
  },
  {
   "cell_type": "code",
   "execution_count": 8,
   "id": "161ba629-8388-4518-aecf-b906bd232371",
   "metadata": {},
   "outputs": [
    {
     "data": {
      "text/plain": [
       "HomePlanet       object\n",
       "CryoSleep        object\n",
       "Cabin            object\n",
       "Destination      object\n",
       "Age             float64\n",
       "VIP              object\n",
       "RoomService     float64\n",
       "FoodCourt       float64\n",
       "ShoppingMall    float64\n",
       "Spa             float64\n",
       "VRDeck          float64\n",
       "Name             object\n",
       "Transported      object\n",
       "Dataset          object\n",
       "GroupSize         int64\n",
       "dtype: object"
      ]
     },
     "execution_count": 8,
     "metadata": {},
     "output_type": "execute_result"
    }
   ],
   "source": [
    "data.dtypes"
   ]
  },
  {
   "cell_type": "markdown",
   "id": "86121c9d-e527-41cd-955f-5079314f9340",
   "metadata": {},
   "source": [
    "## Nueva categoría para los nulos en `HomePlanet`"
   ]
  },
  {
   "cell_type": "code",
   "execution_count": 9,
   "id": "a04efe85-bf18-499b-a826-b49eaf4eeba3",
   "metadata": {},
   "outputs": [],
   "source": [
    "data.HomePlanet.fillna(\"Ns/Nc\", inplace=True)"
   ]
  },
  {
   "cell_type": "markdown",
   "id": "cc4121ad-7c03-464e-a36a-ba59fa99f93b",
   "metadata": {},
   "source": [
    "## Nueva categoría para los nulos en `CryoSleep`"
   ]
  },
  {
   "cell_type": "code",
   "execution_count": 10,
   "id": "7d41968d-3512-4954-94d8-677187538156",
   "metadata": {},
   "outputs": [],
   "source": [
    "data['CryoSleep'] = data.CryoSleep.astype('string').fillna('Ns/Nc')"
   ]
  },
  {
   "cell_type": "markdown",
   "id": "4638d876-bae6-470e-877b-e7d563dbe731",
   "metadata": {},
   "source": [
    "## Cabin deck and cabin side"
   ]
  },
  {
   "cell_type": "code",
   "execution_count": 11,
   "id": "834b44e4-7698-4184-8830-6de4663de7b7",
   "metadata": {},
   "outputs": [],
   "source": [
    "passengersInfo = data.Cabin.apply( lambda cabin : pd.Series(index=['CabinDeck','CabinSide'],\n",
    "                                                            data=[cabin.split('/')[0], cabin.split('/')[2]]) if pd.notna(cabin)\\\n",
    "                                   else pd.Series(index=['CabinDeck', 'CabinSide'], data=[\"Ns/Nc\",\"Ns/Nc\"]) )\n",
    "data = data.merge(passengersInfo, how='inner', left_index=True, right_index=True)\n",
    "data.drop(columns=['Cabin'], inplace=True)"
   ]
  },
  {
   "cell_type": "code",
   "execution_count": 12,
   "id": "f3787ce5-5cb3-4b76-968d-15d2d7ea14a7",
   "metadata": {},
   "outputs": [
    {
     "data": {
      "text/plain": [
       "HomePlanet       object\n",
       "CryoSleep        string\n",
       "Destination      object\n",
       "Age             float64\n",
       "VIP              object\n",
       "RoomService     float64\n",
       "FoodCourt       float64\n",
       "ShoppingMall    float64\n",
       "Spa             float64\n",
       "VRDeck          float64\n",
       "Name             object\n",
       "Transported      object\n",
       "Dataset          object\n",
       "GroupSize         int64\n",
       "CabinDeck        object\n",
       "CabinSide        object\n",
       "dtype: object"
      ]
     },
     "execution_count": 12,
     "metadata": {},
     "output_type": "execute_result"
    }
   ],
   "source": [
    "data.dtypes"
   ]
  },
  {
   "cell_type": "markdown",
   "id": "f21f05be-71cb-4a53-94af-5df183d8b131",
   "metadata": {},
   "source": [
    "## Nueva categoría para los nulos en `Destination`"
   ]
  },
  {
   "cell_type": "code",
   "execution_count": 13,
   "id": "bf778ffa-d05e-4924-adc0-d4b7aee999fa",
   "metadata": {},
   "outputs": [],
   "source": [
    "data.Destination.fillna(\"Ns/Nc\", inplace=True)"
   ]
  },
  {
   "cell_type": "markdown",
   "id": "0825b909-95ba-45ee-83ad-b5445ebc6a04",
   "metadata": {},
   "source": [
    "## Nueva categoría para los nulos en `VIP`"
   ]
  },
  {
   "cell_type": "code",
   "execution_count": 14,
   "id": "01344514-3e2b-452c-8d5e-002d410cdb3b",
   "metadata": {},
   "outputs": [],
   "source": [
    "data['VIP'] = data.VIP.astype('string').fillna('Ns/Nc')"
   ]
  },
  {
   "cell_type": "markdown",
   "id": "e885cf8e-58ae-48cd-ab23-a487866e385b",
   "metadata": {},
   "source": [
    "## Nivel de gasto total\n",
    "\n",
    "- Puede que sea suficiente tener una variable binaria que indique si un pasajero ha tenido gastos extra (`Expenses`).\n",
    "- También se podrían normalizar las variables de gastos extra por separado o binarizarlas."
   ]
  },
  {
   "cell_type": "code",
   "execution_count": 15,
   "id": "b3572d1e-b166-4cdd-a18d-e4e9ceb6c67e",
   "metadata": {},
   "outputs": [],
   "source": [
    "data['TotalExpenses'] = data[['RoomService','FoodCourt','ShoppingMall','Spa','VRDeck']].sum(axis=1)\n",
    "\n",
    "quantiles = data.loc[data.TotalExpenses!=0, 'TotalExpenses'].quantile([0.33, 0.66, 0.95]).values\n",
    "bins = np.append( np.insert(quantiles, 0, [0, 0.5]), np.inf )\n",
    "\n",
    "data['TotalExpensesBinarized'] = pd.cut(data.TotalExpenses, bins, include_lowest=True, labels=[\"ZERO\",\"LOW\",\"MEDIUM\",\"HIGH\",\"TOP\"])\n",
    "\n",
    "data.drop(columns=['RoomService','FoodCourt','ShoppingMall','Spa','VRDeck','TotalExpenses'], inplace=True)"
   ]
  },
  {
   "cell_type": "markdown",
   "id": "00d68f40-5337-44b4-a81e-203effffc829",
   "metadata": {},
   "source": [
    "## Rango de edad\n",
    "\n",
    "En primer lugar, calculamos la mediana de edad en función de la variable `TotalExpensesBinarized` para los pasajeros que no tienen la edad informada."
   ]
  },
  {
   "cell_type": "code",
   "execution_count": 16,
   "id": "13565529-41cb-42e7-b666-7f9157973824",
   "metadata": {},
   "outputs": [],
   "source": [
    "tmp = data.groupby('TotalExpensesBinarized')[['Age']].median().rename(columns={'Age':'AgeMedianByExpenses'})\n",
    "data = data.merge(tmp, how='left', on='TotalExpensesBinarized')\n",
    "data['Age'] = data.apply(lambda row : row.AgeMedianByExpenses if pd.isna(row.Age) else row.Age, axis=1)"
   ]
  },
  {
   "cell_type": "code",
   "execution_count": 17,
   "id": "202ada55-f708-4a1b-b65b-818b848ff597",
   "metadata": {},
   "outputs": [],
   "source": [
    "data['AgeBinarized'] = pd.cut(data.Age, bins=[-1, 15, 30, 45, 60, 75, np.inf], labels=[\"0-15\", \"16-30\", \"31-45\", \"46-60\", \"61-75\", \"76-?\"])\n",
    "data.drop(columns=['Age', 'AgeMedianByExpenses'], inplace=True)"
   ]
  },
  {
   "cell_type": "markdown",
   "id": "8890d84f-e1c8-4d5a-b4dc-436b8bf848b9",
   "metadata": {},
   "source": [
    "## Descartamos la variable `Name`"
   ]
  },
  {
   "cell_type": "code",
   "execution_count": 18,
   "id": "6e7a776e-f482-44a5-8289-deb893e89c32",
   "metadata": {},
   "outputs": [],
   "source": [
    "data.drop(columns=['Name'], inplace=True)"
   ]
  },
  {
   "cell_type": "markdown",
   "id": "3103aa07-6e26-4a3a-aa5a-bff1963d1d73",
   "metadata": {},
   "source": [
    "# Conjuntos de train y test"
   ]
  },
  {
   "cell_type": "code",
   "execution_count": 19,
   "id": "9ea0ab45-65ac-44d7-807b-7dee18e4aab2",
   "metadata": {},
   "outputs": [
    {
     "data": {
      "text/plain": [
       "((8693, 10), (4277, 10))"
      ]
     },
     "execution_count": 19,
     "metadata": {},
     "output_type": "execute_result"
    }
   ],
   "source": [
    "data_train = data[ data.Dataset=='train' ].drop(columns=['Dataset'])\n",
    "data_test = data[ data.Dataset=='test' ].drop(columns=['Dataset'])\n",
    "data_train.shape, data_test.shape"
   ]
  },
  {
   "cell_type": "code",
   "execution_count": 20,
   "id": "e02027df-b20b-4496-8bcf-362301c6a064",
   "metadata": {},
   "outputs": [],
   "source": [
    "data_train.to_csv(\"data/processed_train.csv\", index=False)\n",
    "data_test.to_csv(\"data/processed_test.csv\", index=False)"
   ]
  },
  {
   "cell_type": "code",
   "execution_count": 21,
   "id": "cac425a1-817a-4dac-9a0f-1f36b999e31a",
   "metadata": {},
   "outputs": [
    {
     "data": {
      "text/plain": [
       "HomePlanet                  object\n",
       "CryoSleep                   string\n",
       "Destination                 object\n",
       "VIP                         string\n",
       "Transported                 object\n",
       "Dataset                     object\n",
       "GroupSize                    int64\n",
       "CabinDeck                   object\n",
       "CabinSide                   object\n",
       "TotalExpensesBinarized    category\n",
       "AgeBinarized              category\n",
       "dtype: object"
      ]
     },
     "execution_count": 21,
     "metadata": {},
     "output_type": "execute_result"
    }
   ],
   "source": [
    "data.dtypes"
   ]
  },
  {
   "cell_type": "code",
   "execution_count": 22,
   "id": "9e52fdc5-4c28-4d3f-9337-811ab43d3101",
   "metadata": {},
   "outputs": [
    {
     "data": {
      "text/html": [
       "<div>\n",
       "<style scoped>\n",
       "    .dataframe tbody tr th:only-of-type {\n",
       "        vertical-align: middle;\n",
       "    }\n",
       "\n",
       "    .dataframe tbody tr th {\n",
       "        vertical-align: top;\n",
       "    }\n",
       "\n",
       "    .dataframe thead th {\n",
       "        text-align: right;\n",
       "    }\n",
       "</style>\n",
       "<table border=\"1\" class=\"dataframe\">\n",
       "  <thead>\n",
       "    <tr style=\"text-align: right;\">\n",
       "      <th></th>\n",
       "      <th>HomePlanet</th>\n",
       "      <th>CryoSleep</th>\n",
       "      <th>Destination</th>\n",
       "      <th>VIP</th>\n",
       "      <th>Transported</th>\n",
       "      <th>Dataset</th>\n",
       "      <th>GroupSize</th>\n",
       "      <th>CabinDeck</th>\n",
       "      <th>CabinSide</th>\n",
       "      <th>TotalExpensesBinarized</th>\n",
       "      <th>AgeBinarized</th>\n",
       "    </tr>\n",
       "  </thead>\n",
       "  <tbody>\n",
       "    <tr>\n",
       "      <th>9170</th>\n",
       "      <td>Earth</td>\n",
       "      <td>False</td>\n",
       "      <td>TRAPPIST-1e</td>\n",
       "      <td>False</td>\n",
       "      <td>NaN</td>\n",
       "      <td>test</td>\n",
       "      <td>1</td>\n",
       "      <td>G</td>\n",
       "      <td>S</td>\n",
       "      <td>MEDIUM</td>\n",
       "      <td>16-30</td>\n",
       "    </tr>\n",
       "    <tr>\n",
       "      <th>9357</th>\n",
       "      <td>Mars</td>\n",
       "      <td>True</td>\n",
       "      <td>TRAPPIST-1e</td>\n",
       "      <td>False</td>\n",
       "      <td>NaN</td>\n",
       "      <td>test</td>\n",
       "      <td>7</td>\n",
       "      <td>F</td>\n",
       "      <td>S</td>\n",
       "      <td>ZERO</td>\n",
       "      <td>16-30</td>\n",
       "    </tr>\n",
       "    <tr>\n",
       "      <th>11620</th>\n",
       "      <td>Europa</td>\n",
       "      <td>False</td>\n",
       "      <td>TRAPPIST-1e</td>\n",
       "      <td>False</td>\n",
       "      <td>NaN</td>\n",
       "      <td>test</td>\n",
       "      <td>1</td>\n",
       "      <td>C</td>\n",
       "      <td>P</td>\n",
       "      <td>HIGH</td>\n",
       "      <td>46-60</td>\n",
       "    </tr>\n",
       "  </tbody>\n",
       "</table>\n",
       "</div>"
      ],
      "text/plain": [
       "      HomePlanet CryoSleep  Destination    VIP Transported Dataset  GroupSize  \\\n",
       "9170       Earth     False  TRAPPIST-1e  False         NaN    test          1   \n",
       "9357        Mars      True  TRAPPIST-1e  False         NaN    test          7   \n",
       "11620     Europa     False  TRAPPIST-1e  False         NaN    test          1   \n",
       "\n",
       "      CabinDeck CabinSide TotalExpensesBinarized AgeBinarized  \n",
       "9170          G         S                 MEDIUM        16-30  \n",
       "9357          F         S                   ZERO        16-30  \n",
       "11620         C         P                   HIGH        46-60  "
      ]
     },
     "execution_count": 22,
     "metadata": {},
     "output_type": "execute_result"
    }
   ],
   "source": [
    "data.sample(3)"
   ]
  },
  {
   "cell_type": "code",
   "execution_count": null,
   "id": "5f86afbf-f0f9-4290-b59b-d3dc7bbdccc8",
   "metadata": {},
   "outputs": [],
   "source": []
  }
 ],
 "metadata": {
  "kernelspec": {
   "display_name": "Python 3",
   "language": "python",
   "name": "python3"
  },
  "language_info": {
   "codemirror_mode": {
    "name": "ipython",
    "version": 3
   },
   "file_extension": ".py",
   "mimetype": "text/x-python",
   "name": "python",
   "nbconvert_exporter": "python",
   "pygments_lexer": "ipython3",
   "version": "3.8.5"
  }
 },
 "nbformat": 4,
 "nbformat_minor": 5
}
