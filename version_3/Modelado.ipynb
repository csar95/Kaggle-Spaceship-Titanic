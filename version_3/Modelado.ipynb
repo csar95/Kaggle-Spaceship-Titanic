{
 "cells": [
  {
   "cell_type": "code",
   "execution_count": 1,
   "id": "2607a51f-e90c-42b9-a7b9-847429d776dd",
   "metadata": {},
   "outputs": [],
   "source": [
    "import pandas as pd\n",
    "pd.set_option('display.max_rows', None)\n",
    "pd.set_option('display.max_columns', None)\n",
    "import numpy as np\n",
    "from sklearn.ensemble import RandomForestClassifier\n",
    "from sklearn.model_selection import train_test_split, StratifiedKFold, ParameterGrid\n",
    "from sklearn.metrics import accuracy_score, classification_report\n",
    "from tqdm import tqdm\n",
    "import pickle"
   ]
  },
  {
   "cell_type": "markdown",
   "id": "ea390cef-bbb3-4fda-9ce0-eb3c0c4b9106",
   "metadata": {},
   "source": [
    "# Carga de datos"
   ]
  },
  {
   "cell_type": "code",
   "execution_count": 2,
   "id": "1860a21e-0d7d-400a-88b2-f4eedc448037",
   "metadata": {},
   "outputs": [
    {
     "name": "stdout",
     "output_type": "stream",
     "text": [
      "(8693, 12)\n"
     ]
    },
    {
     "data": {
      "text/html": [
       "<div>\n",
       "<style scoped>\n",
       "    .dataframe tbody tr th:only-of-type {\n",
       "        vertical-align: middle;\n",
       "    }\n",
       "\n",
       "    .dataframe tbody tr th {\n",
       "        vertical-align: top;\n",
       "    }\n",
       "\n",
       "    .dataframe thead th {\n",
       "        text-align: right;\n",
       "    }\n",
       "</style>\n",
       "<table border=\"1\" class=\"dataframe\">\n",
       "  <thead>\n",
       "    <tr style=\"text-align: right;\">\n",
       "      <th></th>\n",
       "      <th>CryoSleep</th>\n",
       "      <th>Destination</th>\n",
       "      <th>Age</th>\n",
       "      <th>VIP</th>\n",
       "      <th>Transported</th>\n",
       "      <th>GroupSize</th>\n",
       "      <th>HomePlanet</th>\n",
       "      <th>CabinDeck</th>\n",
       "      <th>CabinSide</th>\n",
       "      <th>AnyExpenses</th>\n",
       "      <th>EssencialBill</th>\n",
       "      <th>NonEssencialBill</th>\n",
       "    </tr>\n",
       "  </thead>\n",
       "  <tbody>\n",
       "    <tr>\n",
       "      <th>3455</th>\n",
       "      <td>False</td>\n",
       "      <td>TRAPPIST-1e</td>\n",
       "      <td>0</td>\n",
       "      <td>False</td>\n",
       "      <td>True</td>\n",
       "      <td>4</td>\n",
       "      <td>Earth</td>\n",
       "      <td>G</td>\n",
       "      <td>P</td>\n",
       "      <td>False</td>\n",
       "      <td>0.0</td>\n",
       "      <td>0.0</td>\n",
       "    </tr>\n",
       "    <tr>\n",
       "      <th>1036</th>\n",
       "      <td>False</td>\n",
       "      <td>TRAPPIST-1e</td>\n",
       "      <td>1</td>\n",
       "      <td>False</td>\n",
       "      <td>False</td>\n",
       "      <td>4</td>\n",
       "      <td>Mars</td>\n",
       "      <td>E</td>\n",
       "      <td>P</td>\n",
       "      <td>True</td>\n",
       "      <td>370.0</td>\n",
       "      <td>658.0</td>\n",
       "    </tr>\n",
       "    <tr>\n",
       "      <th>7917</th>\n",
       "      <td>False</td>\n",
       "      <td>55 Cancri e</td>\n",
       "      <td>3</td>\n",
       "      <td>False</td>\n",
       "      <td>False</td>\n",
       "      <td>6</td>\n",
       "      <td>Europa</td>\n",
       "      <td>C</td>\n",
       "      <td>S</td>\n",
       "      <td>True</td>\n",
       "      <td>4332.0</td>\n",
       "      <td>6994.0</td>\n",
       "    </tr>\n",
       "  </tbody>\n",
       "</table>\n",
       "</div>"
      ],
      "text/plain": [
       "     CryoSleep  Destination  Age    VIP  Transported  GroupSize HomePlanet  \\\n",
       "3455     False  TRAPPIST-1e    0  False         True          4      Earth   \n",
       "1036     False  TRAPPIST-1e    1  False        False          4       Mars   \n",
       "7917     False  55 Cancri e    3  False        False          6     Europa   \n",
       "\n",
       "     CabinDeck CabinSide  AnyExpenses  EssencialBill  NonEssencialBill  \n",
       "3455         G         P        False            0.0               0.0  \n",
       "1036         E         P         True          370.0             658.0  \n",
       "7917         C         S         True         4332.0            6994.0  "
      ]
     },
     "execution_count": 2,
     "metadata": {},
     "output_type": "execute_result"
    }
   ],
   "source": [
    "train_data = pd.read_csv(\"data/processed_train.csv\")\n",
    "print(train_data.shape)\n",
    "train_data.sample(3)"
   ]
  },
  {
   "cell_type": "code",
   "execution_count": 3,
   "id": "d5297e4f-bebe-4c78-9aef-7a57aabd1598",
   "metadata": {},
   "outputs": [
    {
     "data": {
      "text/html": [
       "<div>\n",
       "<style scoped>\n",
       "    .dataframe tbody tr th:only-of-type {\n",
       "        vertical-align: middle;\n",
       "    }\n",
       "\n",
       "    .dataframe tbody tr th {\n",
       "        vertical-align: top;\n",
       "    }\n",
       "\n",
       "    .dataframe thead th {\n",
       "        text-align: right;\n",
       "    }\n",
       "</style>\n",
       "<table border=\"1\" class=\"dataframe\">\n",
       "  <thead>\n",
       "    <tr style=\"text-align: right;\">\n",
       "      <th></th>\n",
       "      <th>Age</th>\n",
       "      <th>Transported</th>\n",
       "      <th>GroupSize</th>\n",
       "      <th>EssencialBill</th>\n",
       "      <th>NonEssencialBill</th>\n",
       "      <th>HomePlanet_Earth</th>\n",
       "      <th>HomePlanet_Europa</th>\n",
       "      <th>HomePlanet_Mars</th>\n",
       "      <th>CryoSleep_False</th>\n",
       "      <th>CryoSleep_True</th>\n",
       "      <th>Destination_55 Cancri e</th>\n",
       "      <th>Destination_PSO J318.5-22</th>\n",
       "      <th>Destination_TRAPPIST-1e</th>\n",
       "      <th>VIP_False</th>\n",
       "      <th>VIP_True</th>\n",
       "      <th>CabinDeck_A</th>\n",
       "      <th>CabinDeck_B</th>\n",
       "      <th>CabinDeck_C</th>\n",
       "      <th>CabinDeck_D</th>\n",
       "      <th>CabinDeck_E</th>\n",
       "      <th>CabinDeck_F</th>\n",
       "      <th>CabinDeck_G</th>\n",
       "      <th>CabinDeck_T</th>\n",
       "      <th>CabinSide_P</th>\n",
       "      <th>CabinSide_S</th>\n",
       "      <th>AnyExpenses_True</th>\n",
       "    </tr>\n",
       "  </thead>\n",
       "  <tbody>\n",
       "    <tr>\n",
       "      <th>4141</th>\n",
       "      <td>1</td>\n",
       "      <td>False</td>\n",
       "      <td>1</td>\n",
       "      <td>42.0</td>\n",
       "      <td>3602.0</td>\n",
       "      <td>0</td>\n",
       "      <td>0</td>\n",
       "      <td>1</td>\n",
       "      <td>1</td>\n",
       "      <td>0</td>\n",
       "      <td>0</td>\n",
       "      <td>0</td>\n",
       "      <td>1</td>\n",
       "      <td>1</td>\n",
       "      <td>0</td>\n",
       "      <td>0</td>\n",
       "      <td>0</td>\n",
       "      <td>0</td>\n",
       "      <td>0</td>\n",
       "      <td>1</td>\n",
       "      <td>0</td>\n",
       "      <td>0</td>\n",
       "      <td>0</td>\n",
       "      <td>0</td>\n",
       "      <td>1</td>\n",
       "      <td>1</td>\n",
       "    </tr>\n",
       "    <tr>\n",
       "      <th>3400</th>\n",
       "      <td>0</td>\n",
       "      <td>True</td>\n",
       "      <td>2</td>\n",
       "      <td>0.0</td>\n",
       "      <td>0.0</td>\n",
       "      <td>1</td>\n",
       "      <td>0</td>\n",
       "      <td>0</td>\n",
       "      <td>0</td>\n",
       "      <td>1</td>\n",
       "      <td>0</td>\n",
       "      <td>0</td>\n",
       "      <td>1</td>\n",
       "      <td>1</td>\n",
       "      <td>0</td>\n",
       "      <td>0</td>\n",
       "      <td>0</td>\n",
       "      <td>0</td>\n",
       "      <td>0</td>\n",
       "      <td>0</td>\n",
       "      <td>0</td>\n",
       "      <td>1</td>\n",
       "      <td>0</td>\n",
       "      <td>0</td>\n",
       "      <td>1</td>\n",
       "      <td>0</td>\n",
       "    </tr>\n",
       "    <tr>\n",
       "      <th>7285</th>\n",
       "      <td>2</td>\n",
       "      <td>False</td>\n",
       "      <td>1</td>\n",
       "      <td>368.0</td>\n",
       "      <td>1045.0</td>\n",
       "      <td>1</td>\n",
       "      <td>0</td>\n",
       "      <td>0</td>\n",
       "      <td>1</td>\n",
       "      <td>0</td>\n",
       "      <td>0</td>\n",
       "      <td>0</td>\n",
       "      <td>1</td>\n",
       "      <td>1</td>\n",
       "      <td>0</td>\n",
       "      <td>0</td>\n",
       "      <td>0</td>\n",
       "      <td>0</td>\n",
       "      <td>0</td>\n",
       "      <td>0</td>\n",
       "      <td>1</td>\n",
       "      <td>0</td>\n",
       "      <td>0</td>\n",
       "      <td>0</td>\n",
       "      <td>1</td>\n",
       "      <td>1</td>\n",
       "    </tr>\n",
       "  </tbody>\n",
       "</table>\n",
       "</div>"
      ],
      "text/plain": [
       "      Age  Transported  GroupSize  EssencialBill  NonEssencialBill  \\\n",
       "4141    1        False          1           42.0            3602.0   \n",
       "3400    0         True          2            0.0               0.0   \n",
       "7285    2        False          1          368.0            1045.0   \n",
       "\n",
       "      HomePlanet_Earth  HomePlanet_Europa  HomePlanet_Mars  CryoSleep_False  \\\n",
       "4141                 0                  0                1                1   \n",
       "3400                 1                  0                0                0   \n",
       "7285                 1                  0                0                1   \n",
       "\n",
       "      CryoSleep_True  Destination_55 Cancri e  Destination_PSO J318.5-22  \\\n",
       "4141               0                        0                          0   \n",
       "3400               1                        0                          0   \n",
       "7285               0                        0                          0   \n",
       "\n",
       "      Destination_TRAPPIST-1e  VIP_False  VIP_True  CabinDeck_A  CabinDeck_B  \\\n",
       "4141                        1          1         0            0            0   \n",
       "3400                        1          1         0            0            0   \n",
       "7285                        1          1         0            0            0   \n",
       "\n",
       "      CabinDeck_C  CabinDeck_D  CabinDeck_E  CabinDeck_F  CabinDeck_G  \\\n",
       "4141            0            0            1            0            0   \n",
       "3400            0            0            0            0            1   \n",
       "7285            0            0            0            1            0   \n",
       "\n",
       "      CabinDeck_T  CabinSide_P  CabinSide_S  AnyExpenses_True  \n",
       "4141            0            0            1                 1  \n",
       "3400            0            0            1                 0  \n",
       "7285            0            0            1                 1  "
      ]
     },
     "execution_count": 3,
     "metadata": {},
     "output_type": "execute_result"
    }
   ],
   "source": [
    "train_data = pd.get_dummies(train_data, columns=['HomePlanet','CryoSleep','Destination','VIP','CabinDeck','CabinSide','AnyExpenses'])\n",
    "train_data.drop(columns=['HomePlanet_Ns/Nc','CryoSleep_Ns/Nc','Destination_Ns/Nc','VIP_Ns/Nc','AnyExpenses_False'], inplace=True)\n",
    "train_data.sample(3)"
   ]
  },
  {
   "cell_type": "code",
   "execution_count": 4,
   "id": "7f16ca54-1e81-4b0e-8810-4140eb4071e8",
   "metadata": {},
   "outputs": [],
   "source": [
    "X = train_data.drop(columns=['Transported'])\n",
    "y = train_data.Transported"
   ]
  },
  {
   "cell_type": "code",
   "execution_count": 5,
   "id": "f14159e5-d3e8-47fc-87ea-762e5f46e1d5",
   "metadata": {},
   "outputs": [
    {
     "data": {
      "text/plain": [
       "(6954, 1739)"
      ]
     },
     "execution_count": 5,
     "metadata": {},
     "output_type": "execute_result"
    }
   ],
   "source": [
    "X_train, X_test, y_train, y_test = train_test_split(X, y, test_size=0.2, random_state=42)\n",
    "len(X_train), len(X_test)"
   ]
  },
  {
   "cell_type": "code",
   "execution_count": 6,
   "id": "7c99acf8-a7e0-4086-8465-bb363a8e42f7",
   "metadata": {},
   "outputs": [
    {
     "data": {
      "text/plain": [
       "(4277, 12)"
      ]
     },
     "execution_count": 6,
     "metadata": {},
     "output_type": "execute_result"
    }
   ],
   "source": [
    "submission_data = pd.read_csv(\"data/processed_test.csv\")\n",
    "submission_data.shape"
   ]
  },
  {
   "cell_type": "code",
   "execution_count": 7,
   "id": "d0505198-1b9d-4881-a595-f72184ebc73d",
   "metadata": {},
   "outputs": [],
   "source": [
    "submission_data = pd.get_dummies(submission_data, columns=['HomePlanet','CryoSleep','Destination','VIP','CabinDeck','CabinSide','AnyExpenses'])\n",
    "submission_data.drop(columns=['HomePlanet_Ns/Nc','CryoSleep_Ns/Nc','Destination_Ns/Nc','VIP_Ns/Nc','AnyExpenses_False'], inplace=True)"
   ]
  },
  {
   "cell_type": "code",
   "execution_count": 8,
   "id": "f82712be-15b7-485d-93b9-3c589c6ad5ac",
   "metadata": {},
   "outputs": [],
   "source": [
    "X_submission = submission_data.drop(columns=['Transported'])"
   ]
  },
  {
   "cell_type": "markdown",
   "id": "8fe84f83-793d-441f-93b0-3f6796176c0f",
   "metadata": {},
   "source": [
    "# Modelado"
   ]
  },
  {
   "cell_type": "markdown",
   "id": "e6b905d3-89da-4f43-b01f-f5c691de5bba",
   "metadata": {},
   "source": [
    "## Random forest"
   ]
  },
  {
   "cell_type": "markdown",
   "id": "511c0f35-f8ec-4e33-836b-8568e973662e",
   "metadata": {
    "tags": []
   },
   "source": [
    "### Cross validation"
   ]
  },
  {
   "cell_type": "code",
   "execution_count": 9,
   "id": "c973a8dc-9854-4b6f-a419-eb601a6b33e7",
   "metadata": {},
   "outputs": [],
   "source": [
    "def random_forest_cross_val(X, y, params, n_splits=3):\n",
    "    skf = StratifiedKFold(n_splits=n_splits, shuffle=True, random_state=42)\n",
    "    \n",
    "    acc = []\n",
    "    \n",
    "    for tr_ind, val_ind in skf.split(X, y):\n",
    "        X_tr = X.iloc[tr_ind]\n",
    "        y_tr = y.iloc[tr_ind]\n",
    "        \n",
    "        X_val = X.iloc[val_ind]\n",
    "        y_val = y.iloc[val_ind]\n",
    "        \n",
    "        model = RandomForestClassifier(n_estimators=params['n_estimators'],\n",
    "                                       max_depth=params['max_depth'],\n",
    "                                       max_samples=params['max_samples'],\n",
    "                                       n_jobs=-1, random_state=42)\n",
    "        \n",
    "        model.fit(X_tr, y_tr)        \n",
    "        \n",
    "        y_pred = model.predict(X_val)\n",
    "        \n",
    "        accuracy = accuracy_score(y_val, y_pred)\n",
    "        acc.append(accuracy)\n",
    "        \n",
    "    return sum(acc) / n_splits"
   ]
  },
  {
   "cell_type": "code",
   "execution_count": 10,
   "id": "6c46f80e-a593-426d-a5a0-da1ffee727c7",
   "metadata": {},
   "outputs": [],
   "source": [
    "def grid_search_CV(X, y, params_GridSearch):\n",
    "    df_acc_by_params = pd.DataFrame(columns=['n_estimators','max_depth','max_samples','accuracy'])\n",
    "        \n",
    "    for prms in tqdm( list(ParameterGrid(params_GridSearch)), ascii=True, desc='Params Tuning:' ):\n",
    "                          \n",
    "        acc = random_forest_cross_val(X, y, prms, n_splits=5)\n",
    "        \n",
    "        df_acc_by_params = pd.concat([df_acc_by_params,\n",
    "                                      pd.DataFrame(data={'n_estimators':[prms['n_estimators']], 'max_depth':[prms['max_depth']], 'max_samples':[prms['max_samples']], 'accuracy':[acc]})], \n",
    "                                     ignore_index=True)\n",
    "        \n",
    "    return df_acc_by_params"
   ]
  },
  {
   "cell_type": "code",
   "execution_count": 11,
   "id": "17d54842-21c6-4d11-84b7-392b306a3089",
   "metadata": {},
   "outputs": [],
   "source": [
    "params_GridSearch = {'n_estimators':[100,200,500],\n",
    "                     'max_depth':[3,5,8,10,13],\n",
    "                     'max_samples':[0.4,0.7,0.85,None]}"
   ]
  },
  {
   "cell_type": "code",
   "execution_count": 12,
   "id": "17712702-0bc7-438d-8591-b0c4c0b2f182",
   "metadata": {},
   "outputs": [
    {
     "name": "stderr",
     "output_type": "stream",
     "text": [
      "Params Tuning:: 100%|##########| 60/60 [03:07<00:00,  3.12s/it]\n"
     ]
    }
   ],
   "source": [
    "df_acc_by_params = grid_search_CV(X, y, params_GridSearch)"
   ]
  },
  {
   "cell_type": "code",
   "execution_count": 13,
   "id": "9f29eae1-9d4d-4efa-915d-b84f8c1102f8",
   "metadata": {},
   "outputs": [
    {
     "data": {
      "text/plain": [
       "n_estimators     object\n",
       "max_depth        object\n",
       "max_samples     float64\n",
       "accuracy        float64\n",
       "dtype: object"
      ]
     },
     "execution_count": 13,
     "metadata": {},
     "output_type": "execute_result"
    }
   ],
   "source": [
    "df_acc_by_params.dtypes"
   ]
  },
  {
   "cell_type": "code",
   "execution_count": 14,
   "id": "8d9a6b91-daeb-43a3-a331-0b43e46cd8c3",
   "metadata": {},
   "outputs": [],
   "source": [
    "df_acc_by_params['n_estimators'] = df_acc_by_params.n_estimators.astype(int)\n",
    "df_acc_by_params['max_depth'] = df_acc_by_params.max_depth.astype(int)"
   ]
  },
  {
   "cell_type": "code",
   "execution_count": 15,
   "id": "c3f7ad18-0c64-45f2-83ad-44ef3e584ff2",
   "metadata": {},
   "outputs": [
    {
     "data": {
      "text/plain": [
       "n_estimators   -0.043158\n",
       "max_depth       0.744899\n",
       "max_samples     0.002174\n",
       "accuracy        1.000000\n",
       "Name: accuracy, dtype: float64"
      ]
     },
     "execution_count": 15,
     "metadata": {},
     "output_type": "execute_result"
    }
   ],
   "source": [
    "df_acc_by_params.corr()['accuracy']"
   ]
  },
  {
   "cell_type": "code",
   "execution_count": 16,
   "id": "fe3d8fd2-8290-419c-ac64-92597e6c0a9d",
   "metadata": {},
   "outputs": [
    {
     "data": {
      "text/html": [
       "<div>\n",
       "<style scoped>\n",
       "    .dataframe tbody tr th:only-of-type {\n",
       "        vertical-align: middle;\n",
       "    }\n",
       "\n",
       "    .dataframe tbody tr th {\n",
       "        vertical-align: top;\n",
       "    }\n",
       "\n",
       "    .dataframe thead th {\n",
       "        text-align: right;\n",
       "    }\n",
       "</style>\n",
       "<table border=\"1\" class=\"dataframe\">\n",
       "  <thead>\n",
       "    <tr style=\"text-align: right;\">\n",
       "      <th></th>\n",
       "      <th>n_estimators</th>\n",
       "      <th>max_depth</th>\n",
       "      <th>max_samples</th>\n",
       "      <th>accuracy</th>\n",
       "    </tr>\n",
       "  </thead>\n",
       "  <tbody>\n",
       "    <tr>\n",
       "      <th>25</th>\n",
       "      <td>200</td>\n",
       "      <td>8</td>\n",
       "      <td>0.40</td>\n",
       "      <td>0.806510</td>\n",
       "    </tr>\n",
       "    <tr>\n",
       "      <th>26</th>\n",
       "      <td>500</td>\n",
       "      <td>8</td>\n",
       "      <td>0.40</td>\n",
       "      <td>0.806280</td>\n",
       "    </tr>\n",
       "    <tr>\n",
       "      <th>33</th>\n",
       "      <td>100</td>\n",
       "      <td>8</td>\n",
       "      <td>NaN</td>\n",
       "      <td>0.805820</td>\n",
       "    </tr>\n",
       "    <tr>\n",
       "      <th>34</th>\n",
       "      <td>200</td>\n",
       "      <td>8</td>\n",
       "      <td>NaN</td>\n",
       "      <td>0.805820</td>\n",
       "    </tr>\n",
       "    <tr>\n",
       "      <th>46</th>\n",
       "      <td>200</td>\n",
       "      <td>10</td>\n",
       "      <td>NaN</td>\n",
       "      <td>0.805590</td>\n",
       "    </tr>\n",
       "    <tr>\n",
       "      <th>35</th>\n",
       "      <td>500</td>\n",
       "      <td>8</td>\n",
       "      <td>NaN</td>\n",
       "      <td>0.805475</td>\n",
       "    </tr>\n",
       "    <tr>\n",
       "      <th>30</th>\n",
       "      <td>100</td>\n",
       "      <td>8</td>\n",
       "      <td>0.85</td>\n",
       "      <td>0.804670</td>\n",
       "    </tr>\n",
       "    <tr>\n",
       "      <th>31</th>\n",
       "      <td>200</td>\n",
       "      <td>8</td>\n",
       "      <td>0.85</td>\n",
       "      <td>0.804440</td>\n",
       "    </tr>\n",
       "    <tr>\n",
       "      <th>32</th>\n",
       "      <td>500</td>\n",
       "      <td>8</td>\n",
       "      <td>0.85</td>\n",
       "      <td>0.804439</td>\n",
       "    </tr>\n",
       "    <tr>\n",
       "      <th>28</th>\n",
       "      <td>200</td>\n",
       "      <td>8</td>\n",
       "      <td>0.70</td>\n",
       "      <td>0.804324</td>\n",
       "    </tr>\n",
       "  </tbody>\n",
       "</table>\n",
       "</div>"
      ],
      "text/plain": [
       "    n_estimators  max_depth  max_samples  accuracy\n",
       "25           200          8         0.40  0.806510\n",
       "26           500          8         0.40  0.806280\n",
       "33           100          8          NaN  0.805820\n",
       "34           200          8          NaN  0.805820\n",
       "46           200         10          NaN  0.805590\n",
       "35           500          8          NaN  0.805475\n",
       "30           100          8         0.85  0.804670\n",
       "31           200          8         0.85  0.804440\n",
       "32           500          8         0.85  0.804439\n",
       "28           200          8         0.70  0.804324"
      ]
     },
     "execution_count": 16,
     "metadata": {},
     "output_type": "execute_result"
    }
   ],
   "source": [
    "df_acc_by_params.sort_values('accuracy', ascending=False).head(10)"
   ]
  },
  {
   "cell_type": "code",
   "execution_count": 17,
   "id": "2076f6c4-b281-49e3-bd4e-c4ca1723debd",
   "metadata": {},
   "outputs": [
    {
     "data": {
      "text/html": [
       "<div>\n",
       "<style scoped>\n",
       "    .dataframe tbody tr th:only-of-type {\n",
       "        vertical-align: middle;\n",
       "    }\n",
       "\n",
       "    .dataframe tbody tr th {\n",
       "        vertical-align: top;\n",
       "    }\n",
       "\n",
       "    .dataframe thead th {\n",
       "        text-align: right;\n",
       "    }\n",
       "</style>\n",
       "<table border=\"1\" class=\"dataframe\">\n",
       "  <thead>\n",
       "    <tr style=\"text-align: right;\">\n",
       "      <th></th>\n",
       "      <th>n_estimators</th>\n",
       "      <th>max_depth</th>\n",
       "      <th>max_samples</th>\n",
       "      <th>accuracy</th>\n",
       "    </tr>\n",
       "  </thead>\n",
       "  <tbody>\n",
       "    <tr>\n",
       "      <th>25</th>\n",
       "      <td>200</td>\n",
       "      <td>8</td>\n",
       "      <td>0.4</td>\n",
       "      <td>0.80651</td>\n",
       "    </tr>\n",
       "  </tbody>\n",
       "</table>\n",
       "</div>"
      ],
      "text/plain": [
       "    n_estimators  max_depth  max_samples  accuracy\n",
       "25           200          8          0.4   0.80651"
      ]
     },
     "execution_count": 17,
     "metadata": {},
     "output_type": "execute_result"
    }
   ],
   "source": [
    "best_params = df_acc_by_params[ df_acc_by_params.accuracy==df_acc_by_params.accuracy.max() ]\n",
    "best_params"
   ]
  },
  {
   "cell_type": "code",
   "execution_count": 18,
   "id": "e47b46dc-91c1-4cd3-bd43-79389e8de5f6",
   "metadata": {},
   "outputs": [],
   "source": [
    "model = RandomForestClassifier(n_estimators=int(best_params.n_estimators),\n",
    "                               max_depth=int(best_params.max_depth),\n",
    "                               max_samples=float(best_params.max_samples),\n",
    "                               n_jobs=-1, random_state=42)\n",
    "model = model.fit(X_train, y_train)"
   ]
  },
  {
   "cell_type": "code",
   "execution_count": 19,
   "id": "7c202c78-6371-4a58-a02e-ddc859e339ad",
   "metadata": {},
   "outputs": [],
   "source": [
    "y_pred = model.predict(X_test)"
   ]
  },
  {
   "cell_type": "code",
   "execution_count": 20,
   "id": "d700ca55-1932-42b3-9c1e-6e98d64503cd",
   "metadata": {},
   "outputs": [
    {
     "data": {
      "text/plain": [
       "0.7912593444508338"
      ]
     },
     "execution_count": 20,
     "metadata": {},
     "output_type": "execute_result"
    }
   ],
   "source": [
    "accuracy_score(y_test, y_pred)"
   ]
  },
  {
   "cell_type": "code",
   "execution_count": 22,
   "id": "f7f27d63-1711-4f95-a7d0-a4d6aa9126dc",
   "metadata": {},
   "outputs": [
    {
     "name": "stdout",
     "output_type": "stream",
     "text": [
      "              precision    recall  f1-score   support\n",
      "\n",
      "       False       0.81      0.76      0.78       861\n",
      "        True       0.78      0.82      0.80       878\n",
      "\n",
      "    accuracy                           0.79      1739\n",
      "   macro avg       0.79      0.79      0.79      1739\n",
      "weighted avg       0.79      0.79      0.79      1739\n",
      "\n"
     ]
    }
   ],
   "source": [
    "print(classification_report(y_test, y_pred))"
   ]
  },
  {
   "cell_type": "code",
   "execution_count": 23,
   "id": "ca79804b-0cd3-4502-8720-d6fa89bad04d",
   "metadata": {},
   "outputs": [],
   "source": [
    "pickle.dump(model, open('../models/model_v3-randForest_n200_maxDepth8_maxSamples04.pkl', 'wb'))"
   ]
  },
  {
   "cell_type": "markdown",
   "id": "a4b6ece3-dcfd-4457-94c5-e4cc4017d77e",
   "metadata": {},
   "source": [
    "---\n",
    "---\n",
    "---"
   ]
  },
  {
   "cell_type": "code",
   "execution_count": 24,
   "id": "18e00267-0e61-44b8-b667-ef0daae78a3e",
   "metadata": {},
   "outputs": [],
   "source": [
    "pd.read_csv(\"../spaceship-titanic/test.csv\", usecols=['PassengerId']).merge( pd.DataFrame( {'Transported':model.fit(X,y).predict(X_submission)} ),\n",
    "                                                                          left_index=True, right_index=True, how='left').\\\n",
    "    to_csv(\"../spaceship-titanic/submission.csv\", index=False)"
   ]
  },
  {
   "cell_type": "code",
   "execution_count": 25,
   "id": "16d6e725-3e09-4232-b9ab-2d353cec3d24",
   "metadata": {},
   "outputs": [
    {
     "name": "stdout",
     "output_type": "stream",
     "text": [
      "['CryoSleep', 'Destination', 'Age', 'VIP', 'Transported', 'GroupSize', 'HomePlanet', 'CabinDeck', 'CabinSide', 'AnyExpenses', 'EssencialBill', 'NonEssencialBill']\n"
     ]
    }
   ],
   "source": [
    "print(pd.read_csv(\"data/processed_train.csv\").columns.tolist())"
   ]
  },
  {
   "cell_type": "code",
   "execution_count": null,
   "id": "87f73c72-e7ba-4708-89ff-bf40d9aef12e",
   "metadata": {},
   "outputs": [],
   "source": []
  }
 ],
 "metadata": {
  "kernelspec": {
   "display_name": "Python 3",
   "language": "python",
   "name": "python3"
  },
  "language_info": {
   "codemirror_mode": {
    "name": "ipython",
    "version": 3
   },
   "file_extension": ".py",
   "mimetype": "text/x-python",
   "name": "python",
   "nbconvert_exporter": "python",
   "pygments_lexer": "ipython3",
   "version": "3.8.5"
  }
 },
 "nbformat": 4,
 "nbformat_minor": 5
}
