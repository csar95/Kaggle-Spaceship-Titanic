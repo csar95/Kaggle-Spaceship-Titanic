{
 "cells": [
  {
   "cell_type": "code",
   "execution_count": 1,
   "id": "5d2bc54d-05a3-4902-aedd-ee414a44c0dc",
   "metadata": {},
   "outputs": [],
   "source": [
    "import pandas as pd\n",
    "pd.set_option('display.max_rows', None)\n",
    "import numpy as np"
   ]
  },
  {
   "cell_type": "markdown",
   "id": "6c42076c-3f2f-402a-b4de-2003a1c0fe2b",
   "metadata": {},
   "source": [
    "# Carga de datos"
   ]
  },
  {
   "cell_type": "code",
   "execution_count": 2,
   "id": "9fbc19d0-f407-4d13-bcb2-9f772f469309",
   "metadata": {},
   "outputs": [
    {
     "name": "stdout",
     "output_type": "stream",
     "text": [
      "(8693, 14)\n"
     ]
    },
    {
     "data": {
      "text/html": [
       "<div>\n",
       "<style scoped>\n",
       "    .dataframe tbody tr th:only-of-type {\n",
       "        vertical-align: middle;\n",
       "    }\n",
       "\n",
       "    .dataframe tbody tr th {\n",
       "        vertical-align: top;\n",
       "    }\n",
       "\n",
       "    .dataframe thead th {\n",
       "        text-align: right;\n",
       "    }\n",
       "</style>\n",
       "<table border=\"1\" class=\"dataframe\">\n",
       "  <thead>\n",
       "    <tr style=\"text-align: right;\">\n",
       "      <th></th>\n",
       "      <th>PassengerId</th>\n",
       "      <th>HomePlanet</th>\n",
       "      <th>CryoSleep</th>\n",
       "      <th>Cabin</th>\n",
       "      <th>Destination</th>\n",
       "      <th>Age</th>\n",
       "      <th>VIP</th>\n",
       "      <th>RoomService</th>\n",
       "      <th>FoodCourt</th>\n",
       "      <th>ShoppingMall</th>\n",
       "      <th>Spa</th>\n",
       "      <th>VRDeck</th>\n",
       "      <th>Name</th>\n",
       "      <th>Transported</th>\n",
       "    </tr>\n",
       "  </thead>\n",
       "  <tbody>\n",
       "    <tr>\n",
       "      <th>0</th>\n",
       "      <td>0001_01</td>\n",
       "      <td>Europa</td>\n",
       "      <td>False</td>\n",
       "      <td>B/0/P</td>\n",
       "      <td>TRAPPIST-1e</td>\n",
       "      <td>39.0</td>\n",
       "      <td>False</td>\n",
       "      <td>0.0</td>\n",
       "      <td>0.0</td>\n",
       "      <td>0.0</td>\n",
       "      <td>0.0</td>\n",
       "      <td>0.0</td>\n",
       "      <td>Maham Ofracculy</td>\n",
       "      <td>False</td>\n",
       "    </tr>\n",
       "    <tr>\n",
       "      <th>1</th>\n",
       "      <td>0002_01</td>\n",
       "      <td>Earth</td>\n",
       "      <td>False</td>\n",
       "      <td>F/0/S</td>\n",
       "      <td>TRAPPIST-1e</td>\n",
       "      <td>24.0</td>\n",
       "      <td>False</td>\n",
       "      <td>109.0</td>\n",
       "      <td>9.0</td>\n",
       "      <td>25.0</td>\n",
       "      <td>549.0</td>\n",
       "      <td>44.0</td>\n",
       "      <td>Juanna Vines</td>\n",
       "      <td>True</td>\n",
       "    </tr>\n",
       "    <tr>\n",
       "      <th>2</th>\n",
       "      <td>0003_01</td>\n",
       "      <td>Europa</td>\n",
       "      <td>False</td>\n",
       "      <td>A/0/S</td>\n",
       "      <td>TRAPPIST-1e</td>\n",
       "      <td>58.0</td>\n",
       "      <td>True</td>\n",
       "      <td>43.0</td>\n",
       "      <td>3576.0</td>\n",
       "      <td>0.0</td>\n",
       "      <td>6715.0</td>\n",
       "      <td>49.0</td>\n",
       "      <td>Altark Susent</td>\n",
       "      <td>False</td>\n",
       "    </tr>\n",
       "  </tbody>\n",
       "</table>\n",
       "</div>"
      ],
      "text/plain": [
       "  PassengerId HomePlanet CryoSleep  Cabin  Destination   Age    VIP  \\\n",
       "0     0001_01     Europa     False  B/0/P  TRAPPIST-1e  39.0  False   \n",
       "1     0002_01      Earth     False  F/0/S  TRAPPIST-1e  24.0  False   \n",
       "2     0003_01     Europa     False  A/0/S  TRAPPIST-1e  58.0   True   \n",
       "\n",
       "   RoomService  FoodCourt  ShoppingMall     Spa  VRDeck             Name  \\\n",
       "0          0.0        0.0           0.0     0.0     0.0  Maham Ofracculy   \n",
       "1        109.0        9.0          25.0   549.0    44.0     Juanna Vines   \n",
       "2         43.0     3576.0           0.0  6715.0    49.0    Altark Susent   \n",
       "\n",
       "   Transported  \n",
       "0        False  \n",
       "1         True  \n",
       "2        False  "
      ]
     },
     "execution_count": 2,
     "metadata": {},
     "output_type": "execute_result"
    }
   ],
   "source": [
    "train_data = pd.read_csv(\"../spaceship-titanic/train.csv\")\n",
    "print(train_data.shape)\n",
    "train_data.head(3)"
   ]
  },
  {
   "cell_type": "code",
   "execution_count": 3,
   "id": "e98c17b0-c939-4870-a195-7fb1a98f4b3d",
   "metadata": {},
   "outputs": [
    {
     "data": {
      "text/plain": [
       "(4277, 13)"
      ]
     },
     "execution_count": 3,
     "metadata": {},
     "output_type": "execute_result"
    }
   ],
   "source": [
    "test_data = pd.read_csv(\"../spaceship-titanic/test.csv\")\n",
    "test_data.shape"
   ]
  },
  {
   "cell_type": "code",
   "execution_count": 4,
   "id": "927f4af1-d957-4e44-bd9e-c8a6854f3086",
   "metadata": {},
   "outputs": [
    {
     "data": {
      "text/plain": [
       "(12970, 15)"
      ]
     },
     "execution_count": 4,
     "metadata": {},
     "output_type": "execute_result"
    }
   ],
   "source": [
    "train_data['Dataset'] = 'train'\n",
    "test_data['Dataset'] = 'test'\n",
    "data = pd.concat([train_data, test_data], ignore_index=True)\n",
    "data.shape"
   ]
  },
  {
   "cell_type": "code",
   "execution_count": 5,
   "id": "84ee19a8-acd8-475e-8c92-086b236b8e3d",
   "metadata": {},
   "outputs": [
    {
     "data": {
      "text/plain": [
       "PassengerId      object\n",
       "HomePlanet       object\n",
       "CryoSleep        object\n",
       "Cabin            object\n",
       "Destination      object\n",
       "Age             float64\n",
       "VIP              object\n",
       "RoomService     float64\n",
       "FoodCourt       float64\n",
       "ShoppingMall    float64\n",
       "Spa             float64\n",
       "VRDeck          float64\n",
       "Name             object\n",
       "Transported      object\n",
       "Dataset          object\n",
       "dtype: object"
      ]
     },
     "execution_count": 5,
     "metadata": {},
     "output_type": "execute_result"
    }
   ],
   "source": [
    "data.dtypes"
   ]
  },
  {
   "cell_type": "markdown",
   "id": "e37ba359-edd6-48c7-aab9-753c60a4f663",
   "metadata": {},
   "source": [
    "# ETL Process"
   ]
  },
  {
   "cell_type": "markdown",
   "id": "3a04b1be-be3e-4d0c-a1e3-513fcb2f7e5c",
   "metadata": {},
   "source": [
    "## Tamaño del grupo del pasajero"
   ]
  },
  {
   "cell_type": "code",
   "execution_count": 6,
   "id": "5191a8f6-f6f3-4cb6-bc24-e8b197a31cec",
   "metadata": {},
   "outputs": [],
   "source": [
    "data[['PassengerGroup','PassengerGroupNum']] = data.PassengerId.str.split('_', expand=True)"
   ]
  },
  {
   "cell_type": "code",
   "execution_count": 7,
   "id": "14d88f5b-1395-4081-920c-c91266c27240",
   "metadata": {},
   "outputs": [],
   "source": [
    "group_size = data.groupby('PassengerGroup')[['PassengerGroupNum']].max().rename(columns={'PassengerGroupNum':'GroupSize'}).reset_index()\n",
    "group_size['GroupSize'] = group_size.GroupSize.astype(int)\n",
    "data = data.merge(group_size, how='left', on='PassengerGroup')"
   ]
  },
  {
   "cell_type": "markdown",
   "id": "86121c9d-e527-41cd-955f-5079314f9340",
   "metadata": {},
   "source": [
    "## Nueva categoría para los nulos en `HomePlanet`\n",
    "\n",
    "Imputamos algunos nulos con base en el exploratorio realizado."
   ]
  },
  {
   "cell_type": "code",
   "execution_count": 8,
   "id": "ec88ddbb-7ae3-46bd-9cb7-f933dfb50f60",
   "metadata": {},
   "outputs": [],
   "source": [
    "homePlanetByPassGroup = data[data.HomePlanet.notna()].groupby('PassengerGroup')[['HomePlanet']].first()\n",
    "data = data.drop(columns=['HomePlanet']).merge(homePlanetByPassGroup, on='PassengerGroup', how='left')"
   ]
  },
  {
   "cell_type": "code",
   "execution_count": 9,
   "id": "a04efe85-bf18-499b-a826-b49eaf4eeba3",
   "metadata": {},
   "outputs": [],
   "source": [
    "data.HomePlanet.fillna(\"Ns/Nc\", inplace=True)"
   ]
  },
  {
   "cell_type": "markdown",
   "id": "4638d876-bae6-470e-877b-e7d563dbe731",
   "metadata": {},
   "source": [
    "## Cabin deck and cabin side"
   ]
  },
  {
   "cell_type": "code",
   "execution_count": 10,
   "id": "af92abe3-e361-4e15-8e9f-bee969effd2f",
   "metadata": {},
   "outputs": [],
   "source": [
    "data[['CabinDeck','CabinSide']] = data.Cabin.str.split('/', expand=True)[[0,2]]\n",
    "data[['CabinDeck','CabinSide']] = data[['CabinDeck','CabinSide']].astype(str)"
   ]
  },
  {
   "cell_type": "markdown",
   "id": "cc4121ad-7c03-464e-a36a-ba59fa99f93b",
   "metadata": {},
   "source": [
    "## Nueva categoría para los nulos en `CryoSleep`\n",
    "\n",
    "Imputamos algunos nulos con base en el exploratorio realizado."
   ]
  },
  {
   "cell_type": "code",
   "execution_count": 11,
   "id": "7800c9e4-30a5-49d8-a46e-636cd3e9b1dc",
   "metadata": {},
   "outputs": [],
   "source": [
    "target_idxs = data[ (data.CryoSleep.isna()) & (data.CabinDeck == 'T') ].index\n",
    "data.loc[target_idxs, 'CryoSleep'] = False"
   ]
  },
  {
   "cell_type": "code",
   "execution_count": 12,
   "id": "7d41968d-3512-4954-94d8-677187538156",
   "metadata": {},
   "outputs": [],
   "source": [
    "data['CryoSleep'] = data.CryoSleep.astype('string').fillna('Ns/Nc')"
   ]
  },
  {
   "cell_type": "markdown",
   "id": "f21f05be-71cb-4a53-94af-5df183d8b131",
   "metadata": {},
   "source": [
    "## Nueva categoría para los nulos en `Destination`"
   ]
  },
  {
   "cell_type": "code",
   "execution_count": 13,
   "id": "bf778ffa-d05e-4924-adc0-d4b7aee999fa",
   "metadata": {},
   "outputs": [],
   "source": [
    "data.Destination.fillna(\"Ns/Nc\", inplace=True)"
   ]
  },
  {
   "cell_type": "markdown",
   "id": "0825b909-95ba-45ee-83ad-b5445ebc6a04",
   "metadata": {},
   "source": [
    "## Nueva categoría para los nulos en `VIP`\n",
    "\n",
    "Imputamos algunos nulos con base en el exploratorio realizado."
   ]
  },
  {
   "cell_type": "code",
   "execution_count": 14,
   "id": "5731e5c1-da9d-4d55-946a-3c410c96aed7",
   "metadata": {},
   "outputs": [],
   "source": [
    "target_idxs = data[ (data.VIP.isna()) & (data.CabinDeck.isin(['G','T'])) ].index\n",
    "data.loc[target_idxs, 'VIP'] = False"
   ]
  },
  {
   "cell_type": "code",
   "execution_count": 15,
   "id": "01344514-3e2b-452c-8d5e-002d410cdb3b",
   "metadata": {},
   "outputs": [],
   "source": [
    "data['VIP'] = data.VIP.astype('string').fillna('Ns/Nc')"
   ]
  },
  {
   "cell_type": "markdown",
   "id": "e885cf8e-58ae-48cd-ab23-a487866e385b",
   "metadata": {},
   "source": [
    "## Nivel de gasto total"
   ]
  },
  {
   "cell_type": "code",
   "execution_count": 16,
   "id": "b3572d1e-b166-4cdd-a18d-e4e9ceb6c67e",
   "metadata": {},
   "outputs": [],
   "source": [
    "#data['RoomService'].fillna(.0, inplace=True)\n",
    "#data['FoodCourt'].fillna(.0, inplace=True)\n",
    "#data['ShoppingMall'].fillna(.0, inplace=True)\n",
    "#data['Spa'].fillna(.0, inplace=True)\n",
    "#data['VRDeck'].fillna(.0, inplace=True)\n",
    "\n",
    "data['AnyExpenses'] = (data[['RoomService','FoodCourt','ShoppingMall','Spa','VRDeck']].sum(axis=1) != 0).astype(str)\n",
    "data['EssencialBill'] = data[['FoodCourt','ShoppingMall']].sum(axis=1)\n",
    "data['NonEssencialBill'] = data[['RoomService','Spa','VRDeck']].sum(axis=1)\n",
    "\n",
    "#quantiles = data.loc[data.EssencialBill!=0, 'EssencialBill'].quantile([0.33, 0.66, 0.95]).values\n",
    "#bins = np.append( np.insert(quantiles, 0, [0, 0.5]), np.inf )\n",
    "#data['EssencialBill'] = pd.cut(data.EssencialBill, bins, include_lowest=True, labels=[0,1,2,3,4])\n",
    "\n",
    "#quantiles = data.loc[data.NonEssencialBill!=0, 'NonEssencialBill'].quantile([0.33, 0.66, 0.95]).values\n",
    "#bins = np.append( np.insert(quantiles, 0, [0, 0.5]), np.inf )\n",
    "#data['NonEssencialBill'] = pd.cut(data.NonEssencialBill, bins, include_lowest=True, labels=[0,1,2,3,4])"
   ]
  },
  {
   "cell_type": "markdown",
   "id": "00d68f40-5337-44b4-a81e-203effffc829",
   "metadata": {},
   "source": [
    "## Rango de edad\n",
    "\n",
    "En primer lugar, calculamos la mediana de edad en función de la variable `TotalExpensesBinarized` para los pasajeros que no tienen la edad informada."
   ]
  },
  {
   "cell_type": "code",
   "execution_count": 17,
   "id": "5bf9f006-32ea-4cb6-a742-8835dc37db97",
   "metadata": {},
   "outputs": [
    {
     "data": {
      "text/html": [
       "<div>\n",
       "<style scoped>\n",
       "    .dataframe tbody tr th:only-of-type {\n",
       "        vertical-align: middle;\n",
       "    }\n",
       "\n",
       "    .dataframe tbody tr th {\n",
       "        vertical-align: top;\n",
       "    }\n",
       "\n",
       "    .dataframe thead th {\n",
       "        text-align: right;\n",
       "    }\n",
       "</style>\n",
       "<table border=\"1\" class=\"dataframe\">\n",
       "  <thead>\n",
       "    <tr style=\"text-align: right;\">\n",
       "      <th></th>\n",
       "      <th>TotalBill</th>\n",
       "      <th>AgeMean</th>\n",
       "      <th>AgeStd</th>\n",
       "    </tr>\n",
       "  </thead>\n",
       "  <tbody>\n",
       "    <tr>\n",
       "      <th>0</th>\n",
       "      <td>0</td>\n",
       "      <td>25.105480</td>\n",
       "      <td>15.823308</td>\n",
       "    </tr>\n",
       "    <tr>\n",
       "      <th>1</th>\n",
       "      <td>1</td>\n",
       "      <td>28.961475</td>\n",
       "      <td>12.035931</td>\n",
       "    </tr>\n",
       "    <tr>\n",
       "      <th>2</th>\n",
       "      <td>2</td>\n",
       "      <td>31.147156</td>\n",
       "      <td>12.669119</td>\n",
       "    </tr>\n",
       "    <tr>\n",
       "      <th>3</th>\n",
       "      <td>3</td>\n",
       "      <td>33.634283</td>\n",
       "      <td>12.626012</td>\n",
       "    </tr>\n",
       "    <tr>\n",
       "      <th>4</th>\n",
       "      <td>4</td>\n",
       "      <td>36.717808</td>\n",
       "      <td>11.962158</td>\n",
       "    </tr>\n",
       "  </tbody>\n",
       "</table>\n",
       "</div>"
      ],
      "text/plain": [
       "  TotalBill    AgeMean     AgeStd\n",
       "0         0  25.105480  15.823308\n",
       "1         1  28.961475  12.035931\n",
       "2         2  31.147156  12.669119\n",
       "3         3  33.634283  12.626012\n",
       "4         4  36.717808  11.962158"
      ]
     },
     "execution_count": 17,
     "metadata": {},
     "output_type": "execute_result"
    }
   ],
   "source": [
    "data['TotalBill'] = data[['RoomService','FoodCourt','ShoppingMall','Spa','VRDeck']].sum(axis=1)\n",
    "\n",
    "quantiles = data.loc[data.TotalBill!=0, 'TotalBill'].quantile([0.33, 0.66, 0.95]).values\n",
    "bins = np.append( np.insert(quantiles, 0, [0, 0.5]), np.inf )\n",
    "data['TotalBill'] = pd.cut(data.TotalBill, bins, include_lowest=True, labels=[0,1,2,3,4])\n",
    "\n",
    "ageInfoByTotalBillLabel = data.groupby('TotalBill').agg({'Age':['mean','std']})\n",
    "ageInfoByTotalBillLabel.columns = [f\"{x}{y.capitalize()}\" for x, y in ageInfoByTotalBillLabel.columns.to_flat_index()]\n",
    "ageInfoByTotalBillLabel.reset_index(inplace=True)\n",
    "ageInfoByTotalBillLabel"
   ]
  },
  {
   "cell_type": "code",
   "execution_count": 18,
   "id": "938f56ac-3f88-4fef-8a55-69db0c27e779",
   "metadata": {},
   "outputs": [
    {
     "name": "stdout",
     "output_type": "stream",
     "text": [
      "270\n",
      "129 141\n",
      "44 97\n",
      "49 48\n",
      "37 11\n",
      "11 0\n"
     ]
    }
   ],
   "source": [
    "print(data.Age.isna().sum())\n",
    "\n",
    "for _, (totalBillLbl, ageMean, ageStd) in ageInfoByTotalBillLabel.iterrows():\n",
    "    target_idxs = data[ (data.Age.isna()) & (data.TotalBill==totalBillLbl) ].index\n",
    "    \n",
    "    normal_distribution = pd.Series( np.random.normal(loc=ageMean, scale=ageStd, size=len(target_idxs)), index=target_idxs )\n",
    "    #print(normal_distribution)\n",
    "    data.Age.fillna(normal_distribution, inplace=True)\n",
    "    \n",
    "    print(len(target_idxs), data.Age.isna().sum())"
   ]
  },
  {
   "cell_type": "code",
   "execution_count": 19,
   "id": "202ada55-f708-4a1b-b65b-818b848ff597",
   "metadata": {},
   "outputs": [],
   "source": [
    "data['Age'] = pd.cut(data.Age, bins=[-np.inf, 15, 30, 45, 60, 75, np.inf], labels=[0, 1, 2, 3, 4, 5])"
   ]
  },
  {
   "cell_type": "markdown",
   "id": "8890d84f-e1c8-4d5a-b4dc-436b8bf848b9",
   "metadata": {},
   "source": [
    "## Descartamos las variables sobrantes"
   ]
  },
  {
   "cell_type": "code",
   "execution_count": 20,
   "id": "3ac5218d-87c0-4a25-9592-445372d1ffbe",
   "metadata": {},
   "outputs": [
    {
     "data": {
      "text/plain": [
       "PassengerId            object\n",
       "CryoSleep              string\n",
       "Cabin                  object\n",
       "Destination            object\n",
       "Age                  category\n",
       "VIP                    string\n",
       "RoomService           float64\n",
       "FoodCourt             float64\n",
       "ShoppingMall          float64\n",
       "Spa                   float64\n",
       "VRDeck                float64\n",
       "Name                   object\n",
       "Transported            object\n",
       "Dataset                object\n",
       "PassengerGroup         object\n",
       "PassengerGroupNum      object\n",
       "GroupSize               int64\n",
       "HomePlanet             object\n",
       "CabinDeck              object\n",
       "CabinSide              object\n",
       "AnyExpenses            object\n",
       "EssencialBill         float64\n",
       "NonEssencialBill      float64\n",
       "TotalBill            category\n",
       "dtype: object"
      ]
     },
     "execution_count": 20,
     "metadata": {},
     "output_type": "execute_result"
    }
   ],
   "source": [
    "data.dtypes"
   ]
  },
  {
   "cell_type": "code",
   "execution_count": 21,
   "id": "6e7a776e-f482-44a5-8289-deb893e89c32",
   "metadata": {},
   "outputs": [],
   "source": [
    "data.drop(columns=['PassengerId','Cabin','RoomService','FoodCourt','ShoppingMall','Spa','VRDeck','Name',\n",
    "                   'PassengerGroup','PassengerGroupNum','TotalBill'], inplace=True)\n",
    "\n",
    "data['Age'] = data.Age.astype(int)\n",
    "data['AnyExpenses'] = data.AnyExpenses.astype(str)"
   ]
  },
  {
   "cell_type": "markdown",
   "id": "3103aa07-6e26-4a3a-aa5a-bff1963d1d73",
   "metadata": {},
   "source": [
    "# Conjuntos de train y test"
   ]
  },
  {
   "cell_type": "code",
   "execution_count": 22,
   "id": "9ea0ab45-65ac-44d7-807b-7dee18e4aab2",
   "metadata": {},
   "outputs": [
    {
     "data": {
      "text/plain": [
       "((8693, 12), (4277, 12))"
      ]
     },
     "execution_count": 22,
     "metadata": {},
     "output_type": "execute_result"
    }
   ],
   "source": [
    "data_train = data[ data.Dataset=='train' ].drop(columns=['Dataset'])\n",
    "data_test = data[ data.Dataset=='test' ].drop(columns=['Dataset'])\n",
    "data_train.shape, data_test.shape"
   ]
  },
  {
   "cell_type": "code",
   "execution_count": 23,
   "id": "e02027df-b20b-4496-8bcf-362301c6a064",
   "metadata": {},
   "outputs": [],
   "source": [
    "data_train.to_csv(\"data/processed_train.csv\", index=False)\n",
    "data_test.to_csv(\"data/processed_test.csv\", index=False)"
   ]
  },
  {
   "cell_type": "code",
   "execution_count": 24,
   "id": "cac425a1-817a-4dac-9a0f-1f36b999e31a",
   "metadata": {},
   "outputs": [
    {
     "data": {
      "text/plain": [
       "CryoSleep            string\n",
       "Destination          object\n",
       "Age                   int64\n",
       "VIP                  string\n",
       "Transported          object\n",
       "Dataset              object\n",
       "GroupSize             int64\n",
       "HomePlanet           object\n",
       "CabinDeck            object\n",
       "CabinSide            object\n",
       "AnyExpenses          object\n",
       "EssencialBill       float64\n",
       "NonEssencialBill    float64\n",
       "dtype: object"
      ]
     },
     "execution_count": 24,
     "metadata": {},
     "output_type": "execute_result"
    }
   ],
   "source": [
    "data.dtypes"
   ]
  },
  {
   "cell_type": "code",
   "execution_count": 25,
   "id": "9e52fdc5-4c28-4d3f-9337-811ab43d3101",
   "metadata": {},
   "outputs": [
    {
     "data": {
      "text/html": [
       "<div>\n",
       "<style scoped>\n",
       "    .dataframe tbody tr th:only-of-type {\n",
       "        vertical-align: middle;\n",
       "    }\n",
       "\n",
       "    .dataframe tbody tr th {\n",
       "        vertical-align: top;\n",
       "    }\n",
       "\n",
       "    .dataframe thead th {\n",
       "        text-align: right;\n",
       "    }\n",
       "</style>\n",
       "<table border=\"1\" class=\"dataframe\">\n",
       "  <thead>\n",
       "    <tr style=\"text-align: right;\">\n",
       "      <th></th>\n",
       "      <th>CryoSleep</th>\n",
       "      <th>Destination</th>\n",
       "      <th>Age</th>\n",
       "      <th>VIP</th>\n",
       "      <th>Transported</th>\n",
       "      <th>Dataset</th>\n",
       "      <th>GroupSize</th>\n",
       "      <th>HomePlanet</th>\n",
       "      <th>CabinDeck</th>\n",
       "      <th>CabinSide</th>\n",
       "      <th>AnyExpenses</th>\n",
       "      <th>EssencialBill</th>\n",
       "      <th>NonEssencialBill</th>\n",
       "    </tr>\n",
       "  </thead>\n",
       "  <tbody>\n",
       "    <tr>\n",
       "      <th>2181</th>\n",
       "      <td>True</td>\n",
       "      <td>55 Cancri e</td>\n",
       "      <td>2</td>\n",
       "      <td>False</td>\n",
       "      <td>True</td>\n",
       "      <td>train</td>\n",
       "      <td>2</td>\n",
       "      <td>Europa</td>\n",
       "      <td>A</td>\n",
       "      <td>S</td>\n",
       "      <td>False</td>\n",
       "      <td>0.0</td>\n",
       "      <td>0.0</td>\n",
       "    </tr>\n",
       "    <tr>\n",
       "      <th>6025</th>\n",
       "      <td>False</td>\n",
       "      <td>TRAPPIST-1e</td>\n",
       "      <td>2</td>\n",
       "      <td>False</td>\n",
       "      <td>True</td>\n",
       "      <td>train</td>\n",
       "      <td>4</td>\n",
       "      <td>Europa</td>\n",
       "      <td>B</td>\n",
       "      <td>P</td>\n",
       "      <td>True</td>\n",
       "      <td>3772.0</td>\n",
       "      <td>783.0</td>\n",
       "    </tr>\n",
       "    <tr>\n",
       "      <th>10223</th>\n",
       "      <td>True</td>\n",
       "      <td>TRAPPIST-1e</td>\n",
       "      <td>3</td>\n",
       "      <td>False</td>\n",
       "      <td>NaN</td>\n",
       "      <td>test</td>\n",
       "      <td>2</td>\n",
       "      <td>Mars</td>\n",
       "      <td>F</td>\n",
       "      <td>S</td>\n",
       "      <td>False</td>\n",
       "      <td>0.0</td>\n",
       "      <td>0.0</td>\n",
       "    </tr>\n",
       "  </tbody>\n",
       "</table>\n",
       "</div>"
      ],
      "text/plain": [
       "      CryoSleep  Destination  Age    VIP Transported Dataset  GroupSize  \\\n",
       "2181       True  55 Cancri e    2  False        True   train          2   \n",
       "6025      False  TRAPPIST-1e    2  False        True   train          4   \n",
       "10223      True  TRAPPIST-1e    3  False         NaN    test          2   \n",
       "\n",
       "      HomePlanet CabinDeck CabinSide AnyExpenses  EssencialBill  \\\n",
       "2181      Europa         A         S       False            0.0   \n",
       "6025      Europa         B         P        True         3772.0   \n",
       "10223       Mars         F         S       False            0.0   \n",
       "\n",
       "       NonEssencialBill  \n",
       "2181                0.0  \n",
       "6025              783.0  \n",
       "10223               0.0  "
      ]
     },
     "execution_count": 25,
     "metadata": {},
     "output_type": "execute_result"
    }
   ],
   "source": [
    "data.sample(3)"
   ]
  },
  {
   "cell_type": "code",
   "execution_count": null,
   "id": "5f86afbf-f0f9-4290-b59b-d3dc7bbdccc8",
   "metadata": {},
   "outputs": [],
   "source": []
  }
 ],
 "metadata": {
  "kernelspec": {
   "display_name": "Python 3",
   "language": "python",
   "name": "python3"
  },
  "language_info": {
   "codemirror_mode": {
    "name": "ipython",
    "version": 3
   },
   "file_extension": ".py",
   "mimetype": "text/x-python",
   "name": "python",
   "nbconvert_exporter": "python",
   "pygments_lexer": "ipython3",
   "version": "3.8.5"
  }
 },
 "nbformat": 4,
 "nbformat_minor": 5
}
