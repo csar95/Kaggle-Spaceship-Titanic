{
 "cells": [
  {
   "cell_type": "code",
   "execution_count": 1,
   "id": "be5da73d-30aa-4291-a0dc-4fa6ce3bc135",
   "metadata": {},
   "outputs": [],
   "source": [
    "import pandas as pd\n",
    "pd.set_option('display.max_rows', None)\n",
    "import numpy as np\n",
    "import seaborn as sns\n",
    "import matplotlib.pyplot as plt"
   ]
  },
  {
   "cell_type": "markdown",
   "id": "c6220b58-bf1d-4531-9922-d3fe9fc5ce01",
   "metadata": {},
   "source": [
    "# Carga de datos"
   ]
  },
  {
   "cell_type": "code",
   "execution_count": 2,
   "id": "319481ff-ee27-4457-9142-4c51e766e622",
   "metadata": {},
   "outputs": [
    {
     "name": "stdout",
     "output_type": "stream",
     "text": [
      "(8693, 14)\n"
     ]
    },
    {
     "data": {
      "text/html": [
       "<div>\n",
       "<style scoped>\n",
       "    .dataframe tbody tr th:only-of-type {\n",
       "        vertical-align: middle;\n",
       "    }\n",
       "\n",
       "    .dataframe tbody tr th {\n",
       "        vertical-align: top;\n",
       "    }\n",
       "\n",
       "    .dataframe thead th {\n",
       "        text-align: right;\n",
       "    }\n",
       "</style>\n",
       "<table border=\"1\" class=\"dataframe\">\n",
       "  <thead>\n",
       "    <tr style=\"text-align: right;\">\n",
       "      <th></th>\n",
       "      <th>PassengerId</th>\n",
       "      <th>HomePlanet</th>\n",
       "      <th>CryoSleep</th>\n",
       "      <th>Cabin</th>\n",
       "      <th>Destination</th>\n",
       "      <th>Age</th>\n",
       "      <th>VIP</th>\n",
       "      <th>RoomService</th>\n",
       "      <th>FoodCourt</th>\n",
       "      <th>ShoppingMall</th>\n",
       "      <th>Spa</th>\n",
       "      <th>VRDeck</th>\n",
       "      <th>Name</th>\n",
       "      <th>Transported</th>\n",
       "    </tr>\n",
       "  </thead>\n",
       "  <tbody>\n",
       "    <tr>\n",
       "      <th>0</th>\n",
       "      <td>0001_01</td>\n",
       "      <td>Europa</td>\n",
       "      <td>False</td>\n",
       "      <td>B/0/P</td>\n",
       "      <td>TRAPPIST-1e</td>\n",
       "      <td>39.0</td>\n",
       "      <td>False</td>\n",
       "      <td>0.0</td>\n",
       "      <td>0.0</td>\n",
       "      <td>0.0</td>\n",
       "      <td>0.0</td>\n",
       "      <td>0.0</td>\n",
       "      <td>Maham Ofracculy</td>\n",
       "      <td>False</td>\n",
       "    </tr>\n",
       "    <tr>\n",
       "      <th>1</th>\n",
       "      <td>0002_01</td>\n",
       "      <td>Earth</td>\n",
       "      <td>False</td>\n",
       "      <td>F/0/S</td>\n",
       "      <td>TRAPPIST-1e</td>\n",
       "      <td>24.0</td>\n",
       "      <td>False</td>\n",
       "      <td>109.0</td>\n",
       "      <td>9.0</td>\n",
       "      <td>25.0</td>\n",
       "      <td>549.0</td>\n",
       "      <td>44.0</td>\n",
       "      <td>Juanna Vines</td>\n",
       "      <td>True</td>\n",
       "    </tr>\n",
       "    <tr>\n",
       "      <th>2</th>\n",
       "      <td>0003_01</td>\n",
       "      <td>Europa</td>\n",
       "      <td>False</td>\n",
       "      <td>A/0/S</td>\n",
       "      <td>TRAPPIST-1e</td>\n",
       "      <td>58.0</td>\n",
       "      <td>True</td>\n",
       "      <td>43.0</td>\n",
       "      <td>3576.0</td>\n",
       "      <td>0.0</td>\n",
       "      <td>6715.0</td>\n",
       "      <td>49.0</td>\n",
       "      <td>Altark Susent</td>\n",
       "      <td>False</td>\n",
       "    </tr>\n",
       "  </tbody>\n",
       "</table>\n",
       "</div>"
      ],
      "text/plain": [
       "  PassengerId HomePlanet CryoSleep  Cabin  Destination   Age    VIP  \\\n",
       "0     0001_01     Europa     False  B/0/P  TRAPPIST-1e  39.0  False   \n",
       "1     0002_01      Earth     False  F/0/S  TRAPPIST-1e  24.0  False   \n",
       "2     0003_01     Europa     False  A/0/S  TRAPPIST-1e  58.0   True   \n",
       "\n",
       "   RoomService  FoodCourt  ShoppingMall     Spa  VRDeck             Name  \\\n",
       "0          0.0        0.0           0.0     0.0     0.0  Maham Ofracculy   \n",
       "1        109.0        9.0          25.0   549.0    44.0     Juanna Vines   \n",
       "2         43.0     3576.0           0.0  6715.0    49.0    Altark Susent   \n",
       "\n",
       "   Transported  \n",
       "0        False  \n",
       "1         True  \n",
       "2        False  "
      ]
     },
     "execution_count": 2,
     "metadata": {},
     "output_type": "execute_result"
    }
   ],
   "source": [
    "train_data = pd.read_csv(\"spaceship-titanic/train.csv\")\n",
    "print(train_data.shape)\n",
    "train_data.head(3)"
   ]
  },
  {
   "cell_type": "code",
   "execution_count": 3,
   "id": "b4edb584-029e-4e29-bfc2-64df9139b0b6",
   "metadata": {},
   "outputs": [
    {
     "data": {
      "text/plain": [
       "PassengerId      object\n",
       "HomePlanet       object\n",
       "CryoSleep        object\n",
       "Cabin            object\n",
       "Destination      object\n",
       "Age             float64\n",
       "VIP              object\n",
       "RoomService     float64\n",
       "FoodCourt       float64\n",
       "ShoppingMall    float64\n",
       "Spa             float64\n",
       "VRDeck          float64\n",
       "Name             object\n",
       "Transported        bool\n",
       "dtype: object"
      ]
     },
     "execution_count": 3,
     "metadata": {},
     "output_type": "execute_result"
    }
   ],
   "source": [
    "train_data.dtypes"
   ]
  },
  {
   "cell_type": "markdown",
   "id": "6b5077ec-bd8a-4bff-9548-135d9e50ee53",
   "metadata": {},
   "source": [
    "## Valores faltantes"
   ]
  },
  {
   "cell_type": "code",
   "execution_count": 4,
   "id": "328290e2-bca5-4b47-a294-584eff03aceb",
   "metadata": {},
   "outputs": [
    {
     "data": {
      "text/plain": [
       "PassengerId       0\n",
       "HomePlanet      201\n",
       "CryoSleep       217\n",
       "Cabin           199\n",
       "Destination     182\n",
       "Age             179\n",
       "VIP             203\n",
       "RoomService     181\n",
       "FoodCourt       183\n",
       "ShoppingMall    208\n",
       "Spa             183\n",
       "VRDeck          188\n",
       "Name            200\n",
       "Transported       0\n",
       "dtype: int64"
      ]
     },
     "execution_count": 4,
     "metadata": {},
     "output_type": "execute_result"
    }
   ],
   "source": [
    "train_data.isna().sum()"
   ]
  },
  {
   "cell_type": "markdown",
   "id": "e2c8dc19-3646-4bc7-9daf-1847278e2332",
   "metadata": {},
   "source": [
    "## Valores repetidos y únicos"
   ]
  },
  {
   "cell_type": "code",
   "execution_count": 5,
   "id": "3eb5fc5a-2b4a-4a5b-a01f-048a7dfe3387",
   "metadata": {},
   "outputs": [
    {
     "data": {
      "text/plain": [
       "PassengerId     8693\n",
       "HomePlanet         3\n",
       "CryoSleep          2\n",
       "Cabin           6560\n",
       "Destination        3\n",
       "Age               80\n",
       "VIP                2\n",
       "RoomService     1273\n",
       "FoodCourt       1507\n",
       "ShoppingMall    1115\n",
       "Spa             1327\n",
       "VRDeck          1306\n",
       "Name            8473\n",
       "Transported        2\n",
       "dtype: int64"
      ]
     },
     "execution_count": 5,
     "metadata": {},
     "output_type": "execute_result"
    }
   ],
   "source": [
    "train_data.nunique()"
   ]
  },
  {
   "cell_type": "markdown",
   "id": "8edd39fd-20bd-4341-9a4c-956b1aa994fb",
   "metadata": {},
   "source": [
    "Cada pasagero tiene un `PassengerId` único, sin embargo hay algunos nombres que se repiten. También, varios pasageros comparten `Cabin`."
   ]
  },
  {
   "cell_type": "markdown",
   "id": "9e7cd264-9dd6-43a8-afbf-93f31a6c89ff",
   "metadata": {},
   "source": [
    "## Análisis de correlación"
   ]
  },
  {
   "cell_type": "code",
   "execution_count": 6,
   "id": "a8ec8749-7a89-4fd8-9225-f65338e58056",
   "metadata": {},
   "outputs": [
    {
     "data": {
      "text/html": [
       "<style type=\"text/css\">\n",
       "#T_0ed45_row0_col0, #T_0ed45_row1_col1, #T_0ed45_row2_col2, #T_0ed45_row3_col3, #T_0ed45_row4_col4, #T_0ed45_row5_col5, #T_0ed45_row6_col6 {\n",
       "  background-color: #fde725;\n",
       "  color: #000000;\n",
       "}\n",
       "#T_0ed45_row0_col1 {\n",
       "  background-color: #3b528b;\n",
       "  color: #f1f1f1;\n",
       "}\n",
       "#T_0ed45_row0_col2 {\n",
       "  background-color: #46327e;\n",
       "  color: #f1f1f1;\n",
       "}\n",
       "#T_0ed45_row0_col3 {\n",
       "  background-color: #471164;\n",
       "  color: #f1f1f1;\n",
       "}\n",
       "#T_0ed45_row0_col4 {\n",
       "  background-color: #375b8d;\n",
       "  color: #f1f1f1;\n",
       "}\n",
       "#T_0ed45_row0_col5 {\n",
       "  background-color: #3a538b;\n",
       "  color: #f1f1f1;\n",
       "}\n",
       "#T_0ed45_row0_col6, #T_0ed45_row1_col0 {\n",
       "  background-color: #472f7d;\n",
       "  color: #f1f1f1;\n",
       "}\n",
       "#T_0ed45_row1_col2, #T_0ed45_row1_col6, #T_0ed45_row2_col3, #T_0ed45_row3_col2, #T_0ed45_row6_col0, #T_0ed45_row6_col1, #T_0ed45_row6_col4, #T_0ed45_row6_col5 {\n",
       "  background-color: #440154;\n",
       "  color: #f1f1f1;\n",
       "}\n",
       "#T_0ed45_row1_col3 {\n",
       "  background-color: #481a6c;\n",
       "  color: #f1f1f1;\n",
       "}\n",
       "#T_0ed45_row1_col4, #T_0ed45_row2_col0 {\n",
       "  background-color: #424086;\n",
       "  color: #f1f1f1;\n",
       "}\n",
       "#T_0ed45_row1_col5 {\n",
       "  background-color: #453581;\n",
       "  color: #f1f1f1;\n",
       "}\n",
       "#T_0ed45_row2_col1, #T_0ed45_row4_col0 {\n",
       "  background-color: #423f85;\n",
       "  color: #f1f1f1;\n",
       "}\n",
       "#T_0ed45_row2_col4, #T_0ed45_row2_col5 {\n",
       "  background-color: #2e6f8e;\n",
       "  color: #f1f1f1;\n",
       "}\n",
       "#T_0ed45_row2_col6, #T_0ed45_row4_col2 {\n",
       "  background-color: #3d4d8a;\n",
       "  color: #f1f1f1;\n",
       "}\n",
       "#T_0ed45_row3_col0 {\n",
       "  background-color: #482475;\n",
       "  color: #f1f1f1;\n",
       "}\n",
       "#T_0ed45_row3_col1, #T_0ed45_row5_col2 {\n",
       "  background-color: #3c4f8a;\n",
       "  color: #f1f1f1;\n",
       "}\n",
       "#T_0ed45_row3_col4 {\n",
       "  background-color: #424186;\n",
       "  color: #f1f1f1;\n",
       "}\n",
       "#T_0ed45_row3_col5 {\n",
       "  background-color: #443983;\n",
       "  color: #f1f1f1;\n",
       "}\n",
       "#T_0ed45_row3_col6, #T_0ed45_row4_col1 {\n",
       "  background-color: #404588;\n",
       "  color: #f1f1f1;\n",
       "}\n",
       "#T_0ed45_row4_col3, #T_0ed45_row5_col6 {\n",
       "  background-color: #460b5e;\n",
       "  color: #f1f1f1;\n",
       "}\n",
       "#T_0ed45_row4_col5 {\n",
       "  background-color: #355f8d;\n",
       "  color: #f1f1f1;\n",
       "}\n",
       "#T_0ed45_row4_col6 {\n",
       "  background-color: #46075a;\n",
       "  color: #f1f1f1;\n",
       "}\n",
       "#T_0ed45_row5_col0 {\n",
       "  background-color: #453882;\n",
       "  color: #f1f1f1;\n",
       "}\n",
       "#T_0ed45_row5_col1 {\n",
       "  background-color: #433e85;\n",
       "  color: #f1f1f1;\n",
       "}\n",
       "#T_0ed45_row5_col3 {\n",
       "  background-color: #440256;\n",
       "  color: #f1f1f1;\n",
       "}\n",
       "#T_0ed45_row5_col4 {\n",
       "  background-color: #34618d;\n",
       "  color: #f1f1f1;\n",
       "}\n",
       "#T_0ed45_row6_col2 {\n",
       "  background-color: #481769;\n",
       "  color: #f1f1f1;\n",
       "}\n",
       "#T_0ed45_row6_col3 {\n",
       "  background-color: #460a5d;\n",
       "  color: #f1f1f1;\n",
       "}\n",
       "</style>\n",
       "<table id=\"T_0ed45\">\n",
       "  <thead>\n",
       "    <tr>\n",
       "      <th class=\"blank level0\" >&nbsp;</th>\n",
       "      <th id=\"T_0ed45_level0_col0\" class=\"col_heading level0 col0\" >Age</th>\n",
       "      <th id=\"T_0ed45_level0_col1\" class=\"col_heading level0 col1\" >RoomService</th>\n",
       "      <th id=\"T_0ed45_level0_col2\" class=\"col_heading level0 col2\" >FoodCourt</th>\n",
       "      <th id=\"T_0ed45_level0_col3\" class=\"col_heading level0 col3\" >ShoppingMall</th>\n",
       "      <th id=\"T_0ed45_level0_col4\" class=\"col_heading level0 col4\" >Spa</th>\n",
       "      <th id=\"T_0ed45_level0_col5\" class=\"col_heading level0 col5\" >VRDeck</th>\n",
       "      <th id=\"T_0ed45_level0_col6\" class=\"col_heading level0 col6\" >Transported</th>\n",
       "    </tr>\n",
       "  </thead>\n",
       "  <tbody>\n",
       "    <tr>\n",
       "      <th id=\"T_0ed45_level0_row0\" class=\"row_heading level0 row0\" >Age</th>\n",
       "      <td id=\"T_0ed45_row0_col0\" class=\"data row0 col0\" >1.000000</td>\n",
       "      <td id=\"T_0ed45_row0_col1\" class=\"data row0 col1\" >0.068723</td>\n",
       "      <td id=\"T_0ed45_row0_col2\" class=\"data row0 col2\" >0.130421</td>\n",
       "      <td id=\"T_0ed45_row0_col3\" class=\"data row0 col3\" >0.033133</td>\n",
       "      <td id=\"T_0ed45_row0_col4\" class=\"data row0 col4\" >0.123970</td>\n",
       "      <td id=\"T_0ed45_row0_col5\" class=\"data row0 col5\" >0.101007</td>\n",
       "      <td id=\"T_0ed45_row0_col6\" class=\"data row0 col6\" >-0.075026</td>\n",
       "    </tr>\n",
       "    <tr>\n",
       "      <th id=\"T_0ed45_level0_row1\" class=\"row_heading level0 row1\" >RoomService</th>\n",
       "      <td id=\"T_0ed45_row1_col0\" class=\"data row1 col0\" >0.068723</td>\n",
       "      <td id=\"T_0ed45_row1_col1\" class=\"data row1 col1\" >1.000000</td>\n",
       "      <td id=\"T_0ed45_row1_col2\" class=\"data row1 col2\" >-0.015889</td>\n",
       "      <td id=\"T_0ed45_row1_col3\" class=\"data row1 col3\" >0.054480</td>\n",
       "      <td id=\"T_0ed45_row1_col4\" class=\"data row1 col4\" >0.010080</td>\n",
       "      <td id=\"T_0ed45_row1_col5\" class=\"data row1 col5\" >-0.019581</td>\n",
       "      <td id=\"T_0ed45_row1_col6\" class=\"data row1 col6\" >-0.244611</td>\n",
       "    </tr>\n",
       "    <tr>\n",
       "      <th id=\"T_0ed45_level0_row2\" class=\"row_heading level0 row2\" >FoodCourt</th>\n",
       "      <td id=\"T_0ed45_row2_col0\" class=\"data row2 col0\" >0.130421</td>\n",
       "      <td id=\"T_0ed45_row2_col1\" class=\"data row2 col1\" >-0.015889</td>\n",
       "      <td id=\"T_0ed45_row2_col2\" class=\"data row2 col2\" >1.000000</td>\n",
       "      <td id=\"T_0ed45_row2_col3\" class=\"data row2 col3\" >-0.014228</td>\n",
       "      <td id=\"T_0ed45_row2_col4\" class=\"data row2 col4\" >0.221891</td>\n",
       "      <td id=\"T_0ed45_row2_col5\" class=\"data row2 col5\" >0.227995</td>\n",
       "      <td id=\"T_0ed45_row2_col6\" class=\"data row2 col6\" >0.046566</td>\n",
       "    </tr>\n",
       "    <tr>\n",
       "      <th id=\"T_0ed45_level0_row3\" class=\"row_heading level0 row3\" >ShoppingMall</th>\n",
       "      <td id=\"T_0ed45_row3_col0\" class=\"data row3 col0\" >0.033133</td>\n",
       "      <td id=\"T_0ed45_row3_col1\" class=\"data row3 col1\" >0.054480</td>\n",
       "      <td id=\"T_0ed45_row3_col2\" class=\"data row3 col2\" >-0.014228</td>\n",
       "      <td id=\"T_0ed45_row3_col3\" class=\"data row3 col3\" >1.000000</td>\n",
       "      <td id=\"T_0ed45_row3_col4\" class=\"data row3 col4\" >0.013879</td>\n",
       "      <td id=\"T_0ed45_row3_col5\" class=\"data row3 col5\" >-0.007322</td>\n",
       "      <td id=\"T_0ed45_row3_col6\" class=\"data row3 col6\" >0.010141</td>\n",
       "    </tr>\n",
       "    <tr>\n",
       "      <th id=\"T_0ed45_level0_row4\" class=\"row_heading level0 row4\" >Spa</th>\n",
       "      <td id=\"T_0ed45_row4_col0\" class=\"data row4 col0\" >0.123970</td>\n",
       "      <td id=\"T_0ed45_row4_col1\" class=\"data row4 col1\" >0.010080</td>\n",
       "      <td id=\"T_0ed45_row4_col2\" class=\"data row4 col2\" >0.221891</td>\n",
       "      <td id=\"T_0ed45_row4_col3\" class=\"data row4 col3\" >0.013879</td>\n",
       "      <td id=\"T_0ed45_row4_col4\" class=\"data row4 col4\" >1.000000</td>\n",
       "      <td id=\"T_0ed45_row4_col5\" class=\"data row4 col5\" >0.153821</td>\n",
       "      <td id=\"T_0ed45_row4_col6\" class=\"data row4 col6\" >-0.221131</td>\n",
       "    </tr>\n",
       "    <tr>\n",
       "      <th id=\"T_0ed45_level0_row5\" class=\"row_heading level0 row5\" >VRDeck</th>\n",
       "      <td id=\"T_0ed45_row5_col0\" class=\"data row5 col0\" >0.101007</td>\n",
       "      <td id=\"T_0ed45_row5_col1\" class=\"data row5 col1\" >-0.019581</td>\n",
       "      <td id=\"T_0ed45_row5_col2\" class=\"data row5 col2\" >0.227995</td>\n",
       "      <td id=\"T_0ed45_row5_col3\" class=\"data row5 col3\" >-0.007322</td>\n",
       "      <td id=\"T_0ed45_row5_col4\" class=\"data row5 col4\" >0.153821</td>\n",
       "      <td id=\"T_0ed45_row5_col5\" class=\"data row5 col5\" >1.000000</td>\n",
       "      <td id=\"T_0ed45_row5_col6\" class=\"data row5 col6\" >-0.207075</td>\n",
       "    </tr>\n",
       "    <tr>\n",
       "      <th id=\"T_0ed45_level0_row6\" class=\"row_heading level0 row6\" >Transported</th>\n",
       "      <td id=\"T_0ed45_row6_col0\" class=\"data row6 col0\" >-0.075026</td>\n",
       "      <td id=\"T_0ed45_row6_col1\" class=\"data row6 col1\" >-0.244611</td>\n",
       "      <td id=\"T_0ed45_row6_col2\" class=\"data row6 col2\" >0.046566</td>\n",
       "      <td id=\"T_0ed45_row6_col3\" class=\"data row6 col3\" >0.010141</td>\n",
       "      <td id=\"T_0ed45_row6_col4\" class=\"data row6 col4\" >-0.221131</td>\n",
       "      <td id=\"T_0ed45_row6_col5\" class=\"data row6 col5\" >-0.207075</td>\n",
       "      <td id=\"T_0ed45_row6_col6\" class=\"data row6 col6\" >1.000000</td>\n",
       "    </tr>\n",
       "  </tbody>\n",
       "</table>\n"
      ],
      "text/plain": [
       "<pandas.io.formats.style.Styler at 0x7f89a5021c10>"
      ]
     },
     "execution_count": 6,
     "metadata": {},
     "output_type": "execute_result"
    }
   ],
   "source": [
    "train_data.corr(numeric_only=True).style.background_gradient('viridis')"
   ]
  },
  {
   "cell_type": "markdown",
   "id": "963c49d6-438e-4cdf-9bce-774c5e38ea28",
   "metadata": {},
   "source": [
    "# Análisis univariante y multivariante"
   ]
  },
  {
   "cell_type": "markdown",
   "id": "0989ce78-3800-4150-bba4-a0402b5e0afd",
   "metadata": {},
   "source": [
    "## PassengerId\n",
    "\n",
    "A unique Id for each passenger. Each Id takes the form gggg_pp where gggg indicates a group the passenger is travelling with and pp is their number within the group. **People in a group are often family members, but not always.**"
   ]
  },
  {
   "cell_type": "code",
   "execution_count": 7,
   "id": "90057bfc-cd25-4ee7-9b31-491ab16ae8fc",
   "metadata": {},
   "outputs": [
    {
     "data": {
      "text/html": [
       "<div>\n",
       "<style scoped>\n",
       "    .dataframe tbody tr th:only-of-type {\n",
       "        vertical-align: middle;\n",
       "    }\n",
       "\n",
       "    .dataframe tbody tr th {\n",
       "        vertical-align: top;\n",
       "    }\n",
       "\n",
       "    .dataframe thead th {\n",
       "        text-align: right;\n",
       "    }\n",
       "</style>\n",
       "<table border=\"1\" class=\"dataframe\">\n",
       "  <thead>\n",
       "    <tr style=\"text-align: right;\">\n",
       "      <th></th>\n",
       "      <th>PassengerId</th>\n",
       "      <th>HomePlanet</th>\n",
       "      <th>CryoSleep</th>\n",
       "      <th>Cabin</th>\n",
       "      <th>Destination</th>\n",
       "      <th>Age</th>\n",
       "      <th>VIP</th>\n",
       "      <th>RoomService</th>\n",
       "      <th>FoodCourt</th>\n",
       "      <th>ShoppingMall</th>\n",
       "      <th>Spa</th>\n",
       "      <th>VRDeck</th>\n",
       "      <th>Name</th>\n",
       "      <th>Transported</th>\n",
       "      <th>PassengerGroup</th>\n",
       "      <th>PassengerGroupNum</th>\n",
       "    </tr>\n",
       "  </thead>\n",
       "  <tbody>\n",
       "    <tr>\n",
       "      <th>0</th>\n",
       "      <td>0001_01</td>\n",
       "      <td>Europa</td>\n",
       "      <td>False</td>\n",
       "      <td>B/0/P</td>\n",
       "      <td>TRAPPIST-1e</td>\n",
       "      <td>39.0</td>\n",
       "      <td>False</td>\n",
       "      <td>0.0</td>\n",
       "      <td>0.0</td>\n",
       "      <td>0.0</td>\n",
       "      <td>0.0</td>\n",
       "      <td>0.0</td>\n",
       "      <td>Maham Ofracculy</td>\n",
       "      <td>False</td>\n",
       "      <td>0001</td>\n",
       "      <td>01</td>\n",
       "    </tr>\n",
       "    <tr>\n",
       "      <th>1</th>\n",
       "      <td>0002_01</td>\n",
       "      <td>Earth</td>\n",
       "      <td>False</td>\n",
       "      <td>F/0/S</td>\n",
       "      <td>TRAPPIST-1e</td>\n",
       "      <td>24.0</td>\n",
       "      <td>False</td>\n",
       "      <td>109.0</td>\n",
       "      <td>9.0</td>\n",
       "      <td>25.0</td>\n",
       "      <td>549.0</td>\n",
       "      <td>44.0</td>\n",
       "      <td>Juanna Vines</td>\n",
       "      <td>True</td>\n",
       "      <td>0002</td>\n",
       "      <td>01</td>\n",
       "    </tr>\n",
       "    <tr>\n",
       "      <th>2</th>\n",
       "      <td>0003_01</td>\n",
       "      <td>Europa</td>\n",
       "      <td>False</td>\n",
       "      <td>A/0/S</td>\n",
       "      <td>TRAPPIST-1e</td>\n",
       "      <td>58.0</td>\n",
       "      <td>True</td>\n",
       "      <td>43.0</td>\n",
       "      <td>3576.0</td>\n",
       "      <td>0.0</td>\n",
       "      <td>6715.0</td>\n",
       "      <td>49.0</td>\n",
       "      <td>Altark Susent</td>\n",
       "      <td>False</td>\n",
       "      <td>0003</td>\n",
       "      <td>01</td>\n",
       "    </tr>\n",
       "  </tbody>\n",
       "</table>\n",
       "</div>"
      ],
      "text/plain": [
       "  PassengerId HomePlanet CryoSleep  Cabin  Destination   Age    VIP  \\\n",
       "0     0001_01     Europa     False  B/0/P  TRAPPIST-1e  39.0  False   \n",
       "1     0002_01      Earth     False  F/0/S  TRAPPIST-1e  24.0  False   \n",
       "2     0003_01     Europa     False  A/0/S  TRAPPIST-1e  58.0   True   \n",
       "\n",
       "   RoomService  FoodCourt  ShoppingMall     Spa  VRDeck             Name  \\\n",
       "0          0.0        0.0           0.0     0.0     0.0  Maham Ofracculy   \n",
       "1        109.0        9.0          25.0   549.0    44.0     Juanna Vines   \n",
       "2         43.0     3576.0           0.0  6715.0    49.0    Altark Susent   \n",
       "\n",
       "   Transported PassengerGroup PassengerGroupNum  \n",
       "0        False           0001                01  \n",
       "1         True           0002                01  \n",
       "2        False           0003                01  "
      ]
     },
     "execution_count": 7,
     "metadata": {},
     "output_type": "execute_result"
    }
   ],
   "source": [
    "passengersInfo = train_data.PassengerId.apply( lambda gggg_pp : pd.Series(index=['PassengerGroup','PassengerGroupNum'],\n",
    "                                                                          data=[gggg_pp.split('_')[0], gggg_pp.split('_')[1]]) )\n",
    "train_data = train_data.merge(passengersInfo, how='inner', left_index=True, right_index=True)\n",
    "train_data.head(3)"
   ]
  },
  {
   "cell_type": "code",
   "execution_count": 8,
   "id": "3fef7110-082f-4e76-9667-399bf79cefdf",
   "metadata": {},
   "outputs": [
    {
     "data": {
      "text/plain": [
       "('0001', '9280')"
      ]
     },
     "execution_count": 8,
     "metadata": {},
     "output_type": "execute_result"
    }
   ],
   "source": [
    "train_data.PassengerGroup.min(), train_data.PassengerGroup.max()"
   ]
  },
  {
   "cell_type": "code",
   "execution_count": 9,
   "id": "11bcefb8-a841-4cc7-a36f-4c2187e849db",
   "metadata": {},
   "outputs": [
    {
     "data": {
      "text/plain": [
       "('01', '08')"
      ]
     },
     "execution_count": 9,
     "metadata": {},
     "output_type": "execute_result"
    }
   ],
   "source": [
    "train_data.PassengerGroupNum.min(), train_data.PassengerGroupNum.max()"
   ]
  },
  {
   "cell_type": "code",
   "execution_count": 10,
   "id": "7c0670ce-5c67-4baa-aa5f-0ece1c9e4732",
   "metadata": {},
   "outputs": [
    {
     "data": {
      "text/plain": [
       "array(['0984', '4005', '4256', '4498', '5133', '5756', '5885', '8168',\n",
       "       '8728', '8796', '8956', '8988', '9081'], dtype=object)"
      ]
     },
     "execution_count": 10,
     "metadata": {},
     "output_type": "execute_result"
    }
   ],
   "source": [
    "train_data.loc[ train_data.PassengerGroupNum=='08', 'PassengerGroup' ].unique()"
   ]
  },
  {
   "cell_type": "code",
   "execution_count": 11,
   "id": "dbeba41e-744d-4c2e-8663-f9a32b0b253b",
   "metadata": {
    "scrolled": true,
    "tags": []
   },
   "outputs": [
    {
     "data": {
      "image/png": "[encoded data removed]",
      "text/plain": [
       "<Figure size 432x288 with 1 Axes>"
      ]
     },
     "metadata": {
      "needs_background": "light"
     },
     "output_type": "display_data"
    }
   ],
   "source": [
    "sns.histplot( train_data.groupby('PassengerGroup')['PassengerGroupNum'].max() );"
   ]
  },
  {
   "cell_type": "markdown",
   "id": "82b7663b-b52d-4b9d-af64-b8bf577d457f",
   "metadata": {},
   "source": [
    "Quizás se pueda extraer una variable que clasifique los grupos en función del tamaño."
   ]
  },
  {
   "cell_type": "code",
   "execution_count": 12,
   "id": "06e656e2-5f5f-4b90-83c9-6e27799f912b",
   "metadata": {},
   "outputs": [],
   "source": [
    "group_size = train_data.groupby('PassengerGroup')[['PassengerGroupNum']].max().rename(columns={'PassengerGroupNum':'GroupSize'}).reset_index()\n",
    "train_data = train_data.merge(group_size, how='left', on='PassengerGroup')"
   ]
  },
  {
   "cell_type": "code",
   "execution_count": 13,
   "id": "b407516c-6451-4c8b-8ded-67a491c6e80f",
   "metadata": {},
   "outputs": [
    {
     "data": {
      "image/png": "[encoded data removed]",
      "text/plain": [
       "<Figure size 432x288 with 1 Axes>"
      ]
     },
     "metadata": {
      "needs_background": "light"
     },
     "output_type": "display_data"
    }
   ],
   "source": [
    "sns.histplot(data=train_data, x='GroupSize', hue='Transported', multiple='dodge', shrink=.8);"
   ]
  },
  {
   "cell_type": "markdown",
   "id": "5b0d038f-a7d2-4dbe-8ded-2178b2a748eb",
   "metadata": {},
   "source": [
    "Salvo en grupos de tamaño 1 y 8, en el resto de grupos hay más pasajeros perdidos que no transportados."
   ]
  },
  {
   "cell_type": "markdown",
   "id": "b96d5e1c-d632-4657-bd9a-2780c361f15a",
   "metadata": {},
   "source": [
    "## HomePlanet\n",
    "\n",
    "The planet the passenger departed from, typically their planet of permanent residence."
   ]
  },
  {
   "cell_type": "code",
   "execution_count": 14,
   "id": "d1b8e29e-2874-42d6-865e-bb89e914941f",
   "metadata": {},
   "outputs": [
    {
     "data": {
      "text/plain": [
       "Earth     4602\n",
       "Europa    2131\n",
       "Mars      1759\n",
       "NaN        201\n",
       "Name: HomePlanet, dtype: int64"
      ]
     },
     "execution_count": 14,
     "metadata": {},
     "output_type": "execute_result"
    }
   ],
   "source": [
    "train_data.HomePlanet.value_counts(dropna=False)"
   ]
  },
  {
   "cell_type": "code",
   "execution_count": 15,
   "id": "03128c2b-ec45-48f0-9536-3dbff2cf4f35",
   "metadata": {},
   "outputs": [],
   "source": [
    "train_data.HomePlanet.fillna(\"Ns/Nc\", inplace=True)"
   ]
  },
  {
   "cell_type": "code",
   "execution_count": 16,
   "id": "33a82ef8-9bfe-47e4-b194-c2bda37bae1c",
   "metadata": {},
   "outputs": [
    {
     "data": {
      "image/png": "[encoded data removed]",
      "text/plain": [
       "<Figure size 432x288 with 1 Axes>"
      ]
     },
     "metadata": {
      "needs_background": "light"
     },
     "output_type": "display_data"
    }
   ],
   "source": [
    "sns.histplot(train_data, x='HomePlanet', hue='Transported', multiple='dodge', shrink=.8);"
   ]
  },
  {
   "cell_type": "markdown",
   "id": "fb7d20ce-9b65-473e-8acb-1cb2531e9946",
   "metadata": {},
   "source": [
    "Solo entre los pasajeros provenientes de la Tierra hay menos cantidad de pasajeros que se pierden."
   ]
  },
  {
   "cell_type": "markdown",
   "id": "a9dd5e02-8e1a-4cab-ae64-aec6ecb6bbec",
   "metadata": {},
   "source": [
    "## CryoSleep\n",
    "\n",
    "Indicates whether the passenger elected to be put into suspended animation for the duration of the voyage. Passengers in cryosleep are confined to their cabins."
   ]
  },
  {
   "cell_type": "code",
   "execution_count": 17,
   "id": "084cd3e4-032d-4fa5-9ddd-3a70540eddfe",
   "metadata": {},
   "outputs": [
    {
     "data": {
      "text/plain": [
       "False    5439\n",
       "True     3037\n",
       "NaN       217\n",
       "Name: CryoSleep, dtype: int64"
      ]
     },
     "execution_count": 17,
     "metadata": {},
     "output_type": "execute_result"
    }
   ],
   "source": [
    "train_data.CryoSleep.value_counts(dropna=False)"
   ]
  },
  {
   "cell_type": "code",
   "execution_count": 18,
   "id": "8b5d485d-d2c7-4d55-89bb-b0a7efcc33a1",
   "metadata": {},
   "outputs": [],
   "source": [
    "train_data['CryoSleep'] = train_data.CryoSleep.astype('string').fillna('Ns/Nc')"
   ]
  },
  {
   "cell_type": "code",
   "execution_count": 19,
   "id": "4b549b9c-b782-4570-9ee8-d99deec64139",
   "metadata": {},
   "outputs": [
    {
     "data": {
      "image/png": "[encoded data removed]",
      "text/plain": [
       "<Figure size 432x288 with 1 Axes>"
      ]
     },
     "metadata": {
      "needs_background": "light"
     },
     "output_type": "display_data"
    }
   ],
   "source": [
    "sns.histplot(train_data, x='CryoSleep', hue='Transported', multiple='dodge', shrink=.8);"
   ]
  },
  {
   "cell_type": "markdown",
   "id": "7b8a8278-4ac7-4f8e-95a9-11d6ec8b6495",
   "metadata": {},
   "source": [
    "En esta variable se hace mucho más obvio que los pasajeros que iban dormidos tenían muchas más posibilidades de perderse."
   ]
  },
  {
   "cell_type": "markdown",
   "id": "02ec9abd-319f-49d2-a19e-100c9b7aeea8",
   "metadata": {},
   "source": [
    "## Cabin\n",
    "\n",
    "The cabin number where the passenger is staying. Takes the form deck/num/side, where side can be either P for Port or S for Starboard."
   ]
  },
  {
   "cell_type": "code",
   "execution_count": 20,
   "id": "2e0d46a1-1f06-4a9e-a2dc-e9e735387487",
   "metadata": {},
   "outputs": [
    {
     "data": {
      "text/html": [
       "<div>\n",
       "<style scoped>\n",
       "    .dataframe tbody tr th:only-of-type {\n",
       "        vertical-align: middle;\n",
       "    }\n",
       "\n",
       "    .dataframe tbody tr th {\n",
       "        vertical-align: top;\n",
       "    }\n",
       "\n",
       "    .dataframe thead th {\n",
       "        text-align: right;\n",
       "    }\n",
       "</style>\n",
       "<table border=\"1\" class=\"dataframe\">\n",
       "  <thead>\n",
       "    <tr style=\"text-align: right;\">\n",
       "      <th></th>\n",
       "      <th>PassengerId</th>\n",
       "      <th>HomePlanet</th>\n",
       "      <th>CryoSleep</th>\n",
       "      <th>Cabin</th>\n",
       "      <th>Destination</th>\n",
       "      <th>Age</th>\n",
       "      <th>VIP</th>\n",
       "      <th>RoomService</th>\n",
       "      <th>FoodCourt</th>\n",
       "      <th>ShoppingMall</th>\n",
       "      <th>Spa</th>\n",
       "      <th>VRDeck</th>\n",
       "      <th>Name</th>\n",
       "      <th>Transported</th>\n",
       "      <th>PassengerGroup</th>\n",
       "      <th>PassengerGroupNum</th>\n",
       "      <th>GroupSize</th>\n",
       "      <th>CabinDeck</th>\n",
       "      <th>CabinNum</th>\n",
       "      <th>CabinSide</th>\n",
       "    </tr>\n",
       "  </thead>\n",
       "  <tbody>\n",
       "    <tr>\n",
       "      <th>0</th>\n",
       "      <td>0001_01</td>\n",
       "      <td>Europa</td>\n",
       "      <td>False</td>\n",
       "      <td>B/0/P</td>\n",
       "      <td>TRAPPIST-1e</td>\n",
       "      <td>39.0</td>\n",
       "      <td>False</td>\n",
       "      <td>0.0</td>\n",
       "      <td>0.0</td>\n",
       "      <td>0.0</td>\n",
       "      <td>0.0</td>\n",
       "      <td>0.0</td>\n",
       "      <td>Maham Ofracculy</td>\n",
       "      <td>False</td>\n",
       "      <td>0001</td>\n",
       "      <td>01</td>\n",
       "      <td>01</td>\n",
       "      <td>B</td>\n",
       "      <td>0</td>\n",
       "      <td>P</td>\n",
       "    </tr>\n",
       "    <tr>\n",
       "      <th>1</th>\n",
       "      <td>0002_01</td>\n",
       "      <td>Earth</td>\n",
       "      <td>False</td>\n",
       "      <td>F/0/S</td>\n",
       "      <td>TRAPPIST-1e</td>\n",
       "      <td>24.0</td>\n",
       "      <td>False</td>\n",
       "      <td>109.0</td>\n",
       "      <td>9.0</td>\n",
       "      <td>25.0</td>\n",
       "      <td>549.0</td>\n",
       "      <td>44.0</td>\n",
       "      <td>Juanna Vines</td>\n",
       "      <td>True</td>\n",
       "      <td>0002</td>\n",
       "      <td>01</td>\n",
       "      <td>01</td>\n",
       "      <td>F</td>\n",
       "      <td>0</td>\n",
       "      <td>S</td>\n",
       "    </tr>\n",
       "    <tr>\n",
       "      <th>2</th>\n",
       "      <td>0003_01</td>\n",
       "      <td>Europa</td>\n",
       "      <td>False</td>\n",
       "      <td>A/0/S</td>\n",
       "      <td>TRAPPIST-1e</td>\n",
       "      <td>58.0</td>\n",
       "      <td>True</td>\n",
       "      <td>43.0</td>\n",
       "      <td>3576.0</td>\n",
       "      <td>0.0</td>\n",
       "      <td>6715.0</td>\n",
       "      <td>49.0</td>\n",
       "      <td>Altark Susent</td>\n",
       "      <td>False</td>\n",
       "      <td>0003</td>\n",
       "      <td>01</td>\n",
       "      <td>02</td>\n",
       "      <td>A</td>\n",
       "      <td>0</td>\n",
       "      <td>S</td>\n",
       "    </tr>\n",
       "  </tbody>\n",
       "</table>\n",
       "</div>"
      ],
      "text/plain": [
       "  PassengerId HomePlanet CryoSleep  Cabin  Destination   Age    VIP  \\\n",
       "0     0001_01     Europa     False  B/0/P  TRAPPIST-1e  39.0  False   \n",
       "1     0002_01      Earth     False  F/0/S  TRAPPIST-1e  24.0  False   \n",
       "2     0003_01     Europa     False  A/0/S  TRAPPIST-1e  58.0   True   \n",
       "\n",
       "   RoomService  FoodCourt  ShoppingMall     Spa  VRDeck             Name  \\\n",
       "0          0.0        0.0           0.0     0.0     0.0  Maham Ofracculy   \n",
       "1        109.0        9.0          25.0   549.0    44.0     Juanna Vines   \n",
       "2         43.0     3576.0           0.0  6715.0    49.0    Altark Susent   \n",
       "\n",
       "   Transported PassengerGroup PassengerGroupNum GroupSize CabinDeck CabinNum  \\\n",
       "0        False           0001                01        01         B        0   \n",
       "1         True           0002                01        01         F        0   \n",
       "2        False           0003                01        02         A        0   \n",
       "\n",
       "  CabinSide  \n",
       "0         P  \n",
       "1         S  \n",
       "2         S  "
      ]
     },
     "execution_count": 20,
     "metadata": {},
     "output_type": "execute_result"
    }
   ],
   "source": [
    "passengersInfo = train_data.Cabin.apply( lambda cabin : pd.Series(index=['CabinDeck','CabinNum','CabinSide'],\n",
    "                                                                  data=[cabin.split('/')[0], cabin.split('/')[1], cabin.split('/')[2]]) if pd.notna(cabin)\\\n",
    "                                         else pd.Series(index=['CabinDeck','CabinNum','CabinSide'], data=[\"Ns/Nc\",np.nan,\"Ns/Nc\"]) )\n",
    "train_data = train_data.merge(passengersInfo, how='inner', left_index=True, right_index=True)\n",
    "train_data.head(3)"
   ]
  },
  {
   "cell_type": "code",
   "execution_count": 21,
   "id": "90098f2a-3e05-43b3-8650-413597c8d9d1",
   "metadata": {},
   "outputs": [
    {
     "data": {
      "text/plain": [
       "F        2794\n",
       "G        2559\n",
       "E         876\n",
       "B         779\n",
       "C         747\n",
       "D         478\n",
       "A         256\n",
       "Ns/Nc     199\n",
       "T           5\n",
       "Name: CabinDeck, dtype: int64"
      ]
     },
     "execution_count": 21,
     "metadata": {},
     "output_type": "execute_result"
    }
   ],
   "source": [
    "train_data.CabinDeck.value_counts(dropna=False)"
   ]
  },
  {
   "cell_type": "code",
   "execution_count": 37,
   "id": "1cf661a7-e6c0-44cc-bc23-c20432a312bf",
   "metadata": {},
   "outputs": [
    {
     "data": {
      "text/plain": [
       "VIP    CabinDeck\n",
       "False  F            2695\n",
       "       G            2493\n",
       "       E             846\n",
       "       B             725\n",
       "       C             687\n",
       "       D             438\n",
       "       A             215\n",
       "       Ns/Nc         187\n",
       "       T               5\n",
       "True   B              42\n",
       "       C              41\n",
       "       A              35\n",
       "       D              31\n",
       "       F              29\n",
       "       E              15\n",
       "       Ns/Nc           6\n",
       "Name: CabinDeck, dtype: int64"
      ]
     },
     "execution_count": 37,
     "metadata": {},
     "output_type": "execute_result"
    }
   ],
   "source": [
    "train_data.groupby('VIP')['CabinDeck'].value_counts(dropna=False)"
   ]
  },
  {
   "cell_type": "markdown",
   "id": "730f1312-9d5e-47b0-b1f3-763b93878908",
   "metadata": {},
   "source": [
    "'G' y 'T' son las únicas `CabinDeck` que no tienen pasageros VIP. No está clara la relación entre estas 2 variables."
   ]
  },
  {
   "cell_type": "code",
   "execution_count": 22,
   "id": "ebf12805-4ef0-4d5e-8d87-7e27f336f032",
   "metadata": {},
   "outputs": [
    {
     "data": {
      "image/png": "[encoded data removed]",
      "text/plain": [
       "<Figure size 432x288 with 1 Axes>"
      ]
     },
     "metadata": {
      "needs_background": "light"
     },
     "output_type": "display_data"
    }
   ],
   "source": [
    "sns.histplot(train_data, x='CabinDeck', hue='Transported', multiple='dodge', shrink=.8);"
   ]
  },
  {
   "cell_type": "code",
   "execution_count": 23,
   "id": "ca60487f-b55b-43ca-bf5e-bd00b0464d49",
   "metadata": {},
   "outputs": [
    {
     "data": {
      "text/plain": [
       "S        4288\n",
       "P        4206\n",
       "Ns/Nc     199\n",
       "Name: CabinSide, dtype: int64"
      ]
     },
     "execution_count": 23,
     "metadata": {},
     "output_type": "execute_result"
    }
   ],
   "source": [
    "train_data.CabinSide.value_counts(dropna=False)"
   ]
  },
  {
   "cell_type": "code",
   "execution_count": 24,
   "id": "b276bfca-7fbb-413c-b460-a43a6dc865ba",
   "metadata": {},
   "outputs": [
    {
     "data": {
      "image/png": "[encoded data removed]",
      "text/plain": [
       "<Figure size 432x288 with 1 Axes>"
      ]
     },
     "metadata": {
      "needs_background": "light"
     },
     "output_type": "display_data"
    }
   ],
   "source": [
    "sns.histplot(train_data, x='CabinSide', hue='Transported', multiple='dodge', shrink=.8);"
   ]
  },
  {
   "cell_type": "markdown",
   "id": "37755e38-6c7f-4b52-bfe4-0979a1b36a0f",
   "metadata": {},
   "source": [
    "## Destination\n",
    "\n",
    "The planet the passenger will be debarking to."
   ]
  },
  {
   "cell_type": "code",
   "execution_count": 25,
   "id": "fdbd6532-2683-42e0-923b-77865c83f06e",
   "metadata": {},
   "outputs": [
    {
     "data": {
      "text/plain": [
       "TRAPPIST-1e      5915\n",
       "55 Cancri e      1800\n",
       "PSO J318.5-22     796\n",
       "NaN               182\n",
       "Name: Destination, dtype: int64"
      ]
     },
     "execution_count": 25,
     "metadata": {},
     "output_type": "execute_result"
    }
   ],
   "source": [
    "train_data.Destination.value_counts(dropna=False)"
   ]
  },
  {
   "cell_type": "code",
   "execution_count": 26,
   "id": "025acb83-c35a-4fe6-bcfe-b50708bb6bef",
   "metadata": {},
   "outputs": [],
   "source": [
    "train_data['Destination'] = train_data.Destination.astype('string').fillna('Ns/Nc')"
   ]
  },
  {
   "cell_type": "code",
   "execution_count": 27,
   "id": "e77cbb71-7390-45f9-acc6-adfe538fa7e1",
   "metadata": {},
   "outputs": [
    {
     "data": {
      "image/png": "[encoded data removed]",
      "text/plain": [
       "<Figure size 432x288 with 1 Axes>"
      ]
     },
     "metadata": {
      "needs_background": "light"
     },
     "output_type": "display_data"
    }
   ],
   "source": [
    "sns.histplot(train_data, x='Destination', hue='Transported', multiple='dodge', shrink=.8);"
   ]
  },
  {
   "cell_type": "markdown",
   "id": "763f1630-6779-4447-b72a-f9014ac92b50",
   "metadata": {},
   "source": [
    "Se puede comprobar si tiene relación con `Cabin` por ejemplo."
   ]
  },
  {
   "cell_type": "markdown",
   "id": "bce6536e-7f17-4e48-b2f0-24ccb0f919b2",
   "metadata": {},
   "source": [
    "## Age\n",
    "\n",
    "The age of the passenger."
   ]
  },
  {
   "cell_type": "code",
   "execution_count": 28,
   "id": "a7e9ffe2-506b-4fc9-a717-d7e06b7e7684",
   "metadata": {},
   "outputs": [
    {
     "data": {
      "text/plain": [
       "count    8514.000000\n",
       "mean       28.827930\n",
       "std        14.489021\n",
       "min         0.000000\n",
       "25%        19.000000\n",
       "50%        27.000000\n",
       "75%        38.000000\n",
       "max        79.000000\n",
       "Name: Age, dtype: float64"
      ]
     },
     "execution_count": 28,
     "metadata": {},
     "output_type": "execute_result"
    }
   ],
   "source": [
    "train_data.Age.describe()"
   ]
  },
  {
   "cell_type": "code",
   "execution_count": 29,
   "id": "9ccc3a1c-c71a-4f40-b41d-7f2aa3211874",
   "metadata": {},
   "outputs": [
    {
     "data": {
      "image/png": "[encoded data removed]",
      "text/plain": [
       "<Figure size 432x288 with 1 Axes>"
      ]
     },
     "metadata": {
      "needs_background": "light"
     },
     "output_type": "display_data"
    }
   ],
   "source": [
    "sns.histplot(train_data.Age);"
   ]
  },
  {
   "cell_type": "code",
   "execution_count": 30,
   "id": "8be6d0cf-aea9-4bc0-a927-5eda79a52649",
   "metadata": {},
   "outputs": [
    {
     "data": {
      "image/png": "[encoded data removed]",
      "text/plain": [
       "<Figure size 427.125x360 with 1 Axes>"
      ]
     },
     "metadata": {
      "needs_background": "light"
     },
     "output_type": "display_data"
    }
   ],
   "source": [
    "sns.displot(data=train_data, x=\"Age\", hue=\"Transported\", kind=\"kde\");"
   ]
  },
  {
   "cell_type": "markdown",
   "id": "b588355e-4f98-4a06-9a90-f7a57381e1e6",
   "metadata": {},
   "source": [
    "Las mayores diferencias se ven en los pasageros más jóvenes y en los que tienen 20-30 años. Entre los primeros hay un mayor porcentaje de pasajeros perdidos, mientras que en el grupo de jóvenes hay mayor proporción de pasajeros que no fueron transportados. En el resto del espectro de edades no parece haber diferencias.train_data.Age\n",
    "\n",
    "Posibilidad de binarizar esta variable."
   ]
  },
  {
   "cell_type": "code",
   "execution_count": 31,
   "id": "66124f00-5b2a-4c03-b3ef-5b8b46a435d3",
   "metadata": {},
   "outputs": [
    {
     "data": {
      "text/plain": [
       "16-30    3863\n",
       "31-45    2260\n",
       "0-15     1240\n",
       "46-60     931\n",
       "61-75     210\n",
       "NaN       179\n",
       "76-90      10\n",
       "Name: AgeBinarized, dtype: int64"
      ]
     },
     "execution_count": 31,
     "metadata": {},
     "output_type": "execute_result"
    }
   ],
   "source": [
    "# bins = pd.IntervalIndex.from_tuples([(0, 20), (21, 40), (41, 60), (61, 80)], closed='both')\n",
    "# bins = pd.IntervalIndex.from_tuples([(0, 15), (16, 30), (31, 45), (46, 60), (61, 75), (76, 90)], closed='both')\n",
    "# 'labels' no funciona con IntervalBins.\n",
    "train_data['AgeBinarized'] = pd.cut(train_data.Age, bins=[-1, 15, 30, 45, 60, 75, 90], labels=[\"0-15\", \"16-30\", \"31-45\", \"46-60\", \"61-75\", \"76-90\"])\n",
    "train_data.AgeBinarized.value_counts(dropna=False)"
   ]
  },
  {
   "cell_type": "code",
   "execution_count": 32,
   "id": "badde686-570f-4fd9-9372-3ba8a4917dbd",
   "metadata": {},
   "outputs": [
    {
     "data": {
      "image/png": "[encoded data removed]",
      "text/plain": [
       "<Figure size 432x288 with 1 Axes>"
      ]
     },
     "metadata": {
      "needs_background": "light"
     },
     "output_type": "display_data"
    }
   ],
   "source": [
    "sns.histplot(train_data, x='AgeBinarized', hue='Transported', multiple='dodge', shrink=.8);"
   ]
  },
  {
   "cell_type": "code",
   "execution_count": 33,
   "id": "c9ec8f20-625d-4a05-9219-6eca38c3c5db",
   "metadata": {},
   "outputs": [
    {
     "data": {
      "text/plain": [
       "20-40    4348\n",
       "0-20     2435\n",
       "40-60    1511\n",
       "60-80     220\n",
       "NaN       179\n",
       "Name: AgeBinarized, dtype: int64"
      ]
     },
     "execution_count": 33,
     "metadata": {},
     "output_type": "execute_result"
    }
   ],
   "source": [
    "train_data['AgeBinarized'] = pd.cut(train_data.Age, bins=[-1, 20, 40, 60, 80], labels=[\"0-20\", \"20-40\", \"40-60\", \"60-80\"])\n",
    "train_data.AgeBinarized.value_counts(dropna=False)"
   ]
  },
  {
   "cell_type": "code",
   "execution_count": 34,
   "id": "14c7c865-47f4-4749-b32b-cc81fa02382f",
   "metadata": {},
   "outputs": [
    {
     "data": {
      "image/png": "[encoded data removed]",
      "text/plain": [
       "<Figure size 432x288 with 1 Axes>"
      ]
     },
     "metadata": {
      "needs_background": "light"
     },
     "output_type": "display_data"
    }
   ],
   "source": [
    "sns.histplot(train_data, x='AgeBinarized', hue='Transported', multiple='dodge', shrink=.8);"
   ]
  },
  {
   "cell_type": "markdown",
   "id": "c84c6ad5-9843-42a5-9518-93edaad1a89e",
   "metadata": {},
   "source": [
    "## VIP\n",
    "\n",
    "Whether the passenger has paid for special VIP service during the voyage."
   ]
  },
  {
   "cell_type": "code",
   "execution_count": 36,
   "id": "b5a19557-6d07-421e-b6d9-ad1f2baabc9e",
   "metadata": {},
   "outputs": [
    {
     "data": {
      "text/plain": [
       "False    8291\n",
       "NaN       203\n",
       "True      199\n",
       "Name: VIP, dtype: int64"
      ]
     },
     "execution_count": 36,
     "metadata": {},
     "output_type": "execute_result"
    }
   ],
   "source": [
    "train_data.VIP.value_counts(dropna=False)"
   ]
  },
  {
   "cell_type": "code",
   "execution_count": 38,
   "id": "6e8f1707-298a-4b4b-8002-5527cf48ea8f",
   "metadata": {},
   "outputs": [],
   "source": [
    "train_data['VIP'] = train_data.VIP.astype('string').fillna('Ns/Nc')"
   ]
  },
  {
   "cell_type": "code",
   "execution_count": 39,
   "id": "0b72faa7-97c4-49fd-b637-af95461f396e",
   "metadata": {},
   "outputs": [
    {
     "data": {
      "image/png": "[encoded data removed]",
      "text/plain": [
       "<Figure size 432x288 with 1 Axes>"
      ]
     },
     "metadata": {
      "needs_background": "light"
     },
     "output_type": "display_data"
    }
   ],
   "source": [
    "sns.histplot(train_data, x='VIP', hue='Transported', multiple='dodge', shrink=.8);"
   ]
  },
  {
   "cell_type": "markdown",
   "id": "5f016de7-24ad-4f3f-b9b1-bbaca0a1b32b",
   "metadata": {},
   "source": [
    "Las 2 clases tienen prácticamente la misma representación en clientes VIP y no VIP."
   ]
  },
  {
   "cell_type": "markdown",
   "id": "ddcb05e8-c0e1-42a3-b5df-ca622610f25b",
   "metadata": {},
   "source": [
    "## RoomService & FoodCourt & ShoppingMall & Spa & VRDeck\n",
    "\n",
    "Amount the passenger has billed at each of the Spaceship Titanic's many luxury amenities."
   ]
  },
  {
   "cell_type": "code",
   "execution_count": 41,
   "id": "a329af7f-5d98-4ab9-91d3-4c0da5378504",
   "metadata": {},
   "outputs": [
    {
     "data": {
      "text/html": [
       "<div>\n",
       "<style scoped>\n",
       "    .dataframe tbody tr th:only-of-type {\n",
       "        vertical-align: middle;\n",
       "    }\n",
       "\n",
       "    .dataframe tbody tr th {\n",
       "        vertical-align: top;\n",
       "    }\n",
       "\n",
       "    .dataframe thead th {\n",
       "        text-align: right;\n",
       "    }\n",
       "</style>\n",
       "<table border=\"1\" class=\"dataframe\">\n",
       "  <thead>\n",
       "    <tr style=\"text-align: right;\">\n",
       "      <th></th>\n",
       "      <th>RoomService</th>\n",
       "      <th>FoodCourt</th>\n",
       "      <th>ShoppingMall</th>\n",
       "      <th>Spa</th>\n",
       "      <th>VRDeck</th>\n",
       "    </tr>\n",
       "  </thead>\n",
       "  <tbody>\n",
       "    <tr>\n",
       "      <th>count</th>\n",
       "      <td>8512.000000</td>\n",
       "      <td>8510.000000</td>\n",
       "      <td>8485.000000</td>\n",
       "      <td>8510.000000</td>\n",
       "      <td>8505.000000</td>\n",
       "    </tr>\n",
       "    <tr>\n",
       "      <th>mean</th>\n",
       "      <td>224.687617</td>\n",
       "      <td>458.077203</td>\n",
       "      <td>173.729169</td>\n",
       "      <td>311.138778</td>\n",
       "      <td>304.854791</td>\n",
       "    </tr>\n",
       "    <tr>\n",
       "      <th>std</th>\n",
       "      <td>666.717663</td>\n",
       "      <td>1611.489240</td>\n",
       "      <td>604.696458</td>\n",
       "      <td>1136.705535</td>\n",
       "      <td>1145.717189</td>\n",
       "    </tr>\n",
       "    <tr>\n",
       "      <th>min</th>\n",
       "      <td>0.000000</td>\n",
       "      <td>0.000000</td>\n",
       "      <td>0.000000</td>\n",
       "      <td>0.000000</td>\n",
       "      <td>0.000000</td>\n",
       "    </tr>\n",
       "    <tr>\n",
       "      <th>25%</th>\n",
       "      <td>0.000000</td>\n",
       "      <td>0.000000</td>\n",
       "      <td>0.000000</td>\n",
       "      <td>0.000000</td>\n",
       "      <td>0.000000</td>\n",
       "    </tr>\n",
       "    <tr>\n",
       "      <th>50%</th>\n",
       "      <td>0.000000</td>\n",
       "      <td>0.000000</td>\n",
       "      <td>0.000000</td>\n",
       "      <td>0.000000</td>\n",
       "      <td>0.000000</td>\n",
       "    </tr>\n",
       "    <tr>\n",
       "      <th>75%</th>\n",
       "      <td>47.000000</td>\n",
       "      <td>76.000000</td>\n",
       "      <td>27.000000</td>\n",
       "      <td>59.000000</td>\n",
       "      <td>46.000000</td>\n",
       "    </tr>\n",
       "    <tr>\n",
       "      <th>max</th>\n",
       "      <td>14327.000000</td>\n",
       "      <td>29813.000000</td>\n",
       "      <td>23492.000000</td>\n",
       "      <td>22408.000000</td>\n",
       "      <td>24133.000000</td>\n",
       "    </tr>\n",
       "  </tbody>\n",
       "</table>\n",
       "</div>"
      ],
      "text/plain": [
       "        RoomService     FoodCourt  ShoppingMall           Spa        VRDeck\n",
       "count   8512.000000   8510.000000   8485.000000   8510.000000   8505.000000\n",
       "mean     224.687617    458.077203    173.729169    311.138778    304.854791\n",
       "std      666.717663   1611.489240    604.696458   1136.705535   1145.717189\n",
       "min        0.000000      0.000000      0.000000      0.000000      0.000000\n",
       "25%        0.000000      0.000000      0.000000      0.000000      0.000000\n",
       "50%        0.000000      0.000000      0.000000      0.000000      0.000000\n",
       "75%       47.000000     76.000000     27.000000     59.000000     46.000000\n",
       "max    14327.000000  29813.000000  23492.000000  22408.000000  24133.000000"
      ]
     },
     "execution_count": 41,
     "metadata": {},
     "output_type": "execute_result"
    }
   ],
   "source": [
    "train_data[['RoomService','FoodCourt','ShoppingMall','Spa','VRDeck']].describe()"
   ]
  },
  {
   "cell_type": "code",
   "execution_count": 44,
   "id": "cd0cbde1-eb51-4c1f-857a-1af97465ee76",
   "metadata": {
    "scrolled": true,
    "tags": []
   },
   "outputs": [
    {
     "data": {
      "text/plain": [
       "count     8693.000000\n",
       "mean      1440.866329\n",
       "std       2803.045694\n",
       "min          0.000000\n",
       "25%          0.000000\n",
       "50%        716.000000\n",
       "75%       1441.000000\n",
       "max      35987.000000\n",
       "Name: TotalExpenses, dtype: float64"
      ]
     },
     "execution_count": 44,
     "metadata": {},
     "output_type": "execute_result"
    }
   ],
   "source": [
    "train_data['TotalExpenses'] = train_data[['RoomService','FoodCourt','ShoppingMall','Spa','VRDeck']].sum(axis=1)\n",
    "train_data.TotalExpenses.describe()"
   ]
  },
  {
   "cell_type": "code",
   "execution_count": 62,
   "id": "1017f6bc-792d-488f-a83f-1787ea519342",
   "metadata": {},
   "outputs": [
    {
     "data": {
      "text/plain": [
       "count     5040.000000\n",
       "mean      2485.208532\n",
       "std       3310.148848\n",
       "min          1.000000\n",
       "25%        797.000000\n",
       "50%       1187.500000\n",
       "75%       2633.500000\n",
       "max      35987.000000\n",
       "Name: TotalExpenses, dtype: float64"
      ]
     },
     "execution_count": 62,
     "metadata": {},
     "output_type": "execute_result"
    }
   ],
   "source": [
    "train_data.loc[train_data.TotalExpenses!=0, 'TotalExpenses'].describe()"
   ]
  },
  {
   "cell_type": "code",
   "execution_count": 49,
   "id": "46b7dfff-4b4c-483a-b2fe-445a4ef1c421",
   "metadata": {},
   "outputs": [
    {
     "data": {
      "image/png": "[encoded data removed]",
      "text/plain": [
       "<Figure size 1080x360 with 1 Axes>"
      ]
     },
     "metadata": {
      "needs_background": "light"
     },
     "output_type": "display_data"
    }
   ],
   "source": [
    "plt.subplots(figsize=(15,5))\n",
    "sns.histplot(train_data.loc[train_data.TotalExpenses!=0, 'TotalExpenses'], bins=100);"
   ]
  },
  {
   "cell_type": "code",
   "execution_count": 74,
   "id": "c3930f26-053f-46b8-b65a-16b1db2850e3",
   "metadata": {},
   "outputs": [
    {
     "data": {
      "text/plain": [
       "ZERO      3653\n",
       "LOW       1666\n",
       "MEDIUM    1660\n",
       "HIGH      1462\n",
       "TOP        252\n",
       "Name: TotalExpensesBinarized, dtype: int64"
      ]
     },
     "execution_count": 74,
     "metadata": {},
     "output_type": "execute_result"
    }
   ],
   "source": [
    "quantiles = train_data.loc[train_data.TotalExpenses!=0, 'TotalExpenses'].quantile([0.33, 0.66, 0.95]).values\n",
    "bins = np.append( np.insert(quantiles, 0, [0, 0.5]), np.inf )\n",
    "train_data['TotalExpensesBinarized'] = pd.cut(train_data.TotalExpenses, bins, include_lowest=True, labels=[\"ZERO\",\"LOW\",\"MEDIUM\",\"HIGH\",\"TOP\"])\n",
    "train_data.TotalExpensesBinarized.value_counts(dropna=False)"
   ]
  },
  {
   "cell_type": "markdown",
   "id": "e9703fda-b895-4eb3-b889-733b5161e242",
   "metadata": {},
   "source": [
    "También se puede hacer esto mismo con los gastos desdoblados."
   ]
  },
  {
   "cell_type": "code",
   "execution_count": 75,
   "id": "3db16a58-eebc-433a-8f9b-f4f7cba4ca2e",
   "metadata": {},
   "outputs": [
    {
     "data": {
      "image/png": "[encoded data removed]",
      "text/plain": [
       "<Figure size 432x288 with 1 Axes>"
      ]
     },
     "metadata": {
      "needs_background": "light"
     },
     "output_type": "display_data"
    }
   ],
   "source": [
    "sns.histplot(train_data, x='TotalExpensesBinarized', hue='Transported', multiple='dodge', shrink=.8);"
   ]
  },
  {
   "cell_type": "code",
   "execution_count": 84,
   "id": "7d2aa8b5-07dc-466c-9950-bb6a167b4490",
   "metadata": {},
   "outputs": [
    {
     "data": {
      "text/plain": [
       "TotalExpensesBinarized  CabinDeck\n",
       "ZERO                    G            1680\n",
       "                        F             654\n",
       "                        B             471\n",
       "                        C             323\n",
       "                        E             231\n",
       "                        D             109\n",
       "                        Ns/Nc          97\n",
       "                        A              88\n",
       "LOW                     F             913\n",
       "                        G             478\n",
       "                        E             218\n",
       "                        Ns/Nc          28\n",
       "                        D              25\n",
       "                        C               4\n",
       "MEDIUM                  F             856\n",
       "                        G             345\n",
       "                        E             288\n",
       "                        D             112\n",
       "                        Ns/Nc          31\n",
       "                        A              14\n",
       "                        B               7\n",
       "                        C               6\n",
       "                        T               1\n",
       "HIGH                    F             371\n",
       "                        C             300\n",
       "                        B             223\n",
       "                        D             218\n",
       "                        A             130\n",
       "                        E             126\n",
       "                        G              56\n",
       "                        Ns/Nc          34\n",
       "                        T               4\n",
       "TOP                     C             114\n",
       "                        B              78\n",
       "                        A              24\n",
       "                        D              14\n",
       "                        E              13\n",
       "                        Ns/Nc           9\n",
       "Name: CabinDeck, dtype: int64"
      ]
     },
     "execution_count": 84,
     "metadata": {},
     "output_type": "execute_result"
    }
   ],
   "source": [
    "train_data.groupby('TotalExpensesBinarized')['CabinDeck'].value_counts(dropna=False)"
   ]
  },
  {
   "cell_type": "markdown",
   "id": "9bd551e8-bcff-4632-b1dc-95c1ed8ee699",
   "metadata": {},
   "source": [
    "Está claro que los pasajeros con menos recursos no se alojaban en el `CabinDeck` 'G'."
   ]
  },
  {
   "cell_type": "code",
   "execution_count": 89,
   "id": "8505cffe-8d88-439f-810a-683cdf6f28f5",
   "metadata": {},
   "outputs": [
    {
     "data": {
      "text/plain": [
       "TotalExpensesBinarized  VIP  \n",
       "ZERO                    False    0.966877\n",
       "                        Ns/Nc    0.025459\n",
       "                        True     0.007665\n",
       "LOW                     False    0.973589\n",
       "                        Ns/Nc    0.022809\n",
       "                        True     0.003601\n",
       "MEDIUM                  False    0.954217\n",
       "                        True     0.025301\n",
       "                        Ns/Nc    0.020482\n",
       "HIGH                    False    0.914501\n",
       "                        True     0.064979\n",
       "                        Ns/Nc    0.020520\n",
       "TOP                     False    0.857143\n",
       "                        True     0.111111\n",
       "                        Ns/Nc    0.031746\n",
       "Name: VIP, dtype: float64"
      ]
     },
     "execution_count": 89,
     "metadata": {},
     "output_type": "execute_result"
    }
   ],
   "source": [
    "train_data.groupby('TotalExpensesBinarized')['VIP'].value_counts(dropna=False, normalize=True)"
   ]
  },
  {
   "cell_type": "markdown",
   "id": "f55de082-6862-4d0d-9288-b92da2ceefde",
   "metadata": {},
   "source": [
    "La variable `TotalExpensesBinarized` está correlacionada con la variable `VIP`."
   ]
  },
  {
   "cell_type": "code",
   "execution_count": 80,
   "id": "bee4b5ac-cdfe-4321-a875-c5ef4f83ad38",
   "metadata": {},
   "outputs": [
    {
     "data": {
      "text/plain": [
       "True     5040\n",
       "False    3653\n",
       "Name: Expenses, dtype: int64"
      ]
     },
     "execution_count": 80,
     "metadata": {},
     "output_type": "execute_result"
    }
   ],
   "source": [
    "train_data['Expenses'] = (train_data.TotalExpenses != 0).astype('str')\n",
    "train_data.Expenses.value_counts(dropna=False)"
   ]
  },
  {
   "cell_type": "code",
   "execution_count": 81,
   "id": "79fd37c5-8367-451e-935d-0e7bb02124bd",
   "metadata": {},
   "outputs": [
    {
     "data": {
      "image/png": "[encoded data removed]",
      "text/plain": [
       "<Figure size 432x288 with 1 Axes>"
      ]
     },
     "metadata": {
      "needs_background": "light"
     },
     "output_type": "display_data"
    }
   ],
   "source": [
    "sns.histplot(train_data, x='Expenses', hue='Transported', multiple='dodge', shrink=.8);"
   ]
  },
  {
   "cell_type": "markdown",
   "id": "e11d8436-f901-44ef-880c-60fe5978286a",
   "metadata": {},
   "source": [
    "Entre los pasajeros que sí tenían gastos adicionales hay una menor proporción de pasajeros perdidos que entre los que no tenían gastos adicionales. Esto probablemente esté relacionado con el nivel de renta."
   ]
  },
  {
   "cell_type": "markdown",
   "id": "b0be0406-b9cb-43bc-8dd4-fd8e288a64cf",
   "metadata": {},
   "source": [
    "## Name\n",
    "\n",
    "The first and last names of the passenger."
   ]
  },
  {
   "cell_type": "code",
   "execution_count": 91,
   "id": "d3a741d1-253e-4167-8b94-fb36a84da6cd",
   "metadata": {},
   "outputs": [],
   "source": [
    "from gender_guesser import detector\n",
    "d = detector.Detector()"
   ]
  },
  {
   "cell_type": "code",
   "execution_count": 98,
   "id": "e7bde796-000f-4e74-95df-3d86c70842bc",
   "metadata": {
    "scrolled": true,
    "tags": []
   },
   "outputs": [
    {
     "data": {
      "text/plain": [
       "Ns/Nc     7459\n",
       "female     811\n",
       "male       423\n",
       "Name: Sex, dtype: int64"
      ]
     },
     "execution_count": 98,
     "metadata": {},
     "output_type": "execute_result"
    }
   ],
   "source": [
    "def get_sex(name):\n",
    "    if pd.notna(name):\n",
    "        sex = d.get_gender( name.split(' ')[0] )\n",
    "        return sex if sex in ['female','male'] else 'Ns/Nc'\n",
    "    else:\n",
    "        return 'Ns/Nc'\n",
    "\n",
    "train_data['Sex'] = train_data.Name.apply(get_sex)\n",
    "train_data.Sex.value_counts(dropna=False)"
   ]
  },
  {
   "cell_type": "code",
   "execution_count": 100,
   "id": "a7c019d3-621b-4221-be70-ead91948636d",
   "metadata": {
    "scrolled": true,
    "tags": []
   },
   "outputs": [
    {
     "data": {
      "text/plain": [
       "3740       Lorian River\n",
       "8318    Timmy Garnettiz\n",
       "7772          Gal Prité\n",
       "2446    Paulie Stanleyd\n",
       "1566        Arin Fringh\n",
       "Name: Name, dtype: object"
      ]
     },
     "execution_count": 100,
     "metadata": {},
     "output_type": "execute_result"
    }
   ],
   "source": [
    "train_data.loc[train_data.Sex=='male', 'Name'].sample(5)"
   ]
  },
  {
   "cell_type": "markdown",
   "id": "4a2a797d-325d-43bf-b908-1e40ea1b7963",
   "metadata": {},
   "source": [
    "Hay ejemplos en los que se ve que la clasificación no es completamente precisa, por lo que descartamos extraer el sexo a partir del nombre. Además, en la mayoría de proyectos trabajar con el nombre es poco probable debido a la confidencialidad de los datos."
   ]
  },
  {
   "cell_type": "markdown",
   "id": "81210b22-c433-4a72-a3bd-49eecb35acd4",
   "metadata": {},
   "source": [
    "## Transported\n",
    "\n",
    "Whether the passenger was transported to another dimension. **This is the target**, the column you are trying to predict."
   ]
  },
  {
   "cell_type": "code",
   "execution_count": 35,
   "id": "080ceebc-1644-440b-9ba9-4ad854834d54",
   "metadata": {},
   "outputs": [
    {
     "data": {
      "text/plain": [
       "True     4378\n",
       "False    4315\n",
       "Name: Transported, dtype: int64"
      ]
     },
     "execution_count": 35,
     "metadata": {},
     "output_type": "execute_result"
    }
   ],
   "source": [
    "train_data.Transported.value_counts()"
   ]
  },
  {
   "cell_type": "markdown",
   "id": "7e22941a-6574-46bf-a918-70db092c437d",
   "metadata": {},
   "source": [
    "Las dos clases están igualmente representadas."
   ]
  },
  {
   "cell_type": "code",
   "execution_count": null,
   "id": "374dc2fb-fb05-43e3-913c-5b3bf9d54c72",
   "metadata": {},
   "outputs": [],
   "source": []
  }
 ],
 "metadata": {
  "kernelspec": {
   "display_name": "Python 3",
   "language": "python",
   "name": "python3"
  },
  "language_info": {
   "codemirror_mode": {
    "name": "ipython",
    "version": 3
   },
   "file_extension": ".py",
   "mimetype": "text/x-python",
   "name": "python",
   "nbconvert_exporter": "python",
   "pygments_lexer": "ipython3",
   "version": "3.8.5"
  }
 },
 "nbformat": 4,
 "nbformat_minor": 5
}
