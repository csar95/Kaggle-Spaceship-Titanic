{
 "cells": [
  {
   "cell_type": "code",
   "execution_count": 1,
   "id": "be5da73d-30aa-4291-a0dc-4fa6ce3bc135",
   "metadata": {},
   "outputs": [],
   "source": [
    "import pandas as pd\n",
    "pd.set_option('display.max_rows', None)\n",
    "import numpy as np\n",
    "import seaborn as sns\n",
    "import matplotlib.pyplot as plt"
   ]
  },
  {
   "cell_type": "markdown",
   "id": "c6220b58-bf1d-4531-9922-d3fe9fc5ce01",
   "metadata": {},
   "source": [
    "# Carga de datos"
   ]
  },
  {
   "cell_type": "code",
   "execution_count": 2,
   "id": "319481ff-ee27-4457-9142-4c51e766e622",
   "metadata": {},
   "outputs": [
    {
     "name": "stdout",
     "output_type": "stream",
     "text": [
      "(8693, 14)\n"
     ]
    },
    {
     "data": {
      "text/html": [
       "<div>\n",
       "<style scoped>\n",
       "    .dataframe tbody tr th:only-of-type {\n",
       "        vertical-align: middle;\n",
       "    }\n",
       "\n",
       "    .dataframe tbody tr th {\n",
       "        vertical-align: top;\n",
       "    }\n",
       "\n",
       "    .dataframe thead th {\n",
       "        text-align: right;\n",
       "    }\n",
       "</style>\n",
       "<table border=\"1\" class=\"dataframe\">\n",
       "  <thead>\n",
       "    <tr style=\"text-align: right;\">\n",
       "      <th></th>\n",
       "      <th>PassengerId</th>\n",
       "      <th>HomePlanet</th>\n",
       "      <th>CryoSleep</th>\n",
       "      <th>Cabin</th>\n",
       "      <th>Destination</th>\n",
       "      <th>Age</th>\n",
       "      <th>VIP</th>\n",
       "      <th>RoomService</th>\n",
       "      <th>FoodCourt</th>\n",
       "      <th>ShoppingMall</th>\n",
       "      <th>Spa</th>\n",
       "      <th>VRDeck</th>\n",
       "      <th>Name</th>\n",
       "      <th>Transported</th>\n",
       "    </tr>\n",
       "  </thead>\n",
       "  <tbody>\n",
       "    <tr>\n",
       "      <th>0</th>\n",
       "      <td>0001_01</td>\n",
       "      <td>Europa</td>\n",
       "      <td>False</td>\n",
       "      <td>B/0/P</td>\n",
       "      <td>TRAPPIST-1e</td>\n",
       "      <td>39.0</td>\n",
       "      <td>False</td>\n",
       "      <td>0.0</td>\n",
       "      <td>0.0</td>\n",
       "      <td>0.0</td>\n",
       "      <td>0.0</td>\n",
       "      <td>0.0</td>\n",
       "      <td>Maham Ofracculy</td>\n",
       "      <td>False</td>\n",
       "    </tr>\n",
       "    <tr>\n",
       "      <th>1</th>\n",
       "      <td>0002_01</td>\n",
       "      <td>Earth</td>\n",
       "      <td>False</td>\n",
       "      <td>F/0/S</td>\n",
       "      <td>TRAPPIST-1e</td>\n",
       "      <td>24.0</td>\n",
       "      <td>False</td>\n",
       "      <td>109.0</td>\n",
       "      <td>9.0</td>\n",
       "      <td>25.0</td>\n",
       "      <td>549.0</td>\n",
       "      <td>44.0</td>\n",
       "      <td>Juanna Vines</td>\n",
       "      <td>True</td>\n",
       "    </tr>\n",
       "    <tr>\n",
       "      <th>2</th>\n",
       "      <td>0003_01</td>\n",
       "      <td>Europa</td>\n",
       "      <td>False</td>\n",
       "      <td>A/0/S</td>\n",
       "      <td>TRAPPIST-1e</td>\n",
       "      <td>58.0</td>\n",
       "      <td>True</td>\n",
       "      <td>43.0</td>\n",
       "      <td>3576.0</td>\n",
       "      <td>0.0</td>\n",
       "      <td>6715.0</td>\n",
       "      <td>49.0</td>\n",
       "      <td>Altark Susent</td>\n",
       "      <td>False</td>\n",
       "    </tr>\n",
       "  </tbody>\n",
       "</table>\n",
       "</div>"
      ],
      "text/plain": [
       "  PassengerId HomePlanet CryoSleep  Cabin  Destination   Age    VIP  \\\n",
       "0     0001_01     Europa     False  B/0/P  TRAPPIST-1e  39.0  False   \n",
       "1     0002_01      Earth     False  F/0/S  TRAPPIST-1e  24.0  False   \n",
       "2     0003_01     Europa     False  A/0/S  TRAPPIST-1e  58.0   True   \n",
       "\n",
       "   RoomService  FoodCourt  ShoppingMall     Spa  VRDeck             Name  \\\n",
       "0          0.0        0.0           0.0     0.0     0.0  Maham Ofracculy   \n",
       "1        109.0        9.0          25.0   549.0    44.0     Juanna Vines   \n",
       "2         43.0     3576.0           0.0  6715.0    49.0    Altark Susent   \n",
       "\n",
       "   Transported  \n",
       "0        False  \n",
       "1         True  \n",
       "2        False  "
      ]
     },
     "execution_count": 2,
     "metadata": {},
     "output_type": "execute_result"
    }
   ],
   "source": [
    "train_data = pd.read_csv(\"spaceship-titanic/train.csv\")\n",
    "print(train_data.shape)\n",
    "train_data.head(3)"
   ]
  },
  {
   "cell_type": "markdown",
   "id": "6b5077ec-bd8a-4bff-9548-135d9e50ee53",
   "metadata": {},
   "source": [
    "## Valores faltantes"
   ]
  },
  {
   "cell_type": "code",
   "execution_count": 13,
   "id": "328290e2-bca5-4b47-a294-584eff03aceb",
   "metadata": {},
   "outputs": [
    {
     "data": {
      "text/plain": [
       "PassengerId            0\n",
       "HomePlanet           201\n",
       "CryoSleep            217\n",
       "Cabin                199\n",
       "Destination          182\n",
       "Age                  179\n",
       "VIP                  203\n",
       "RoomService          181\n",
       "FoodCourt            183\n",
       "ShoppingMall         208\n",
       "Spa                  183\n",
       "VRDeck               188\n",
       "Name                 200\n",
       "Transported            0\n",
       "PassengerGroup         0\n",
       "PassengerGroupNum      0\n",
       "GroupSize              0\n",
       "dtype: int64"
      ]
     },
     "execution_count": 13,
     "metadata": {},
     "output_type": "execute_result"
    }
   ],
   "source": [
    "train_data.isna().sum()"
   ]
  },
  {
   "cell_type": "markdown",
   "id": "e2c8dc19-3646-4bc7-9daf-1847278e2332",
   "metadata": {},
   "source": [
    "## Valores repetidos y únicos"
   ]
  },
  {
   "cell_type": "code",
   "execution_count": 3,
   "id": "3eb5fc5a-2b4a-4a5b-a01f-048a7dfe3387",
   "metadata": {},
   "outputs": [
    {
     "data": {
      "text/plain": [
       "PassengerId     8693\n",
       "HomePlanet         3\n",
       "CryoSleep          2\n",
       "Cabin           6560\n",
       "Destination        3\n",
       "Age               80\n",
       "VIP                2\n",
       "RoomService     1273\n",
       "FoodCourt       1507\n",
       "ShoppingMall    1115\n",
       "Spa             1327\n",
       "VRDeck          1306\n",
       "Name            8473\n",
       "Transported        2\n",
       "dtype: int64"
      ]
     },
     "execution_count": 3,
     "metadata": {},
     "output_type": "execute_result"
    }
   ],
   "source": [
    "train_data.nunique()"
   ]
  },
  {
   "cell_type": "markdown",
   "id": "8edd39fd-20bd-4341-9a4c-956b1aa994fb",
   "metadata": {},
   "source": [
    "Cada pasagero tiene un `PassengerId` único, sin embargo hay algunos nombres que se repiten. También, varios pasageros comparten `Cabin`."
   ]
  },
  {
   "cell_type": "markdown",
   "id": "9e7cd264-9dd6-43a8-afbf-93f31a6c89ff",
   "metadata": {},
   "source": [
    "## Análisis de correlación"
   ]
  },
  {
   "cell_type": "code",
   "execution_count": 14,
   "id": "a8ec8749-7a89-4fd8-9225-f65338e58056",
   "metadata": {},
   "outputs": [
    {
     "data": {
      "text/html": [
       "<style type=\"text/css\">\n",
       "#T_50824_row0_col0, #T_50824_row1_col1, #T_50824_row2_col2, #T_50824_row3_col3, #T_50824_row4_col4, #T_50824_row5_col5, #T_50824_row6_col6 {\n",
       "  background-color: #fde725;\n",
       "  color: #000000;\n",
       "}\n",
       "#T_50824_row0_col1 {\n",
       "  background-color: #3b528b;\n",
       "  color: #f1f1f1;\n",
       "}\n",
       "#T_50824_row0_col2 {\n",
       "  background-color: #46327e;\n",
       "  color: #f1f1f1;\n",
       "}\n",
       "#T_50824_row0_col3 {\n",
       "  background-color: #471164;\n",
       "  color: #f1f1f1;\n",
       "}\n",
       "#T_50824_row0_col4 {\n",
       "  background-color: #375b8d;\n",
       "  color: #f1f1f1;\n",
       "}\n",
       "#T_50824_row0_col5 {\n",
       "  background-color: #3a538b;\n",
       "  color: #f1f1f1;\n",
       "}\n",
       "#T_50824_row0_col6, #T_50824_row1_col0 {\n",
       "  background-color: #472f7d;\n",
       "  color: #f1f1f1;\n",
       "}\n",
       "#T_50824_row1_col2, #T_50824_row1_col6, #T_50824_row2_col3, #T_50824_row3_col2, #T_50824_row6_col0, #T_50824_row6_col1, #T_50824_row6_col4, #T_50824_row6_col5 {\n",
       "  background-color: #440154;\n",
       "  color: #f1f1f1;\n",
       "}\n",
       "#T_50824_row1_col3 {\n",
       "  background-color: #481a6c;\n",
       "  color: #f1f1f1;\n",
       "}\n",
       "#T_50824_row1_col4, #T_50824_row2_col0 {\n",
       "  background-color: #424086;\n",
       "  color: #f1f1f1;\n",
       "}\n",
       "#T_50824_row1_col5 {\n",
       "  background-color: #453581;\n",
       "  color: #f1f1f1;\n",
       "}\n",
       "#T_50824_row2_col1, #T_50824_row4_col0 {\n",
       "  background-color: #423f85;\n",
       "  color: #f1f1f1;\n",
       "}\n",
       "#T_50824_row2_col4, #T_50824_row2_col5 {\n",
       "  background-color: #2e6f8e;\n",
       "  color: #f1f1f1;\n",
       "}\n",
       "#T_50824_row2_col6, #T_50824_row4_col2 {\n",
       "  background-color: #3d4d8a;\n",
       "  color: #f1f1f1;\n",
       "}\n",
       "#T_50824_row3_col0 {\n",
       "  background-color: #482475;\n",
       "  color: #f1f1f1;\n",
       "}\n",
       "#T_50824_row3_col1, #T_50824_row5_col2 {\n",
       "  background-color: #3c4f8a;\n",
       "  color: #f1f1f1;\n",
       "}\n",
       "#T_50824_row3_col4 {\n",
       "  background-color: #424186;\n",
       "  color: #f1f1f1;\n",
       "}\n",
       "#T_50824_row3_col5 {\n",
       "  background-color: #443983;\n",
       "  color: #f1f1f1;\n",
       "}\n",
       "#T_50824_row3_col6, #T_50824_row4_col1 {\n",
       "  background-color: #404588;\n",
       "  color: #f1f1f1;\n",
       "}\n",
       "#T_50824_row4_col3, #T_50824_row5_col6 {\n",
       "  background-color: #460b5e;\n",
       "  color: #f1f1f1;\n",
       "}\n",
       "#T_50824_row4_col5 {\n",
       "  background-color: #355f8d;\n",
       "  color: #f1f1f1;\n",
       "}\n",
       "#T_50824_row4_col6 {\n",
       "  background-color: #46075a;\n",
       "  color: #f1f1f1;\n",
       "}\n",
       "#T_50824_row5_col0 {\n",
       "  background-color: #453882;\n",
       "  color: #f1f1f1;\n",
       "}\n",
       "#T_50824_row5_col1 {\n",
       "  background-color: #433e85;\n",
       "  color: #f1f1f1;\n",
       "}\n",
       "#T_50824_row5_col3 {\n",
       "  background-color: #440256;\n",
       "  color: #f1f1f1;\n",
       "}\n",
       "#T_50824_row5_col4 {\n",
       "  background-color: #34618d;\n",
       "  color: #f1f1f1;\n",
       "}\n",
       "#T_50824_row6_col2 {\n",
       "  background-color: #481769;\n",
       "  color: #f1f1f1;\n",
       "}\n",
       "#T_50824_row6_col3 {\n",
       "  background-color: #460a5d;\n",
       "  color: #f1f1f1;\n",
       "}\n",
       "</style>\n",
       "<table id=\"T_50824\">\n",
       "  <thead>\n",
       "    <tr>\n",
       "      <th class=\"blank level0\" >&nbsp;</th>\n",
       "      <th id=\"T_50824_level0_col0\" class=\"col_heading level0 col0\" >Age</th>\n",
       "      <th id=\"T_50824_level0_col1\" class=\"col_heading level0 col1\" >RoomService</th>\n",
       "      <th id=\"T_50824_level0_col2\" class=\"col_heading level0 col2\" >FoodCourt</th>\n",
       "      <th id=\"T_50824_level0_col3\" class=\"col_heading level0 col3\" >ShoppingMall</th>\n",
       "      <th id=\"T_50824_level0_col4\" class=\"col_heading level0 col4\" >Spa</th>\n",
       "      <th id=\"T_50824_level0_col5\" class=\"col_heading level0 col5\" >VRDeck</th>\n",
       "      <th id=\"T_50824_level0_col6\" class=\"col_heading level0 col6\" >Transported</th>\n",
       "    </tr>\n",
       "  </thead>\n",
       "  <tbody>\n",
       "    <tr>\n",
       "      <th id=\"T_50824_level0_row0\" class=\"row_heading level0 row0\" >Age</th>\n",
       "      <td id=\"T_50824_row0_col0\" class=\"data row0 col0\" >1.000000</td>\n",
       "      <td id=\"T_50824_row0_col1\" class=\"data row0 col1\" >0.068723</td>\n",
       "      <td id=\"T_50824_row0_col2\" class=\"data row0 col2\" >0.130421</td>\n",
       "      <td id=\"T_50824_row0_col3\" class=\"data row0 col3\" >0.033133</td>\n",
       "      <td id=\"T_50824_row0_col4\" class=\"data row0 col4\" >0.123970</td>\n",
       "      <td id=\"T_50824_row0_col5\" class=\"data row0 col5\" >0.101007</td>\n",
       "      <td id=\"T_50824_row0_col6\" class=\"data row0 col6\" >-0.075026</td>\n",
       "    </tr>\n",
       "    <tr>\n",
       "      <th id=\"T_50824_level0_row1\" class=\"row_heading level0 row1\" >RoomService</th>\n",
       "      <td id=\"T_50824_row1_col0\" class=\"data row1 col0\" >0.068723</td>\n",
       "      <td id=\"T_50824_row1_col1\" class=\"data row1 col1\" >1.000000</td>\n",
       "      <td id=\"T_50824_row1_col2\" class=\"data row1 col2\" >-0.015889</td>\n",
       "      <td id=\"T_50824_row1_col3\" class=\"data row1 col3\" >0.054480</td>\n",
       "      <td id=\"T_50824_row1_col4\" class=\"data row1 col4\" >0.010080</td>\n",
       "      <td id=\"T_50824_row1_col5\" class=\"data row1 col5\" >-0.019581</td>\n",
       "      <td id=\"T_50824_row1_col6\" class=\"data row1 col6\" >-0.244611</td>\n",
       "    </tr>\n",
       "    <tr>\n",
       "      <th id=\"T_50824_level0_row2\" class=\"row_heading level0 row2\" >FoodCourt</th>\n",
       "      <td id=\"T_50824_row2_col0\" class=\"data row2 col0\" >0.130421</td>\n",
       "      <td id=\"T_50824_row2_col1\" class=\"data row2 col1\" >-0.015889</td>\n",
       "      <td id=\"T_50824_row2_col2\" class=\"data row2 col2\" >1.000000</td>\n",
       "      <td id=\"T_50824_row2_col3\" class=\"data row2 col3\" >-0.014228</td>\n",
       "      <td id=\"T_50824_row2_col4\" class=\"data row2 col4\" >0.221891</td>\n",
       "      <td id=\"T_50824_row2_col5\" class=\"data row2 col5\" >0.227995</td>\n",
       "      <td id=\"T_50824_row2_col6\" class=\"data row2 col6\" >0.046566</td>\n",
       "    </tr>\n",
       "    <tr>\n",
       "      <th id=\"T_50824_level0_row3\" class=\"row_heading level0 row3\" >ShoppingMall</th>\n",
       "      <td id=\"T_50824_row3_col0\" class=\"data row3 col0\" >0.033133</td>\n",
       "      <td id=\"T_50824_row3_col1\" class=\"data row3 col1\" >0.054480</td>\n",
       "      <td id=\"T_50824_row3_col2\" class=\"data row3 col2\" >-0.014228</td>\n",
       "      <td id=\"T_50824_row3_col3\" class=\"data row3 col3\" >1.000000</td>\n",
       "      <td id=\"T_50824_row3_col4\" class=\"data row3 col4\" >0.013879</td>\n",
       "      <td id=\"T_50824_row3_col5\" class=\"data row3 col5\" >-0.007322</td>\n",
       "      <td id=\"T_50824_row3_col6\" class=\"data row3 col6\" >0.010141</td>\n",
       "    </tr>\n",
       "    <tr>\n",
       "      <th id=\"T_50824_level0_row4\" class=\"row_heading level0 row4\" >Spa</th>\n",
       "      <td id=\"T_50824_row4_col0\" class=\"data row4 col0\" >0.123970</td>\n",
       "      <td id=\"T_50824_row4_col1\" class=\"data row4 col1\" >0.010080</td>\n",
       "      <td id=\"T_50824_row4_col2\" class=\"data row4 col2\" >0.221891</td>\n",
       "      <td id=\"T_50824_row4_col3\" class=\"data row4 col3\" >0.013879</td>\n",
       "      <td id=\"T_50824_row4_col4\" class=\"data row4 col4\" >1.000000</td>\n",
       "      <td id=\"T_50824_row4_col5\" class=\"data row4 col5\" >0.153821</td>\n",
       "      <td id=\"T_50824_row4_col6\" class=\"data row4 col6\" >-0.221131</td>\n",
       "    </tr>\n",
       "    <tr>\n",
       "      <th id=\"T_50824_level0_row5\" class=\"row_heading level0 row5\" >VRDeck</th>\n",
       "      <td id=\"T_50824_row5_col0\" class=\"data row5 col0\" >0.101007</td>\n",
       "      <td id=\"T_50824_row5_col1\" class=\"data row5 col1\" >-0.019581</td>\n",
       "      <td id=\"T_50824_row5_col2\" class=\"data row5 col2\" >0.227995</td>\n",
       "      <td id=\"T_50824_row5_col3\" class=\"data row5 col3\" >-0.007322</td>\n",
       "      <td id=\"T_50824_row5_col4\" class=\"data row5 col4\" >0.153821</td>\n",
       "      <td id=\"T_50824_row5_col5\" class=\"data row5 col5\" >1.000000</td>\n",
       "      <td id=\"T_50824_row5_col6\" class=\"data row5 col6\" >-0.207075</td>\n",
       "    </tr>\n",
       "    <tr>\n",
       "      <th id=\"T_50824_level0_row6\" class=\"row_heading level0 row6\" >Transported</th>\n",
       "      <td id=\"T_50824_row6_col0\" class=\"data row6 col0\" >-0.075026</td>\n",
       "      <td id=\"T_50824_row6_col1\" class=\"data row6 col1\" >-0.244611</td>\n",
       "      <td id=\"T_50824_row6_col2\" class=\"data row6 col2\" >0.046566</td>\n",
       "      <td id=\"T_50824_row6_col3\" class=\"data row6 col3\" >0.010141</td>\n",
       "      <td id=\"T_50824_row6_col4\" class=\"data row6 col4\" >-0.221131</td>\n",
       "      <td id=\"T_50824_row6_col5\" class=\"data row6 col5\" >-0.207075</td>\n",
       "      <td id=\"T_50824_row6_col6\" class=\"data row6 col6\" >1.000000</td>\n",
       "    </tr>\n",
       "  </tbody>\n",
       "</table>\n"
      ],
      "text/plain": [
       "<pandas.io.formats.style.Styler at 0x7f9934238c70>"
      ]
     },
     "execution_count": 14,
     "metadata": {},
     "output_type": "execute_result"
    }
   ],
   "source": [
    "train_data.corr(numeric_only=True).style.background_gradient('viridis')"
   ]
  },
  {
   "cell_type": "markdown",
   "id": "963c49d6-438e-4cdf-9bce-774c5e38ea28",
   "metadata": {},
   "source": [
    "# Análisis univariante"
   ]
  },
  {
   "cell_type": "markdown",
   "id": "0989ce78-3800-4150-bba4-a0402b5e0afd",
   "metadata": {},
   "source": [
    "## PassengerId\n",
    "\n",
    "A unique Id for each passenger. Each Id takes the form gggg_pp where gggg indicates a group the passenger is travelling with and pp is their number within the group. **People in a group are often family members, but not always.**"
   ]
  },
  {
   "cell_type": "code",
   "execution_count": 5,
   "id": "90057bfc-cd25-4ee7-9b31-491ab16ae8fc",
   "metadata": {},
   "outputs": [
    {
     "data": {
      "text/html": [
       "<div>\n",
       "<style scoped>\n",
       "    .dataframe tbody tr th:only-of-type {\n",
       "        vertical-align: middle;\n",
       "    }\n",
       "\n",
       "    .dataframe tbody tr th {\n",
       "        vertical-align: top;\n",
       "    }\n",
       "\n",
       "    .dataframe thead th {\n",
       "        text-align: right;\n",
       "    }\n",
       "</style>\n",
       "<table border=\"1\" class=\"dataframe\">\n",
       "  <thead>\n",
       "    <tr style=\"text-align: right;\">\n",
       "      <th></th>\n",
       "      <th>PassengerId</th>\n",
       "      <th>HomePlanet</th>\n",
       "      <th>CryoSleep</th>\n",
       "      <th>Cabin</th>\n",
       "      <th>Destination</th>\n",
       "      <th>Age</th>\n",
       "      <th>VIP</th>\n",
       "      <th>RoomService</th>\n",
       "      <th>FoodCourt</th>\n",
       "      <th>ShoppingMall</th>\n",
       "      <th>Spa</th>\n",
       "      <th>VRDeck</th>\n",
       "      <th>Name</th>\n",
       "      <th>Transported</th>\n",
       "      <th>PassengerGroup</th>\n",
       "      <th>PassengerGroupNum</th>\n",
       "    </tr>\n",
       "  </thead>\n",
       "  <tbody>\n",
       "    <tr>\n",
       "      <th>0</th>\n",
       "      <td>0001_01</td>\n",
       "      <td>Europa</td>\n",
       "      <td>False</td>\n",
       "      <td>B/0/P</td>\n",
       "      <td>TRAPPIST-1e</td>\n",
       "      <td>39.0</td>\n",
       "      <td>False</td>\n",
       "      <td>0.0</td>\n",
       "      <td>0.0</td>\n",
       "      <td>0.0</td>\n",
       "      <td>0.0</td>\n",
       "      <td>0.0</td>\n",
       "      <td>Maham Ofracculy</td>\n",
       "      <td>False</td>\n",
       "      <td>0001</td>\n",
       "      <td>01</td>\n",
       "    </tr>\n",
       "    <tr>\n",
       "      <th>1</th>\n",
       "      <td>0002_01</td>\n",
       "      <td>Earth</td>\n",
       "      <td>False</td>\n",
       "      <td>F/0/S</td>\n",
       "      <td>TRAPPIST-1e</td>\n",
       "      <td>24.0</td>\n",
       "      <td>False</td>\n",
       "      <td>109.0</td>\n",
       "      <td>9.0</td>\n",
       "      <td>25.0</td>\n",
       "      <td>549.0</td>\n",
       "      <td>44.0</td>\n",
       "      <td>Juanna Vines</td>\n",
       "      <td>True</td>\n",
       "      <td>0002</td>\n",
       "      <td>01</td>\n",
       "    </tr>\n",
       "    <tr>\n",
       "      <th>2</th>\n",
       "      <td>0003_01</td>\n",
       "      <td>Europa</td>\n",
       "      <td>False</td>\n",
       "      <td>A/0/S</td>\n",
       "      <td>TRAPPIST-1e</td>\n",
       "      <td>58.0</td>\n",
       "      <td>True</td>\n",
       "      <td>43.0</td>\n",
       "      <td>3576.0</td>\n",
       "      <td>0.0</td>\n",
       "      <td>6715.0</td>\n",
       "      <td>49.0</td>\n",
       "      <td>Altark Susent</td>\n",
       "      <td>False</td>\n",
       "      <td>0003</td>\n",
       "      <td>01</td>\n",
       "    </tr>\n",
       "  </tbody>\n",
       "</table>\n",
       "</div>"
      ],
      "text/plain": [
       "  PassengerId HomePlanet CryoSleep  Cabin  Destination   Age    VIP  \\\n",
       "0     0001_01     Europa     False  B/0/P  TRAPPIST-1e  39.0  False   \n",
       "1     0002_01      Earth     False  F/0/S  TRAPPIST-1e  24.0  False   \n",
       "2     0003_01     Europa     False  A/0/S  TRAPPIST-1e  58.0   True   \n",
       "\n",
       "   RoomService  FoodCourt  ShoppingMall     Spa  VRDeck             Name  \\\n",
       "0          0.0        0.0           0.0     0.0     0.0  Maham Ofracculy   \n",
       "1        109.0        9.0          25.0   549.0    44.0     Juanna Vines   \n",
       "2         43.0     3576.0           0.0  6715.0    49.0    Altark Susent   \n",
       "\n",
       "   Transported PassengerGroup PassengerGroupNum  \n",
       "0        False           0001                01  \n",
       "1         True           0002                01  \n",
       "2        False           0003                01  "
      ]
     },
     "execution_count": 5,
     "metadata": {},
     "output_type": "execute_result"
    }
   ],
   "source": [
    "passengersInfo = train_data.PassengerId.apply( lambda gggg_pp : pd.Series(index=['PassengerGroup','PassengerGroupNum'],\n",
    "                                                                          data=[gggg_pp.split('_')[0], gggg_pp.split('_')[1]]) )\n",
    "train_data = train_data.merge(passengersInfo, how='inner', left_index=True, right_index=True)\n",
    "train_data.head(3)"
   ]
  },
  {
   "cell_type": "code",
   "execution_count": 6,
   "id": "3fef7110-082f-4e76-9667-399bf79cefdf",
   "metadata": {},
   "outputs": [
    {
     "data": {
      "text/plain": [
       "('0001', '9280')"
      ]
     },
     "execution_count": 6,
     "metadata": {},
     "output_type": "execute_result"
    }
   ],
   "source": [
    "train_data.PassengerGroup.min(), train_data.PassengerGroup.max()"
   ]
  },
  {
   "cell_type": "code",
   "execution_count": 7,
   "id": "11bcefb8-a841-4cc7-a36f-4c2187e849db",
   "metadata": {},
   "outputs": [
    {
     "data": {
      "text/plain": [
       "('01', '08')"
      ]
     },
     "execution_count": 7,
     "metadata": {},
     "output_type": "execute_result"
    }
   ],
   "source": [
    "train_data.PassengerGroupNum.min(), train_data.PassengerGroupNum.max()"
   ]
  },
  {
   "cell_type": "code",
   "execution_count": 8,
   "id": "7c0670ce-5c67-4baa-aa5f-0ece1c9e4732",
   "metadata": {},
   "outputs": [
    {
     "data": {
      "text/plain": [
       "array(['0984', '4005', '4256', '4498', '5133', '5756', '5885', '8168',\n",
       "       '8728', '8796', '8956', '8988', '9081'], dtype=object)"
      ]
     },
     "execution_count": 8,
     "metadata": {},
     "output_type": "execute_result"
    }
   ],
   "source": [
    "train_data.loc[ train_data.PassengerGroupNum=='08', 'PassengerGroup' ].unique()"
   ]
  },
  {
   "cell_type": "code",
   "execution_count": 9,
   "id": "dbeba41e-744d-4c2e-8663-f9a32b0b253b",
   "metadata": {
    "scrolled": true,
    "tags": []
   },
   "outputs": [
    {
     "data": {
      "image/png": "[encoded data removed]",
      "text/plain": [
       "<Figure size 432x288 with 1 Axes>"
      ]
     },
     "metadata": {
      "needs_background": "light"
     },
     "output_type": "display_data"
    }
   ],
   "source": [
    "sns.histplot( train_data.groupby('PassengerGroup')['PassengerGroupNum'].max() );"
   ]
  },
  {
   "cell_type": "markdown",
   "id": "82b7663b-b52d-4b9d-af64-b8bf577d457f",
   "metadata": {},
   "source": [
    "Quizás se pueda extraer una variable que clasifique los grupos en función del tamaño."
   ]
  },
  {
   "cell_type": "code",
   "execution_count": 10,
   "id": "06e656e2-5f5f-4b90-83c9-6e27799f912b",
   "metadata": {},
   "outputs": [],
   "source": [
    "group_size = train_data.groupby('PassengerGroup')[['PassengerGroupNum']].max().rename(columns={'PassengerGroupNum':'GroupSize'}).reset_index()\n",
    "train_data = train_data.merge(group_size, how='left', on='PassengerGroup')"
   ]
  },
  {
   "cell_type": "code",
   "execution_count": 11,
   "id": "b407516c-6451-4c8b-8ded-67a491c6e80f",
   "metadata": {},
   "outputs": [
    {
     "data": {
      "image/png": "[encoded data removed]",
      "text/plain": [
       "<Figure size 432x288 with 1 Axes>"
      ]
     },
     "metadata": {
      "needs_background": "light"
     },
     "output_type": "display_data"
    }
   ],
   "source": [
    "sns.histplot(data=train_data, x='GroupSize', hue='Transported', multiple='dodge', shrink=.8);"
   ]
  },
  {
   "cell_type": "markdown",
   "id": "5b0d038f-a7d2-4dbe-8ded-2178b2a748eb",
   "metadata": {},
   "source": [
    "Salvo en grupos de tamaño 1 y 8, en el resto de grupos hay más pasajeros perdidos que no transportados."
   ]
  },
  {
   "cell_type": "markdown",
   "id": "b96d5e1c-d632-4657-bd9a-2780c361f15a",
   "metadata": {},
   "source": [
    "## HomePlanet\n",
    "\n",
    "The planet the passenger departed from, typically their planet of permanent residence."
   ]
  },
  {
   "cell_type": "code",
   "execution_count": 15,
   "id": "d1b8e29e-2874-42d6-865e-bb89e914941f",
   "metadata": {},
   "outputs": [
    {
     "data": {
      "text/plain": [
       "Earth     4602\n",
       "Europa    2131\n",
       "Mars      1759\n",
       "NaN        201\n",
       "Name: HomePlanet, dtype: int64"
      ]
     },
     "execution_count": 15,
     "metadata": {},
     "output_type": "execute_result"
    }
   ],
   "source": [
    "train_data.HomePlanet.value_counts(dropna=False)"
   ]
  },
  {
   "cell_type": "code",
   "execution_count": 18,
   "id": "03128c2b-ec45-48f0-9536-3dbff2cf4f35",
   "metadata": {},
   "outputs": [],
   "source": [
    "train_data.HomePlanet.fillna(\"Ns/Nc\", inplace=True)"
   ]
  },
  {
   "cell_type": "code",
   "execution_count": 19,
   "id": "33a82ef8-9bfe-47e4-b194-c2bda37bae1c",
   "metadata": {},
   "outputs": [
    {
     "data": {
      "image/png": "[encoded data removed]",
      "text/plain": [
       "<Figure size 432x288 with 1 Axes>"
      ]
     },
     "metadata": {
      "needs_background": "light"
     },
     "output_type": "display_data"
    }
   ],
   "source": [
    "sns.histplot(train_data, x='HomePlanet', hue='Transported', multiple='dodge', shrink=.8);"
   ]
  },
  {
   "cell_type": "markdown",
   "id": "fb7d20ce-9b65-473e-8acb-1cb2531e9946",
   "metadata": {},
   "source": [
    "Solo entre los pasajeros provenientes de la Tierra hay menos cantidad de pasajeros que se pierden."
   ]
  },
  {
   "cell_type": "markdown",
   "id": "a9dd5e02-8e1a-4cab-ae64-aec6ecb6bbec",
   "metadata": {},
   "source": [
    "## CryoSleep\n",
    "\n",
    "Indicates whether the passenger elected to be put into suspended animation for the duration of the voyage. Passengers in cryosleep are confined to their cabins."
   ]
  },
  {
   "cell_type": "code",
   "execution_count": null,
   "id": "084cd3e4-032d-4fa5-9ddd-3a70540eddfe",
   "metadata": {},
   "outputs": [],
   "source": []
  }
 ],
 "metadata": {
  "kernelspec": {
   "display_name": "Python 3",
   "language": "python",
   "name": "python3"
  },
  "language_info": {
   "codemirror_mode": {
    "name": "ipython",
    "version": 3
   },
   "file_extension": ".py",
   "mimetype": "text/x-python",
   "name": "python",
   "nbconvert_exporter": "python",
   "pygments_lexer": "ipython3",
   "version": "3.8.5"
  }
 },
 "nbformat": 4,
 "nbformat_minor": 5
}
