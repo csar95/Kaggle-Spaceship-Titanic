{
 "cells": [
  {
   "cell_type": "code",
   "execution_count": 1,
   "id": "2607a51f-e90c-42b9-a7b9-847429d776dd",
   "metadata": {},
   "outputs": [],
   "source": [
    "import warnings\n",
    "warnings.simplefilter(action='ignore', category=FutureWarning)\n",
    "import pandas as pd\n",
    "pd.set_option('display.max_rows', None)\n",
    "import numpy as np\n",
    "from sklearn.ensemble import RandomForestClassifier\n",
    "from catboost import CatBoostClassifier\n",
    "from sklearn.model_selection import train_test_split, StratifiedKFold, ParameterGrid\n",
    "from sklearn.metrics import accuracy_score, classification_report\n",
    "from tqdm import tqdm\n",
    "import pickle"
   ]
  },
  {
   "cell_type": "markdown",
   "id": "ea390cef-bbb3-4fda-9ce0-eb3c0c4b9106",
   "metadata": {},
   "source": [
    "# Carga de datos"
   ]
  },
  {
   "cell_type": "code",
   "execution_count": 2,
   "id": "1860a21e-0d7d-400a-88b2-f4eedc448037",
   "metadata": {},
   "outputs": [
    {
     "name": "stdout",
     "output_type": "stream",
     "text": [
      "(8693, 15)\n"
     ]
    },
    {
     "data": {
      "text/html": [
       "<div>\n",
       "<style scoped>\n",
       "    .dataframe tbody tr th:only-of-type {\n",
       "        vertical-align: middle;\n",
       "    }\n",
       "\n",
       "    .dataframe tbody tr th {\n",
       "        vertical-align: top;\n",
       "    }\n",
       "\n",
       "    .dataframe thead th {\n",
       "        text-align: right;\n",
       "    }\n",
       "</style>\n",
       "<table border=\"1\" class=\"dataframe\">\n",
       "  <thead>\n",
       "    <tr style=\"text-align: right;\">\n",
       "      <th></th>\n",
       "      <th>HomePlanet</th>\n",
       "      <th>CryoSleep</th>\n",
       "      <th>Destination</th>\n",
       "      <th>VIP</th>\n",
       "      <th>RoomService</th>\n",
       "      <th>FoodCourt</th>\n",
       "      <th>ShoppingMall</th>\n",
       "      <th>Spa</th>\n",
       "      <th>VRDeck</th>\n",
       "      <th>Transported</th>\n",
       "      <th>GroupSize</th>\n",
       "      <th>CabinDeck</th>\n",
       "      <th>CabinSide</th>\n",
       "      <th>TotalExpensesBinarized</th>\n",
       "      <th>AgeBinarized</th>\n",
       "    </tr>\n",
       "  </thead>\n",
       "  <tbody>\n",
       "    <tr>\n",
       "      <th>4797</th>\n",
       "      <td>Earth</td>\n",
       "      <td>False</td>\n",
       "      <td>TRAPPIST-1e</td>\n",
       "      <td>False</td>\n",
       "      <td>0.0</td>\n",
       "      <td>464.0</td>\n",
       "      <td>321.0</td>\n",
       "      <td>0.0</td>\n",
       "      <td>90.0</td>\n",
       "      <td>True</td>\n",
       "      <td>1</td>\n",
       "      <td>F</td>\n",
       "      <td>S</td>\n",
       "      <td>MEDIUM</td>\n",
       "      <td>16-30</td>\n",
       "    </tr>\n",
       "    <tr>\n",
       "      <th>972</th>\n",
       "      <td>Earth</td>\n",
       "      <td>False</td>\n",
       "      <td>TRAPPIST-1e</td>\n",
       "      <td>False</td>\n",
       "      <td>756.0</td>\n",
       "      <td>84.0</td>\n",
       "      <td>0.0</td>\n",
       "      <td>8.0</td>\n",
       "      <td>99.0</td>\n",
       "      <td>False</td>\n",
       "      <td>1</td>\n",
       "      <td>F</td>\n",
       "      <td>S</td>\n",
       "      <td>MEDIUM</td>\n",
       "      <td>0-15</td>\n",
       "    </tr>\n",
       "    <tr>\n",
       "      <th>1221</th>\n",
       "      <td>Earth</td>\n",
       "      <td>False</td>\n",
       "      <td>55 Cancri e</td>\n",
       "      <td>False</td>\n",
       "      <td>1.0</td>\n",
       "      <td>299.0</td>\n",
       "      <td>1.0</td>\n",
       "      <td>380.0</td>\n",
       "      <td>13.0</td>\n",
       "      <td>False</td>\n",
       "      <td>1</td>\n",
       "      <td>F</td>\n",
       "      <td>S</td>\n",
       "      <td>LOW</td>\n",
       "      <td>16-30</td>\n",
       "    </tr>\n",
       "  </tbody>\n",
       "</table>\n",
       "</div>"
      ],
      "text/plain": [
       "     HomePlanet CryoSleep  Destination    VIP  RoomService  FoodCourt  \\\n",
       "4797      Earth     False  TRAPPIST-1e  False          0.0      464.0   \n",
       "972       Earth     False  TRAPPIST-1e  False        756.0       84.0   \n",
       "1221      Earth     False  55 Cancri e  False          1.0      299.0   \n",
       "\n",
       "      ShoppingMall    Spa  VRDeck  Transported  GroupSize CabinDeck CabinSide  \\\n",
       "4797         321.0    0.0    90.0         True          1         F         S   \n",
       "972            0.0    8.0    99.0        False          1         F         S   \n",
       "1221           1.0  380.0    13.0        False          1         F         S   \n",
       "\n",
       "     TotalExpensesBinarized AgeBinarized  \n",
       "4797                 MEDIUM        16-30  \n",
       "972                  MEDIUM         0-15  \n",
       "1221                    LOW        16-30  "
      ]
     },
     "execution_count": 2,
     "metadata": {},
     "output_type": "execute_result"
    }
   ],
   "source": [
    "train_data = pd.read_csv(\"data/processed_train.csv\")\n",
    "print(train_data.shape)\n",
    "train_data.sample(3)"
   ]
  },
  {
   "cell_type": "code",
   "execution_count": 3,
   "id": "d5297e4f-bebe-4c78-9aef-7a57aabd1598",
   "metadata": {},
   "outputs": [],
   "source": [
    "train_data = pd.get_dummies(train_data, columns=['HomePlanet','CryoSleep','Destination','VIP','CabinDeck','CabinSide','TotalExpensesBinarized','AgeBinarized'])\n",
    "train_data.drop(columns=['HomePlanet_Ns/Nc','CryoSleep_False','CryoSleep_Ns/Nc','Destination_Ns/Nc','VIP_False','VIP_Ns/Nc','CabinSide_Ns/Nc','AgeBinarized_76-?'], inplace=True)"
   ]
  },
  {
   "cell_type": "code",
   "execution_count": 4,
   "id": "7f16ca54-1e81-4b0e-8810-4140eb4071e8",
   "metadata": {},
   "outputs": [],
   "source": [
    "X = train_data.drop(columns=['Transported'])\n",
    "y = train_data.Transported"
   ]
  },
  {
   "cell_type": "code",
   "execution_count": 5,
   "id": "f45dc4ed-fe93-43ce-9624-6d01785fcf6c",
   "metadata": {},
   "outputs": [
    {
     "data": {
      "text/html": [
       "<div>\n",
       "<style scoped>\n",
       "    .dataframe tbody tr th:only-of-type {\n",
       "        vertical-align: middle;\n",
       "    }\n",
       "\n",
       "    .dataframe tbody tr th {\n",
       "        vertical-align: top;\n",
       "    }\n",
       "\n",
       "    .dataframe thead th {\n",
       "        text-align: right;\n",
       "    }\n",
       "</style>\n",
       "<table border=\"1\" class=\"dataframe\">\n",
       "  <thead>\n",
       "    <tr style=\"text-align: right;\">\n",
       "      <th></th>\n",
       "      <th>RoomService</th>\n",
       "      <th>FoodCourt</th>\n",
       "      <th>ShoppingMall</th>\n",
       "      <th>Spa</th>\n",
       "      <th>VRDeck</th>\n",
       "      <th>GroupSize</th>\n",
       "      <th>HomePlanet_Earth</th>\n",
       "      <th>HomePlanet_Europa</th>\n",
       "      <th>HomePlanet_Mars</th>\n",
       "      <th>CryoSleep_True</th>\n",
       "      <th>...</th>\n",
       "      <th>TotalExpensesBinarized_HIGH</th>\n",
       "      <th>TotalExpensesBinarized_LOW</th>\n",
       "      <th>TotalExpensesBinarized_MEDIUM</th>\n",
       "      <th>TotalExpensesBinarized_TOP</th>\n",
       "      <th>TotalExpensesBinarized_ZERO</th>\n",
       "      <th>AgeBinarized_0-15</th>\n",
       "      <th>AgeBinarized_16-30</th>\n",
       "      <th>AgeBinarized_31-45</th>\n",
       "      <th>AgeBinarized_46-60</th>\n",
       "      <th>AgeBinarized_61-75</th>\n",
       "    </tr>\n",
       "  </thead>\n",
       "  <tbody>\n",
       "    <tr>\n",
       "      <th>1057</th>\n",
       "      <td>0.0</td>\n",
       "      <td>3.0</td>\n",
       "      <td>3505.0</td>\n",
       "      <td>199.0</td>\n",
       "      <td>17.0</td>\n",
       "      <td>2</td>\n",
       "      <td>0</td>\n",
       "      <td>0</td>\n",
       "      <td>1</td>\n",
       "      <td>0</td>\n",
       "      <td>...</td>\n",
       "      <td>1</td>\n",
       "      <td>0</td>\n",
       "      <td>0</td>\n",
       "      <td>0</td>\n",
       "      <td>0</td>\n",
       "      <td>0</td>\n",
       "      <td>1</td>\n",
       "      <td>0</td>\n",
       "      <td>0</td>\n",
       "      <td>0</td>\n",
       "    </tr>\n",
       "    <tr>\n",
       "      <th>4023</th>\n",
       "      <td>0.0</td>\n",
       "      <td>0.0</td>\n",
       "      <td>0.0</td>\n",
       "      <td>0.0</td>\n",
       "      <td>0.0</td>\n",
       "      <td>1</td>\n",
       "      <td>1</td>\n",
       "      <td>0</td>\n",
       "      <td>0</td>\n",
       "      <td>1</td>\n",
       "      <td>...</td>\n",
       "      <td>0</td>\n",
       "      <td>0</td>\n",
       "      <td>0</td>\n",
       "      <td>0</td>\n",
       "      <td>1</td>\n",
       "      <td>0</td>\n",
       "      <td>0</td>\n",
       "      <td>1</td>\n",
       "      <td>0</td>\n",
       "      <td>0</td>\n",
       "    </tr>\n",
       "    <tr>\n",
       "      <th>4031</th>\n",
       "      <td>0.0</td>\n",
       "      <td>0.0</td>\n",
       "      <td>0.0</td>\n",
       "      <td>0.0</td>\n",
       "      <td>0.0</td>\n",
       "      <td>3</td>\n",
       "      <td>1</td>\n",
       "      <td>0</td>\n",
       "      <td>0</td>\n",
       "      <td>1</td>\n",
       "      <td>...</td>\n",
       "      <td>0</td>\n",
       "      <td>0</td>\n",
       "      <td>0</td>\n",
       "      <td>0</td>\n",
       "      <td>1</td>\n",
       "      <td>1</td>\n",
       "      <td>0</td>\n",
       "      <td>0</td>\n",
       "      <td>0</td>\n",
       "      <td>0</td>\n",
       "    </tr>\n",
       "  </tbody>\n",
       "</table>\n",
       "<p>3 rows × 35 columns</p>\n",
       "</div>"
      ],
      "text/plain": [
       "      RoomService  FoodCourt  ShoppingMall    Spa  VRDeck  GroupSize  \\\n",
       "1057          0.0        3.0        3505.0  199.0    17.0          2   \n",
       "4023          0.0        0.0           0.0    0.0     0.0          1   \n",
       "4031          0.0        0.0           0.0    0.0     0.0          3   \n",
       "\n",
       "      HomePlanet_Earth  HomePlanet_Europa  HomePlanet_Mars  CryoSleep_True  \\\n",
       "1057                 0                  0                1               0   \n",
       "4023                 1                  0                0               1   \n",
       "4031                 1                  0                0               1   \n",
       "\n",
       "      ...  TotalExpensesBinarized_HIGH  TotalExpensesBinarized_LOW  \\\n",
       "1057  ...                            1                           0   \n",
       "4023  ...                            0                           0   \n",
       "4031  ...                            0                           0   \n",
       "\n",
       "      TotalExpensesBinarized_MEDIUM  TotalExpensesBinarized_TOP  \\\n",
       "1057                              0                           0   \n",
       "4023                              0                           0   \n",
       "4031                              0                           0   \n",
       "\n",
       "      TotalExpensesBinarized_ZERO  AgeBinarized_0-15  AgeBinarized_16-30  \\\n",
       "1057                            0                  0                   1   \n",
       "4023                            1                  0                   0   \n",
       "4031                            1                  1                   0   \n",
       "\n",
       "      AgeBinarized_31-45  AgeBinarized_46-60  AgeBinarized_61-75  \n",
       "1057                   0                   0                   0  \n",
       "4023                   1                   0                   0  \n",
       "4031                   0                   0                   0  \n",
       "\n",
       "[3 rows x 35 columns]"
      ]
     },
     "execution_count": 5,
     "metadata": {},
     "output_type": "execute_result"
    }
   ],
   "source": [
    "X.sample(3)"
   ]
  },
  {
   "cell_type": "code",
   "execution_count": 6,
   "id": "f14159e5-d3e8-47fc-87ea-762e5f46e1d5",
   "metadata": {},
   "outputs": [
    {
     "data": {
      "text/plain": [
       "(6954, 1739)"
      ]
     },
     "execution_count": 6,
     "metadata": {},
     "output_type": "execute_result"
    }
   ],
   "source": [
    "X_train, X_test, y_train, y_test = train_test_split(X, y, test_size=0.2, random_state=42)\n",
    "len(X_train), len(X_test)"
   ]
  },
  {
   "cell_type": "code",
   "execution_count": 7,
   "id": "7c99acf8-a7e0-4086-8465-bb363a8e42f7",
   "metadata": {},
   "outputs": [
    {
     "data": {
      "text/plain": [
       "(4277, 15)"
      ]
     },
     "execution_count": 7,
     "metadata": {},
     "output_type": "execute_result"
    }
   ],
   "source": [
    "submission_data = pd.read_csv(\"data/processed_test.csv\")\n",
    "submission_data.shape"
   ]
  },
  {
   "cell_type": "code",
   "execution_count": 8,
   "id": "d0505198-1b9d-4881-a595-f72184ebc73d",
   "metadata": {},
   "outputs": [],
   "source": [
    "submission_data = pd.get_dummies(submission_data, columns=['HomePlanet','CryoSleep','Destination','VIP','CabinDeck','CabinSide','TotalExpensesBinarized','AgeBinarized'])\n",
    "submission_data.drop(columns=['HomePlanet_Ns/Nc','CryoSleep_False','CryoSleep_Ns/Nc','Destination_Ns/Nc','VIP_False','VIP_Ns/Nc','CabinSide_Ns/Nc','AgeBinarized_76-?'], inplace=True)"
   ]
  },
  {
   "cell_type": "code",
   "execution_count": 9,
   "id": "f82712be-15b7-485d-93b9-3c589c6ad5ac",
   "metadata": {},
   "outputs": [],
   "source": [
    "X_submission = submission_data.drop(columns=['Transported'])"
   ]
  },
  {
   "cell_type": "markdown",
   "id": "8fe84f83-793d-441f-93b0-3f6796176c0f",
   "metadata": {},
   "source": [
    "# Modelado"
   ]
  },
  {
   "cell_type": "markdown",
   "id": "e6b905d3-89da-4f43-b01f-f5c691de5bba",
   "metadata": {
    "jp-MarkdownHeadingCollapsed": true,
    "tags": []
   },
   "source": [
    "## Random forest"
   ]
  },
  {
   "cell_type": "code",
   "execution_count": 10,
   "id": "c973a8dc-9854-4b6f-a419-eb601a6b33e7",
   "metadata": {},
   "outputs": [],
   "source": [
    "def random_forest_cross_val(X, y, params, n_splits=3):\n",
    "    skf = StratifiedKFold(n_splits=n_splits, shuffle=True, random_state=42)\n",
    "    \n",
    "    acc = []\n",
    "    \n",
    "    for tr_ind, val_ind in skf.split(X, y):\n",
    "        X_tr = X.iloc[tr_ind]\n",
    "        y_tr = y.iloc[tr_ind]\n",
    "        \n",
    "        X_val = X.iloc[val_ind]\n",
    "        y_val = y.iloc[val_ind]\n",
    "        \n",
    "        model = RandomForestClassifier(n_estimators=params['n_estimators'],\n",
    "                                       max_depth=params['max_depth'],\n",
    "                                       max_samples=params['max_samples'],\n",
    "                                       n_jobs=-1, random_state=42)\n",
    "        \n",
    "        model.fit(X_tr, y_tr)        \n",
    "        \n",
    "        y_pred = model.predict(X_val)\n",
    "        \n",
    "        accuracy = accuracy_score(y_val, y_pred)\n",
    "        acc.append(accuracy)\n",
    "        \n",
    "    return sum(acc) / n_splits"
   ]
  },
  {
   "cell_type": "code",
   "execution_count": 11,
   "id": "6c46f80e-a593-426d-a5a0-da1ffee727c7",
   "metadata": {},
   "outputs": [],
   "source": [
    "def grid_search_CV(X, y, params_GridSearch):\n",
    "    df_acc_by_params = pd.DataFrame(columns=['n_estimators','max_depth','max_samples','accuracy'])\n",
    "        \n",
    "    for prms in tqdm( list(ParameterGrid(params_GridSearch)), ascii=True, desc='Params Tuning:' ):\n",
    "                          \n",
    "        acc = random_forest_cross_val(X, y, prms, n_splits=5)\n",
    "        \n",
    "        df_acc_by_params = pd.concat([df_acc_by_params,\n",
    "                                      pd.DataFrame(data={'n_estimators':[prms['n_estimators']], 'max_depth':[prms['max_depth']], 'max_samples':[prms['max_samples']], 'accuracy':[acc]})], \n",
    "                                     ignore_index=True)\n",
    "        \n",
    "    return df_acc_by_params"
   ]
  },
  {
   "cell_type": "code",
   "execution_count": 12,
   "id": "17d54842-21c6-4d11-84b7-392b306a3089",
   "metadata": {},
   "outputs": [],
   "source": [
    "params_GridSearch = {'n_estimators':[50,100,200],\n",
    "                     'max_depth':[3,5,8,10,13],\n",
    "                     'max_samples':[0.4,0.7,0.85,None]}"
   ]
  },
  {
   "cell_type": "code",
   "execution_count": 13,
   "id": "17712702-0bc7-438d-8591-b0c4c0b2f182",
   "metadata": {},
   "outputs": [
    {
     "name": "stderr",
     "output_type": "stream",
     "text": [
      "Params Tuning:: 100%|##########| 60/60 [02:20<00:00,  2.34s/it]\n"
     ]
    }
   ],
   "source": [
    "df_acc_by_params = grid_search_CV(X, y, params_GridSearch)"
   ]
  },
  {
   "cell_type": "code",
   "execution_count": 16,
   "id": "6c6b506e-fe76-41a9-975f-1585d433381a",
   "metadata": {},
   "outputs": [],
   "source": [
    "df_acc_by_params['n_estimators'] = df_acc_by_params.n_estimators.astype(int)\n",
    "df_acc_by_params['max_depth'] = df_acc_by_params.max_depth.astype(int)"
   ]
  },
  {
   "cell_type": "code",
   "execution_count": 17,
   "id": "c3f7ad18-0c64-45f2-83ad-44ef3e584ff2",
   "metadata": {},
   "outputs": [
    {
     "data": {
      "text/plain": [
       "n_estimators    0.010945\n",
       "max_depth       0.919290\n",
       "max_samples     0.005750\n",
       "accuracy        1.000000\n",
       "Name: accuracy, dtype: float64"
      ]
     },
     "execution_count": 17,
     "metadata": {},
     "output_type": "execute_result"
    }
   ],
   "source": [
    "df_acc_by_params.corr()['accuracy']"
   ]
  },
  {
   "cell_type": "code",
   "execution_count": 18,
   "id": "2076f6c4-b281-49e3-bd4e-c4ca1723debd",
   "metadata": {},
   "outputs": [
    {
     "data": {
      "text/html": [
       "<div>\n",
       "<style scoped>\n",
       "    .dataframe tbody tr th:only-of-type {\n",
       "        vertical-align: middle;\n",
       "    }\n",
       "\n",
       "    .dataframe tbody tr th {\n",
       "        vertical-align: top;\n",
       "    }\n",
       "\n",
       "    .dataframe thead th {\n",
       "        text-align: right;\n",
       "    }\n",
       "</style>\n",
       "<table border=\"1\" class=\"dataframe\">\n",
       "  <thead>\n",
       "    <tr style=\"text-align: right;\">\n",
       "      <th></th>\n",
       "      <th>n_estimators</th>\n",
       "      <th>max_depth</th>\n",
       "      <th>max_samples</th>\n",
       "      <th>accuracy</th>\n",
       "    </tr>\n",
       "  </thead>\n",
       "  <tbody>\n",
       "    <tr>\n",
       "      <th>44</th>\n",
       "      <td>200</td>\n",
       "      <td>10</td>\n",
       "      <td>0.85</td>\n",
       "      <td>0.802599</td>\n",
       "    </tr>\n",
       "  </tbody>\n",
       "</table>\n",
       "</div>"
      ],
      "text/plain": [
       "    n_estimators  max_depth  max_samples  accuracy\n",
       "44           200         10         0.85  0.802599"
      ]
     },
     "execution_count": 18,
     "metadata": {},
     "output_type": "execute_result"
    }
   ],
   "source": [
    "best_params = df_acc_by_params[ df_acc_by_params.accuracy==df_acc_by_params.accuracy.max() ]\n",
    "best_params"
   ]
  },
  {
   "cell_type": "code",
   "execution_count": 19,
   "id": "e47b46dc-91c1-4cd3-bd43-79389e8de5f6",
   "metadata": {},
   "outputs": [],
   "source": [
    "model = RandomForestClassifier(n_estimators=int(best_params.n_estimators),\n",
    "                               max_depth=int(best_params.max_depth),\n",
    "                               max_samples=float(best_params.max_samples),\n",
    "                               n_jobs=-1, random_state=42)\n",
    "model = model.fit(X_train, y_train)"
   ]
  },
  {
   "cell_type": "code",
   "execution_count": 20,
   "id": "7c202c78-6371-4a58-a02e-ddc859e339ad",
   "metadata": {},
   "outputs": [],
   "source": [
    "y_pred = model.predict(X_test)"
   ]
  },
  {
   "cell_type": "code",
   "execution_count": 21,
   "id": "d700ca55-1932-42b3-9c1e-6e98d64503cd",
   "metadata": {},
   "outputs": [
    {
     "data": {
      "text/plain": [
       "0.7901092581943646"
      ]
     },
     "execution_count": 21,
     "metadata": {},
     "output_type": "execute_result"
    }
   ],
   "source": [
    "accuracy_score(y_test, y_pred)"
   ]
  },
  {
   "cell_type": "code",
   "execution_count": 22,
   "id": "f7f27d63-1711-4f95-a7d0-a4d6aa9126dc",
   "metadata": {},
   "outputs": [
    {
     "name": "stdout",
     "output_type": "stream",
     "text": [
      "              precision    recall  f1-score   support\n",
      "\n",
      "       False       0.79      0.78      0.79       861\n",
      "        True       0.79      0.80      0.79       878\n",
      "\n",
      "    accuracy                           0.79      1739\n",
      "   macro avg       0.79      0.79      0.79      1739\n",
      "weighted avg       0.79      0.79      0.79      1739\n",
      "\n"
     ]
    }
   ],
   "source": [
    "print(classification_report(y_test, y_pred))"
   ]
  },
  {
   "cell_type": "code",
   "execution_count": 24,
   "id": "ca79804b-0cd3-4502-8720-d6fa89bad04d",
   "metadata": {},
   "outputs": [],
   "source": [
    "pickle.dump(model, open('../models/model_v2-randForest_n200_maxDepth10_maxSamples085.pkl', 'wb'))"
   ]
  },
  {
   "cell_type": "markdown",
   "id": "44fe7f23-3f3a-4d06-92b5-fef60dd005e0",
   "metadata": {},
   "source": [
    "## Catboost\n",
    "\n",
    "Puede trabajar con variables categóricas."
   ]
  },
  {
   "cell_type": "code",
   "execution_count": 8,
   "id": "4bb0e2b3-0ac4-4d96-a51a-95269dd2ddb6",
   "metadata": {},
   "outputs": [],
   "source": [
    "def gradient_boosting_cross_val(X, y, params, n_splits=3):\n",
    "    skf = StratifiedKFold(n_splits=n_splits, shuffle=True, random_state=42)\n",
    "    \n",
    "    acc = []\n",
    "    \n",
    "    for tr_ind, tst_ind in skf.split(X, y):\n",
    "        X_tr = X.iloc[tr_ind]\n",
    "        y_tr = y.iloc[tr_ind]\n",
    "        \n",
    "        X_tr, X_val, y_tr, y_val = train_test_split(X_tr, y_tr, test_size=0.15, random_state=42)\n",
    "        \n",
    "        X_tst = X.iloc[tst_ind]\n",
    "        y_tst = y.iloc[tst_ind]\n",
    "        \n",
    "        model = CatBoostClassifier(iterations=params['iterations'],\n",
    "                                   learning_rate=params['learning_rate'],\n",
    "                                   depth=params['depth'],\n",
    "                                   rsm=params['rsm'],  # Subsample ratio of columns when constructing each tree\n",
    "                                   use_best_model=params['use_best_model'],\n",
    "                                   cat_features=['HomePlanet','CryoSleep','Destination','VIP','CabinDeck','CabinSide','TotalExpensesBinarized','AgeBinarized'],\n",
    "                                   eval_metric='Accuracy', verbose=False, thread_count=-1, random_seed=42)\n",
    "        \n",
    "        model.fit(X_tr, y_tr, eval_set=(X_val, y_val))        \n",
    "        \n",
    "        y_pred = model.predict(X_tst)\n",
    "        \n",
    "        accuracy = accuracy_score(y_tst, y_pred)\n",
    "        acc.append(accuracy)\n",
    "        \n",
    "    return sum(acc) / n_splits"
   ]
  },
  {
   "cell_type": "code",
   "execution_count": 9,
   "id": "051623c3-c7f9-4c0d-b055-144ccf19489f",
   "metadata": {},
   "outputs": [],
   "source": [
    "def grid_search_CV(X, y, params_GridSearch):\n",
    "    df_acc_by_params = pd.DataFrame(columns=['iterations','learning_rate','depth','rsm','use_best_model','accuracy'])\n",
    "        \n",
    "    for prms in tqdm( list(ParameterGrid(params_GridSearch)), ascii=True, desc='Params Tuning:' ):\n",
    "                          \n",
    "        acc = gradient_boosting_cross_val(X, y, prms, n_splits=5)\n",
    "        \n",
    "        df_acc_by_params = pd.concat([df_acc_by_params,\n",
    "                                      pd.DataFrame(data={'iterations':[prms['iterations']], 'learning_rate':[prms['learning_rate']],\n",
    "                                                         'depth':[prms['depth']], 'rsm':[prms['rsm']],\n",
    "                                                         'use_best_model':[prms['use_best_model']], 'accuracy':[acc]})], \n",
    "                                     ignore_index=True)\n",
    "        \n",
    "    return df_acc_by_params"
   ]
  },
  {
   "cell_type": "code",
   "execution_count": 10,
   "id": "d6b55087-8a62-4373-ba59-530d9196f55e",
   "metadata": {},
   "outputs": [],
   "source": [
    "params_GridSearch = {'iterations':[500],\n",
    "                     'learning_rate':[0.05,0.1],\n",
    "                     'depth':[6,8],\n",
    "                     'rsm':[0.4,0.7,0.85,None],\n",
    "                     'use_best_model':[False, True]}"
   ]
  },
  {
   "cell_type": "code",
   "execution_count": 11,
   "id": "e2c6a2f7-623d-42e5-82d2-cfc90c056529",
   "metadata": {
    "scrolled": true,
    "tags": []
   },
   "outputs": [
    {
     "name": "stderr",
     "output_type": "stream",
     "text": [
      "Params Tuning:: 100%|##########| 32/32 [11:44<00:00, 22.03s/it]\n"
     ]
    }
   ],
   "source": [
    "df_acc_by_params = grid_search_CV(X, y.astype(str), params_GridSearch)"
   ]
  },
  {
   "cell_type": "code",
   "execution_count": 12,
   "id": "b0b64c1d-2b1a-481c-b300-8da2b62b5974",
   "metadata": {},
   "outputs": [
    {
     "data": {
      "text/plain": [
       "learning_rate   -0.352525\n",
       "rsm              0.051553\n",
       "accuracy         1.000000\n",
       "Name: accuracy, dtype: float64"
      ]
     },
     "execution_count": 12,
     "metadata": {},
     "output_type": "execute_result"
    }
   ],
   "source": [
    "df_acc_by_params.corr()['accuracy']"
   ]
  },
  {
   "cell_type": "code",
   "execution_count": 13,
   "id": "35f4d915-d430-41bd-a6be-f7a1ae9d3a0b",
   "metadata": {},
   "outputs": [
    {
     "data": {
      "text/html": [
       "<div>\n",
       "<style scoped>\n",
       "    .dataframe tbody tr th:only-of-type {\n",
       "        vertical-align: middle;\n",
       "    }\n",
       "\n",
       "    .dataframe tbody tr th {\n",
       "        vertical-align: top;\n",
       "    }\n",
       "\n",
       "    .dataframe thead th {\n",
       "        text-align: right;\n",
       "    }\n",
       "</style>\n",
       "<table border=\"1\" class=\"dataframe\">\n",
       "  <thead>\n",
       "    <tr style=\"text-align: right;\">\n",
       "      <th></th>\n",
       "      <th>iterations</th>\n",
       "      <th>learning_rate</th>\n",
       "      <th>depth</th>\n",
       "      <th>rsm</th>\n",
       "      <th>use_best_model</th>\n",
       "      <th>accuracy</th>\n",
       "    </tr>\n",
       "  </thead>\n",
       "  <tbody>\n",
       "    <tr>\n",
       "      <th>6</th>\n",
       "      <td>500</td>\n",
       "      <td>0.05</td>\n",
       "      <td>6</td>\n",
       "      <td>NaN</td>\n",
       "      <td>False</td>\n",
       "      <td>0.806282</td>\n",
       "    </tr>\n",
       "    <tr>\n",
       "      <th>18</th>\n",
       "      <td>500</td>\n",
       "      <td>0.05</td>\n",
       "      <td>8</td>\n",
       "      <td>0.70</td>\n",
       "      <td>False</td>\n",
       "      <td>0.806166</td>\n",
       "    </tr>\n",
       "    <tr>\n",
       "      <th>4</th>\n",
       "      <td>500</td>\n",
       "      <td>0.05</td>\n",
       "      <td>6</td>\n",
       "      <td>0.85</td>\n",
       "      <td>False</td>\n",
       "      <td>0.805706</td>\n",
       "    </tr>\n",
       "    <tr>\n",
       "      <th>2</th>\n",
       "      <td>500</td>\n",
       "      <td>0.05</td>\n",
       "      <td>6</td>\n",
       "      <td>0.70</td>\n",
       "      <td>False</td>\n",
       "      <td>0.805016</td>\n",
       "    </tr>\n",
       "    <tr>\n",
       "      <th>10</th>\n",
       "      <td>500</td>\n",
       "      <td>0.10</td>\n",
       "      <td>6</td>\n",
       "      <td>0.70</td>\n",
       "      <td>False</td>\n",
       "      <td>0.804671</td>\n",
       "    </tr>\n",
       "    <tr>\n",
       "      <th>27</th>\n",
       "      <td>500</td>\n",
       "      <td>0.10</td>\n",
       "      <td>8</td>\n",
       "      <td>0.70</td>\n",
       "      <td>True</td>\n",
       "      <td>0.804441</td>\n",
       "    </tr>\n",
       "    <tr>\n",
       "      <th>0</th>\n",
       "      <td>500</td>\n",
       "      <td>0.05</td>\n",
       "      <td>6</td>\n",
       "      <td>0.40</td>\n",
       "      <td>False</td>\n",
       "      <td>0.803980</td>\n",
       "    </tr>\n",
       "    <tr>\n",
       "      <th>8</th>\n",
       "      <td>500</td>\n",
       "      <td>0.10</td>\n",
       "      <td>6</td>\n",
       "      <td>0.40</td>\n",
       "      <td>False</td>\n",
       "      <td>0.803980</td>\n",
       "    </tr>\n",
       "    <tr>\n",
       "      <th>9</th>\n",
       "      <td>500</td>\n",
       "      <td>0.10</td>\n",
       "      <td>6</td>\n",
       "      <td>0.40</td>\n",
       "      <td>True</td>\n",
       "      <td>0.803865</td>\n",
       "    </tr>\n",
       "    <tr>\n",
       "      <th>14</th>\n",
       "      <td>500</td>\n",
       "      <td>0.10</td>\n",
       "      <td>6</td>\n",
       "      <td>NaN</td>\n",
       "      <td>False</td>\n",
       "      <td>0.803750</td>\n",
       "    </tr>\n",
       "  </tbody>\n",
       "</table>\n",
       "</div>"
      ],
      "text/plain": [
       "   iterations  learning_rate depth   rsm use_best_model  accuracy\n",
       "6         500           0.05     6   NaN          False  0.806282\n",
       "18        500           0.05     8  0.70          False  0.806166\n",
       "4         500           0.05     6  0.85          False  0.805706\n",
       "2         500           0.05     6  0.70          False  0.805016\n",
       "10        500           0.10     6  0.70          False  0.804671\n",
       "27        500           0.10     8  0.70           True  0.804441\n",
       "0         500           0.05     6  0.40          False  0.803980\n",
       "8         500           0.10     6  0.40          False  0.803980\n",
       "9         500           0.10     6  0.40           True  0.803865\n",
       "14        500           0.10     6   NaN          False  0.803750"
      ]
     },
     "execution_count": 13,
     "metadata": {},
     "output_type": "execute_result"
    }
   ],
   "source": [
    "df_acc_by_params.sort_values('accuracy', ascending=False).head(10)"
   ]
  },
  {
   "cell_type": "code",
   "execution_count": 14,
   "id": "f4ed630e-a5cf-493a-9e80-5c32fa2082f2",
   "metadata": {},
   "outputs": [
    {
     "data": {
      "text/html": [
       "<div>\n",
       "<style scoped>\n",
       "    .dataframe tbody tr th:only-of-type {\n",
       "        vertical-align: middle;\n",
       "    }\n",
       "\n",
       "    .dataframe tbody tr th {\n",
       "        vertical-align: top;\n",
       "    }\n",
       "\n",
       "    .dataframe thead th {\n",
       "        text-align: right;\n",
       "    }\n",
       "</style>\n",
       "<table border=\"1\" class=\"dataframe\">\n",
       "  <thead>\n",
       "    <tr style=\"text-align: right;\">\n",
       "      <th></th>\n",
       "      <th>iterations</th>\n",
       "      <th>learning_rate</th>\n",
       "      <th>depth</th>\n",
       "      <th>rsm</th>\n",
       "      <th>use_best_model</th>\n",
       "      <th>accuracy</th>\n",
       "    </tr>\n",
       "  </thead>\n",
       "  <tbody>\n",
       "    <tr>\n",
       "      <th>6</th>\n",
       "      <td>500</td>\n",
       "      <td>0.05</td>\n",
       "      <td>6</td>\n",
       "      <td>NaN</td>\n",
       "      <td>False</td>\n",
       "      <td>0.806282</td>\n",
       "    </tr>\n",
       "  </tbody>\n",
       "</table>\n",
       "</div>"
      ],
      "text/plain": [
       "  iterations  learning_rate depth  rsm use_best_model  accuracy\n",
       "6        500           0.05     6  NaN          False  0.806282"
      ]
     },
     "execution_count": 14,
     "metadata": {},
     "output_type": "execute_result"
    }
   ],
   "source": [
    "best_params = df_acc_by_params[ df_acc_by_params.accuracy==df_acc_by_params.accuracy.max() ]\n",
    "best_params"
   ]
  },
  {
   "cell_type": "code",
   "execution_count": 23,
   "id": "5218b332-097c-433e-bbf6-04800e2960b1",
   "metadata": {},
   "outputs": [
    {
     "data": {
      "text/plain": [
       "<catboost.core.CatBoostClassifier at 0x7fa0fccad4f0>"
      ]
     },
     "execution_count": 23,
     "metadata": {},
     "output_type": "execute_result"
    }
   ],
   "source": [
    "model = CatBoostClassifier(iterations=int(best_params.iterations),\n",
    "                           learning_rate=float(best_params.learning_rate),\n",
    "                           depth=int(best_params.depth),\n",
    "                           rsm=None,  # Subsample ratio of columns when constructing each tree\n",
    "                           use_best_model=bool(str(best_params.use_best_model)),\n",
    "                           cat_features=['HomePlanet','CryoSleep','Destination','VIP','CabinDeck','CabinSide','TotalExpensesBinarized','AgeBinarized'],\n",
    "                           eval_metric='Accuracy', verbose=False, thread_count=-1, random_seed=42)\n",
    "\n",
    "X_train, X_val, y_train, y_val = train_test_split(X_train, y_train, test_size=0.15, random_state=42)\n",
    "\n",
    "model.fit(X_train, y_train, eval_set=(X_val, y_val))"
   ]
  },
  {
   "cell_type": "code",
   "execution_count": 24,
   "id": "136a7322-9734-4bae-972e-ac940d926427",
   "metadata": {},
   "outputs": [],
   "source": [
    "y_pred = model.predict(X_test)"
   ]
  },
  {
   "cell_type": "code",
   "execution_count": 25,
   "id": "694d03ef-d848-4b30-994a-8b9fa31e3fad",
   "metadata": {},
   "outputs": [
    {
     "data": {
      "text/plain": [
       "0.7889591719378953"
      ]
     },
     "execution_count": 25,
     "metadata": {},
     "output_type": "execute_result"
    }
   ],
   "source": [
    "accuracy_score(y_test.astype(str), y_pred)"
   ]
  },
  {
   "cell_type": "code",
   "execution_count": 26,
   "id": "c8ccd980-22ce-45d7-9a13-3af27c6bfe57",
   "metadata": {},
   "outputs": [
    {
     "name": "stdout",
     "output_type": "stream",
     "text": [
      "              precision    recall  f1-score   support\n",
      "\n",
      "       False       0.81      0.74      0.78       861\n",
      "        True       0.77      0.83      0.80       878\n",
      "\n",
      "    accuracy                           0.79      1739\n",
      "   macro avg       0.79      0.79      0.79      1739\n",
      "weighted avg       0.79      0.79      0.79      1739\n",
      "\n"
     ]
    }
   ],
   "source": [
    "print(classification_report(y_test.astype(str), y_pred))"
   ]
  },
  {
   "cell_type": "code",
   "execution_count": 28,
   "id": "2f8e11a1-9d42-425d-ad01-7fc82c11b731",
   "metadata": {},
   "outputs": [],
   "source": [
    "pickle.dump(model, open('../models/model_v2-catboost_n500_lr005_depth6_rsmNone_ubmFalse.pkl', 'wb'))"
   ]
  },
  {
   "cell_type": "markdown",
   "id": "a4b6ece3-dcfd-4457-94c5-e4cc4017d77e",
   "metadata": {},
   "source": [
    "---\n",
    "---\n",
    "---"
   ]
  },
  {
   "cell_type": "code",
   "execution_count": 10,
   "id": "372f3c88-68a7-48bb-afac-53cd4976b30a",
   "metadata": {},
   "outputs": [],
   "source": [
    "model = pickle.load(open(\"../models/model_v2-randForest_n200_maxDepth10_maxSamples085.pkl\", 'rb'))"
   ]
  },
  {
   "cell_type": "code",
   "execution_count": 12,
   "id": "18e00267-0e61-44b8-b667-ef0daae78a3e",
   "metadata": {},
   "outputs": [],
   "source": [
    "pd.read_csv(\"../spaceship-titanic/test.csv\", usecols=['PassengerId']).merge( pd.DataFrame( {'Transported':model.fit(X,y).predict(X_submission)} ),\n",
    "                                                                          left_index=True, right_index=True, how='left').\\\n",
    "    to_csv(\"../spaceship-titanic/submission.csv\", index=False)"
   ]
  },
  {
   "cell_type": "code",
   "execution_count": null,
   "id": "16d6e725-3e09-4232-b9ab-2d353cec3d24",
   "metadata": {},
   "outputs": [],
   "source": []
  }
 ],
 "metadata": {
  "kernelspec": {
   "display_name": "Python 3",
   "language": "python",
   "name": "python3"
  },
  "language_info": {
   "codemirror_mode": {
    "name": "ipython",
    "version": 3
   },
   "file_extension": ".py",
   "mimetype": "text/x-python",
   "name": "python",
   "nbconvert_exporter": "python",
   "pygments_lexer": "ipython3",
   "version": "3.8.5"
  }
 },
 "nbformat": 4,
 "nbformat_minor": 5
}
