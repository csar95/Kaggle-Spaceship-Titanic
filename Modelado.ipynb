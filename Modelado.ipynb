{
 "cells": [
  {
   "cell_type": "code",
   "execution_count": 1,
   "id": "2607a51f-e90c-42b9-a7b9-847429d776dd",
   "metadata": {},
   "outputs": [],
   "source": [
    "import pandas as pd\n",
    "pd.set_option('display.max_rows', None)\n",
    "import numpy as np\n",
    "from sklearn.ensemble import RandomForestClassifier\n",
    "from sklearn.model_selection import train_test_split, StratifiedKFold, ParameterGrid\n",
    "from sklearn.metrics import accuracy_score, classification_report\n",
    "from tqdm import tqdm\n",
    "import pickle"
   ]
  },
  {
   "cell_type": "markdown",
   "id": "ea390cef-bbb3-4fda-9ce0-eb3c0c4b9106",
   "metadata": {},
   "source": [
    "# Carga de datos"
   ]
  },
  {
   "cell_type": "code",
   "execution_count": 2,
   "id": "1860a21e-0d7d-400a-88b2-f4eedc448037",
   "metadata": {},
   "outputs": [
    {
     "name": "stdout",
     "output_type": "stream",
     "text": [
      "(8693, 10)\n"
     ]
    },
    {
     "data": {
      "text/html": [
       "<div>\n",
       "<style scoped>\n",
       "    .dataframe tbody tr th:only-of-type {\n",
       "        vertical-align: middle;\n",
       "    }\n",
       "\n",
       "    .dataframe tbody tr th {\n",
       "        vertical-align: top;\n",
       "    }\n",
       "\n",
       "    .dataframe thead th {\n",
       "        text-align: right;\n",
       "    }\n",
       "</style>\n",
       "<table border=\"1\" class=\"dataframe\">\n",
       "  <thead>\n",
       "    <tr style=\"text-align: right;\">\n",
       "      <th></th>\n",
       "      <th>HomePlanet</th>\n",
       "      <th>CryoSleep</th>\n",
       "      <th>Destination</th>\n",
       "      <th>VIP</th>\n",
       "      <th>Transported</th>\n",
       "      <th>GroupSize</th>\n",
       "      <th>CabinDeck</th>\n",
       "      <th>CabinSide</th>\n",
       "      <th>TotalExpensesBinarized</th>\n",
       "      <th>AgeBinarized</th>\n",
       "    </tr>\n",
       "  </thead>\n",
       "  <tbody>\n",
       "    <tr>\n",
       "      <th>2987</th>\n",
       "      <td>Mars</td>\n",
       "      <td>True</td>\n",
       "      <td>TRAPPIST-1e</td>\n",
       "      <td>False</td>\n",
       "      <td>True</td>\n",
       "      <td>1</td>\n",
       "      <td>F</td>\n",
       "      <td>S</td>\n",
       "      <td>ZERO</td>\n",
       "      <td>31-45</td>\n",
       "    </tr>\n",
       "    <tr>\n",
       "      <th>5971</th>\n",
       "      <td>Earth</td>\n",
       "      <td>False</td>\n",
       "      <td>TRAPPIST-1e</td>\n",
       "      <td>False</td>\n",
       "      <td>False</td>\n",
       "      <td>1</td>\n",
       "      <td>F</td>\n",
       "      <td>P</td>\n",
       "      <td>LOW</td>\n",
       "      <td>16-30</td>\n",
       "    </tr>\n",
       "    <tr>\n",
       "      <th>2185</th>\n",
       "      <td>Mars</td>\n",
       "      <td>False</td>\n",
       "      <td>TRAPPIST-1e</td>\n",
       "      <td>False</td>\n",
       "      <td>False</td>\n",
       "      <td>1</td>\n",
       "      <td>F</td>\n",
       "      <td>P</td>\n",
       "      <td>MEDIUM</td>\n",
       "      <td>46-60</td>\n",
       "    </tr>\n",
       "  </tbody>\n",
       "</table>\n",
       "</div>"
      ],
      "text/plain": [
       "     HomePlanet CryoSleep  Destination    VIP  Transported  GroupSize  \\\n",
       "2987       Mars      True  TRAPPIST-1e  False         True          1   \n",
       "5971      Earth     False  TRAPPIST-1e  False        False          1   \n",
       "2185       Mars     False  TRAPPIST-1e  False        False          1   \n",
       "\n",
       "     CabinDeck CabinSide TotalExpensesBinarized AgeBinarized  \n",
       "2987         F         S                   ZERO        31-45  \n",
       "5971         F         P                    LOW        16-30  \n",
       "2185         F         P                 MEDIUM        46-60  "
      ]
     },
     "execution_count": 2,
     "metadata": {},
     "output_type": "execute_result"
    }
   ],
   "source": [
    "train_data = pd.read_csv(\"spaceship-titanic/processed_train.csv\")\n",
    "print(train_data.shape)\n",
    "train_data.sample(3)"
   ]
  },
  {
   "cell_type": "code",
   "execution_count": 3,
   "id": "d5297e4f-bebe-4c78-9aef-7a57aabd1598",
   "metadata": {},
   "outputs": [],
   "source": [
    "train_data = pd.get_dummies(train_data, columns=['HomePlanet','CryoSleep','Destination','VIP','CabinDeck','CabinSide','TotalExpensesBinarized','AgeBinarized'])\n",
    "train_data.drop(columns=['HomePlanet_Ns/Nc','CryoSleep_False','CryoSleep_Ns/Nc','Destination_Ns/Nc','VIP_False','VIP_Ns/Nc','CabinSide_Ns/Nc','AgeBinarized_76-?'], inplace=True)"
   ]
  },
  {
   "cell_type": "code",
   "execution_count": 4,
   "id": "7f16ca54-1e81-4b0e-8810-4140eb4071e8",
   "metadata": {},
   "outputs": [],
   "source": [
    "X = train_data.drop(columns=['Transported'])\n",
    "y = train_data.Transported"
   ]
  },
  {
   "cell_type": "code",
   "execution_count": 5,
   "id": "f14159e5-d3e8-47fc-87ea-762e5f46e1d5",
   "metadata": {},
   "outputs": [
    {
     "data": {
      "text/plain": [
       "(6954, 1739, 1739)"
      ]
     },
     "execution_count": 5,
     "metadata": {},
     "output_type": "execute_result"
    }
   ],
   "source": [
    "X_train, X_test, y_train, y_test = train_test_split(X, y, test_size=0.2, random_state=42)\n",
    "len(X_train), len(X_test), len(y_test)"
   ]
  },
  {
   "cell_type": "code",
   "execution_count": 6,
   "id": "7c99acf8-a7e0-4086-8465-bb363a8e42f7",
   "metadata": {},
   "outputs": [
    {
     "data": {
      "text/plain": [
       "(4277, 10)"
      ]
     },
     "execution_count": 6,
     "metadata": {},
     "output_type": "execute_result"
    }
   ],
   "source": [
    "submission_data = pd.read_csv(\"spaceship-titanic/processed_test.csv\")\n",
    "submission_data.shape"
   ]
  },
  {
   "cell_type": "code",
   "execution_count": 7,
   "id": "d0505198-1b9d-4881-a595-f72184ebc73d",
   "metadata": {},
   "outputs": [],
   "source": [
    "submission_data = pd.get_dummies(submission_data, columns=['HomePlanet','CryoSleep','Destination','VIP','CabinDeck','CabinSide','TotalExpensesBinarized','AgeBinarized'])\n",
    "submission_data.drop(columns=['HomePlanet_Ns/Nc','CryoSleep_False','CryoSleep_Ns/Nc','Destination_Ns/Nc','VIP_False','VIP_Ns/Nc','CabinSide_Ns/Nc','AgeBinarized_76-?'], inplace=True)"
   ]
  },
  {
   "cell_type": "code",
   "execution_count": 8,
   "id": "f82712be-15b7-485d-93b9-3c589c6ad5ac",
   "metadata": {},
   "outputs": [],
   "source": [
    "X_submission = submission_data.drop(columns=['Transported'])"
   ]
  },
  {
   "cell_type": "markdown",
   "id": "8fe84f83-793d-441f-93b0-3f6796176c0f",
   "metadata": {},
   "source": [
    "# Modelado"
   ]
  },
  {
   "cell_type": "markdown",
   "id": "e6b905d3-89da-4f43-b01f-f5c691de5bba",
   "metadata": {},
   "source": [
    "## Random forest"
   ]
  },
  {
   "cell_type": "markdown",
   "id": "ba6acfce-969b-4cb1-aed2-d9010fc4875c",
   "metadata": {
    "jp-MarkdownHeadingCollapsed": true,
    "tags": []
   },
   "source": [
    "### Primer modelo"
   ]
  },
  {
   "cell_type": "code",
   "execution_count": 9,
   "id": "6647f36f-5814-45d3-ab1d-a0e2baf37cfc",
   "metadata": {},
   "outputs": [],
   "source": [
    "model = RandomForestClassifier(n_estimators=100,\n",
    "                               max_depth=3,\n",
    "                               n_jobs=-1,\n",
    "                               random_state=42,\n",
    "                               max_samples=0.7)"
   ]
  },
  {
   "cell_type": "code",
   "execution_count": 10,
   "id": "f8ea7d77-715d-4be8-abf6-d928dc930143",
   "metadata": {},
   "outputs": [],
   "source": [
    "model = model.fit(X_train, y_train)"
   ]
  },
  {
   "cell_type": "code",
   "execution_count": 11,
   "id": "4ed39e31-9b21-484c-a4ce-2413575a738d",
   "metadata": {},
   "outputs": [],
   "source": [
    "y_pred = pd.DataFrame( {'Transported':model.predict(X_test)} )"
   ]
  },
  {
   "cell_type": "code",
   "execution_count": 12,
   "id": "6368afc8-3816-446e-a62a-f2a5a8e4e5d9",
   "metadata": {},
   "outputs": [
    {
     "data": {
      "text/plain": [
       "0.7400805060379528"
      ]
     },
     "execution_count": 12,
     "metadata": {},
     "output_type": "execute_result"
    }
   ],
   "source": [
    "accuracy_score(y_test, y_pred)"
   ]
  },
  {
   "cell_type": "code",
   "execution_count": 13,
   "id": "f5c46c3a-bc90-4380-a08f-3ffdf779de9e",
   "metadata": {},
   "outputs": [
    {
     "name": "stdout",
     "output_type": "stream",
     "text": [
      "              precision    recall  f1-score   support\n",
      "\n",
      "       False       0.71      0.81      0.75       861\n",
      "        True       0.78      0.67      0.72       878\n",
      "\n",
      "    accuracy                           0.74      1739\n",
      "   macro avg       0.74      0.74      0.74      1739\n",
      "weighted avg       0.75      0.74      0.74      1739\n",
      "\n"
     ]
    }
   ],
   "source": [
    "print(classification_report(y_test, y_pred))"
   ]
  },
  {
   "cell_type": "code",
   "execution_count": 30,
   "id": "b14a8786-7fe9-4c34-b281-52b2ea276956",
   "metadata": {},
   "outputs": [],
   "source": [
    "pickle.dump(model, open('./models/model-randForest_n100_maxDepth3_maxsamples07.pkl', 'wb'))"
   ]
  },
  {
   "cell_type": "markdown",
   "id": "511c0f35-f8ec-4e33-836b-8568e973662e",
   "metadata": {
    "jp-MarkdownHeadingCollapsed": true,
    "tags": []
   },
   "source": [
    "### Cross validation"
   ]
  },
  {
   "cell_type": "code",
   "execution_count": 9,
   "id": "c973a8dc-9854-4b6f-a419-eb601a6b33e7",
   "metadata": {},
   "outputs": [],
   "source": [
    "def random_forest_cross_val(X, y, params, n_splits=3):\n",
    "    skf = StratifiedKFold(n_splits=n_splits, shuffle=True, random_state=42)\n",
    "    \n",
    "    acc = []\n",
    "    \n",
    "    for tr_ind, val_ind in skf.split(X, y):\n",
    "        X_tr = X.iloc[tr_ind]\n",
    "        y_tr = y.iloc[tr_ind]\n",
    "        \n",
    "        X_val = X.iloc[val_ind]\n",
    "        y_val = y.iloc[val_ind]\n",
    "        \n",
    "        model = RandomForestClassifier(n_estimators=params['n_estimators'],\n",
    "                                       max_depth=params['max_depth'],\n",
    "                                       max_samples=params['max_samples'],\n",
    "                                       n_jobs=-1, random_state=42)\n",
    "        \n",
    "        model.fit(X_tr, y_tr)        \n",
    "        \n",
    "        y_pred = model.predict(X_val)\n",
    "        \n",
    "        accuracy = accuracy_score(y_val, y_pred)\n",
    "        acc.append(accuracy)\n",
    "        \n",
    "    return sum(acc) / n_splits"
   ]
  },
  {
   "cell_type": "code",
   "execution_count": 10,
   "id": "6c46f80e-a593-426d-a5a0-da1ffee727c7",
   "metadata": {},
   "outputs": [],
   "source": [
    "def grid_search_CV(X, y, params_GridSearch):\n",
    "    df_acc_by_params = pd.DataFrame(columns=['n_estimators','max_depth','max_samples','accuracy'])\n",
    "        \n",
    "    for prms in tqdm( list(ParameterGrid(params_GridSearch)), ascii=True, desc='Params Tuning:' ):\n",
    "                          \n",
    "        acc = random_forest_cross_val(X, y, prms, n_splits=5)\n",
    "        \n",
    "        df_acc_by_params = pd.concat([df_acc_by_params,\n",
    "                                      pd.DataFrame(data={'n_estimators':[prms['n_estimators']], 'max_depth':[prms['max_depth']], 'max_samples':[prms['max_samples']], 'accuracy':[acc]})], \n",
    "                                     ignore_index=True)\n",
    "        \n",
    "    return df_acc_by_params"
   ]
  },
  {
   "cell_type": "code",
   "execution_count": 11,
   "id": "17d54842-21c6-4d11-84b7-392b306a3089",
   "metadata": {},
   "outputs": [],
   "source": [
    "params_GridSearch = {'n_estimators':[50,100,200],\n",
    "                     'max_depth':[3,5,8,10,13,17],\n",
    "                     'max_samples':[0.4,0.7,0.85,None]}"
   ]
  },
  {
   "cell_type": "code",
   "execution_count": 12,
   "id": "17712702-0bc7-438d-8591-b0c4c0b2f182",
   "metadata": {},
   "outputs": [
    {
     "name": "stderr",
     "output_type": "stream",
     "text": [
      "Params Tuning:: 100%|##########| 72/72 [01:36<00:00,  1.34s/it]\n"
     ]
    }
   ],
   "source": [
    "df_acc_by_params = grid_search_CV(X, y, params_GridSearch)\n",
    "df_acc_by_params['n_estimators'] = df_acc_by_params.n_estimators.astype(int)\n",
    "df_acc_by_params['max_depth'] = df_acc_by_params.max_depth.astype(int)"
   ]
  },
  {
   "cell_type": "code",
   "execution_count": 13,
   "id": "c3f7ad18-0c64-45f2-83ad-44ef3e584ff2",
   "metadata": {},
   "outputs": [
    {
     "data": {
      "text/plain": [
       "n_estimators    0.046972\n",
       "max_depth      -0.482512\n",
       "max_samples    -0.147332\n",
       "accuracy        1.000000\n",
       "Name: accuracy, dtype: float64"
      ]
     },
     "execution_count": 13,
     "metadata": {},
     "output_type": "execute_result"
    }
   ],
   "source": [
    "df_acc_by_params.corr()['accuracy']"
   ]
  },
  {
   "cell_type": "code",
   "execution_count": 14,
   "id": "2076f6c4-b281-49e3-bd4e-c4ca1723debd",
   "metadata": {},
   "outputs": [
    {
     "data": {
      "text/html": [
       "<div>\n",
       "<style scoped>\n",
       "    .dataframe tbody tr th:only-of-type {\n",
       "        vertical-align: middle;\n",
       "    }\n",
       "\n",
       "    .dataframe tbody tr th {\n",
       "        vertical-align: top;\n",
       "    }\n",
       "\n",
       "    .dataframe thead th {\n",
       "        text-align: right;\n",
       "    }\n",
       "</style>\n",
       "<table border=\"1\" class=\"dataframe\">\n",
       "  <thead>\n",
       "    <tr style=\"text-align: right;\">\n",
       "      <th></th>\n",
       "      <th>n_estimators</th>\n",
       "      <th>max_depth</th>\n",
       "      <th>max_samples</th>\n",
       "      <th>accuracy</th>\n",
       "    </tr>\n",
       "  </thead>\n",
       "  <tbody>\n",
       "    <tr>\n",
       "      <th>38</th>\n",
       "      <td>200</td>\n",
       "      <td>10</td>\n",
       "      <td>0.4</td>\n",
       "      <td>0.748992</td>\n",
       "    </tr>\n",
       "  </tbody>\n",
       "</table>\n",
       "</div>"
      ],
      "text/plain": [
       "    n_estimators  max_depth  max_samples  accuracy\n",
       "38           200         10          0.4  0.748992"
      ]
     },
     "execution_count": 14,
     "metadata": {},
     "output_type": "execute_result"
    }
   ],
   "source": [
    "best_params = df_acc_by_params[ df_acc_by_params.accuracy==df_acc_by_params.accuracy.max() ]\n",
    "best_params"
   ]
  },
  {
   "cell_type": "code",
   "execution_count": 20,
   "id": "e47b46dc-91c1-4cd3-bd43-79389e8de5f6",
   "metadata": {},
   "outputs": [],
   "source": [
    "model = RandomForestClassifier(n_estimators=int(best_params.n_estimators),\n",
    "                               max_depth=int(best_params.max_depth),\n",
    "                               max_samples=float(best_params.max_samples),\n",
    "                               n_jobs=-1, random_state=42)\n",
    "model = model.fit(X_train, y_train)"
   ]
  },
  {
   "cell_type": "code",
   "execution_count": 21,
   "id": "7c202c78-6371-4a58-a02e-ddc859e339ad",
   "metadata": {},
   "outputs": [],
   "source": [
    "y_pred = model.predict(X_test)"
   ]
  },
  {
   "cell_type": "code",
   "execution_count": 22,
   "id": "d700ca55-1932-42b3-9c1e-6e98d64503cd",
   "metadata": {},
   "outputs": [
    {
     "data": {
      "text/plain": [
       "0.7412305922944221"
      ]
     },
     "execution_count": 22,
     "metadata": {},
     "output_type": "execute_result"
    }
   ],
   "source": [
    "accuracy_score(y_test, y_pred)"
   ]
  },
  {
   "cell_type": "code",
   "execution_count": 23,
   "id": "f7f27d63-1711-4f95-a7d0-a4d6aa9126dc",
   "metadata": {},
   "outputs": [
    {
     "name": "stdout",
     "output_type": "stream",
     "text": [
      "              precision    recall  f1-score   support\n",
      "\n",
      "       False       0.71      0.81      0.76       861\n",
      "        True       0.78      0.67      0.72       878\n",
      "\n",
      "    accuracy                           0.74      1739\n",
      "   macro avg       0.75      0.74      0.74      1739\n",
      "weighted avg       0.75      0.74      0.74      1739\n",
      "\n"
     ]
    }
   ],
   "source": [
    "print(classification_report(y_test, y_pred))"
   ]
  },
  {
   "cell_type": "code",
   "execution_count": 24,
   "id": "ca79804b-0cd3-4502-8720-d6fa89bad04d",
   "metadata": {},
   "outputs": [],
   "source": [
    "pickle.dump(model, open('./models/model-randForest_n200_maxDepth10_maxSamples04.pkl', 'wb'))"
   ]
  },
  {
   "cell_type": "markdown",
   "id": "079bb3f4-9c4c-4448-8252-62f790dceb96",
   "metadata": {},
   "source": [
    "## Catboost\n",
    "\n",
    "Puede trabajar con variables categóricas."
   ]
  },
  {
   "cell_type": "markdown",
   "id": "a4b6ece3-dcfd-4457-94c5-e4cc4017d77e",
   "metadata": {},
   "source": [
    "---\n",
    "---\n",
    "---"
   ]
  },
  {
   "cell_type": "code",
   "execution_count": 25,
   "id": "18e00267-0e61-44b8-b667-ef0daae78a3e",
   "metadata": {},
   "outputs": [],
   "source": [
    "pd.read_csv(\"spaceship-titanic/test.csv\", usecols=['PassengerId']).merge( pd.DataFrame( {'Transported':model.fit(X, y).predict(X_submission)} ),\n",
    "                                                                          left_index=True, right_index=True, how='left').\\\n",
    "    to_csv(\"spaceship-titanic/submission.csv\", index=False)"
   ]
  },
  {
   "cell_type": "code",
   "execution_count": null,
   "id": "16d6e725-3e09-4232-b9ab-2d353cec3d24",
   "metadata": {},
   "outputs": [],
   "source": []
  }
 ],
 "metadata": {
  "kernelspec": {
   "display_name": "Python 3",
   "language": "python",
   "name": "python3"
  },
  "language_info": {
   "codemirror_mode": {
    "name": "ipython",
    "version": 3
   },
   "file_extension": ".py",
   "mimetype": "text/x-python",
   "name": "python",
   "nbconvert_exporter": "python",
   "pygments_lexer": "ipython3",
   "version": "3.8.5"
  }
 },
 "nbformat": 4,
 "nbformat_minor": 5
}
